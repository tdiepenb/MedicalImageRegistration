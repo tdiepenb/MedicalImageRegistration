{
 "cells": [
  {
   "cell_type": "code",
   "id": "initial_id",
   "metadata": {
    "collapsed": true,
    "ExecuteTime": {
     "end_time": "2024-08-05T10:42:19.704870Z",
     "start_time": "2024-08-05T10:41:47.181055Z"
    }
   },
   "source": [
    "import nibabel as nib\n",
    "import json\n",
    "import os\n",
    "import numpy as np\n",
    "import matplotlib.pyplot as plt\n",
    "import glob"
   ],
   "outputs": [],
   "execution_count": 1
  },
  {
   "metadata": {
    "ExecuteTime": {
     "end_time": "2024-08-05T10:42:19.716869Z",
     "start_time": "2024-08-05T10:42:19.706869Z"
    }
   },
   "cell_type": "code",
   "source": [
    "## Utils\n",
    "def load_json_file(filepath):\n",
    "    with open(filepath, 'r') as file:\n",
    "        data = json.load(file)\n",
    "    return data\n",
    "\n",
    "\n",
    "def filter_file_paths_from_json(jsonData, filterString='0001'):\n",
    "    filteredData = []\n",
    "    for i in range(len(jsonData['training_paired_images'])):\n",
    "        tmproot, tmpext = os.path.splitext(jsonData['training_paired_images'][i]['moving'])\n",
    "        root, ext = os.path.splitext(tmproot)\n",
    "        splitRoot = root.split('_')\n",
    "        if splitRoot[-1] == filterString:\n",
    "            filteredData.append(jsonData['training_paired_images'][i])\n",
    "\n",
    "    return filteredData\n",
    "\n",
    "\n",
    "def load_data_from_filtered_paths(paths, dataFolderPath):\n",
    "    fixedData = []\n",
    "    movingData = []\n",
    "    for image in paths:\n",
    "        fixedImg = nib.load(dataFolderPath + image['fixed'].removeprefix('.')).get_fdata()\n",
    "        fixedData.append(fixedImg)\n",
    "        movingImg = nib.load(dataFolderPath + image['moving'].removeprefix('.')).get_fdata()\n",
    "        movingData.append(movingImg)\n",
    "\n",
    "    return fixedData, movingData\n",
    "\n"
   ],
   "id": "5c235cbd291ccf11",
   "outputs": [],
   "execution_count": 2
  },
  {
   "metadata": {
    "ExecuteTime": {
     "end_time": "2024-08-05T10:42:19.724263Z",
     "start_time": "2024-08-05T10:42:19.717870Z"
    }
   },
   "cell_type": "code",
   "source": [
    "dataFolder = './data/ReMIND2Reg'\n",
    "jsonPath = dataFolder + '/ReMIND2Reg_dataset.json'"
   ],
   "id": "bae3a6f630d3cc75",
   "outputs": [],
   "execution_count": 3
  },
  {
   "metadata": {
    "ExecuteTime": {
     "end_time": "2024-08-05T10:42:20.553015Z",
     "start_time": "2024-08-05T10:42:19.725263Z"
    }
   },
   "cell_type": "code",
   "source": "jsonData = load_json_file(jsonPath)",
   "id": "32a90fc49e21430c",
   "outputs": [],
   "execution_count": 4
  },
  {
   "metadata": {
    "ExecuteTime": {
     "end_time": "2024-08-05T10:42:20.569944Z",
     "start_time": "2024-08-05T10:42:20.554542Z"
    }
   },
   "cell_type": "code",
   "source": [
    "filteredData = filter_file_paths_from_json(jsonData, '0001')\n",
    "filteredData"
   ],
   "id": "41d6a037fa9dfc9c",
   "outputs": [
    {
     "data": {
      "text/plain": [
       "[{'fixed': './imagesTr/ReMIND2Reg_0000_0000.nii.gz',\n",
       "  'moving': './imagesTr/ReMIND2Reg_0000_0001.nii.gz'},\n",
       " {'fixed': './imagesTr/ReMIND2Reg_0001_0000.nii.gz',\n",
       "  'moving': './imagesTr/ReMIND2Reg_0001_0001.nii.gz'},\n",
       " {'fixed': './imagesTr/ReMIND2Reg_0002_0000.nii.gz',\n",
       "  'moving': './imagesTr/ReMIND2Reg_0002_0001.nii.gz'},\n",
       " {'fixed': './imagesTr/ReMIND2Reg_0003_0000.nii.gz',\n",
       "  'moving': './imagesTr/ReMIND2Reg_0003_0001.nii.gz'},\n",
       " {'fixed': './imagesTr/ReMIND2Reg_0004_0000.nii.gz',\n",
       "  'moving': './imagesTr/ReMIND2Reg_0004_0001.nii.gz'},\n",
       " {'fixed': './imagesTr/ReMIND2Reg_0005_0000.nii.gz',\n",
       "  'moving': './imagesTr/ReMIND2Reg_0005_0001.nii.gz'},\n",
       " {'fixed': './imagesTr/ReMIND2Reg_0006_0000.nii.gz',\n",
       "  'moving': './imagesTr/ReMIND2Reg_0006_0001.nii.gz'},\n",
       " {'fixed': './imagesTr/ReMIND2Reg_0008_0000.nii.gz',\n",
       "  'moving': './imagesTr/ReMIND2Reg_0008_0001.nii.gz'},\n",
       " {'fixed': './imagesTr/ReMIND2Reg_0009_0000.nii.gz',\n",
       "  'moving': './imagesTr/ReMIND2Reg_0009_0001.nii.gz'},\n",
       " {'fixed': './imagesTr/ReMIND2Reg_0010_0000.nii.gz',\n",
       "  'moving': './imagesTr/ReMIND2Reg_0010_0001.nii.gz'},\n",
       " {'fixed': './imagesTr/ReMIND2Reg_0011_0000.nii.gz',\n",
       "  'moving': './imagesTr/ReMIND2Reg_0011_0001.nii.gz'},\n",
       " {'fixed': './imagesTr/ReMIND2Reg_0013_0000.nii.gz',\n",
       "  'moving': './imagesTr/ReMIND2Reg_0013_0001.nii.gz'},\n",
       " {'fixed': './imagesTr/ReMIND2Reg_0014_0000.nii.gz',\n",
       "  'moving': './imagesTr/ReMIND2Reg_0014_0001.nii.gz'},\n",
       " {'fixed': './imagesTr/ReMIND2Reg_0015_0000.nii.gz',\n",
       "  'moving': './imagesTr/ReMIND2Reg_0015_0001.nii.gz'},\n",
       " {'fixed': './imagesTr/ReMIND2Reg_0016_0000.nii.gz',\n",
       "  'moving': './imagesTr/ReMIND2Reg_0016_0001.nii.gz'},\n",
       " {'fixed': './imagesTr/ReMIND2Reg_0017_0000.nii.gz',\n",
       "  'moving': './imagesTr/ReMIND2Reg_0017_0001.nii.gz'},\n",
       " {'fixed': './imagesTr/ReMIND2Reg_0018_0000.nii.gz',\n",
       "  'moving': './imagesTr/ReMIND2Reg_0018_0001.nii.gz'},\n",
       " {'fixed': './imagesTr/ReMIND2Reg_0019_0000.nii.gz',\n",
       "  'moving': './imagesTr/ReMIND2Reg_0019_0001.nii.gz'},\n",
       " {'fixed': './imagesTr/ReMIND2Reg_0020_0000.nii.gz',\n",
       "  'moving': './imagesTr/ReMIND2Reg_0020_0001.nii.gz'},\n",
       " {'fixed': './imagesTr/ReMIND2Reg_0021_0000.nii.gz',\n",
       "  'moving': './imagesTr/ReMIND2Reg_0021_0001.nii.gz'},\n",
       " {'fixed': './imagesTr/ReMIND2Reg_0022_0000.nii.gz',\n",
       "  'moving': './imagesTr/ReMIND2Reg_0022_0001.nii.gz'},\n",
       " {'fixed': './imagesTr/ReMIND2Reg_0023_0000.nii.gz',\n",
       "  'moving': './imagesTr/ReMIND2Reg_0023_0001.nii.gz'},\n",
       " {'fixed': './imagesTr/ReMIND2Reg_0024_0000.nii.gz',\n",
       "  'moving': './imagesTr/ReMIND2Reg_0024_0001.nii.gz'},\n",
       " {'fixed': './imagesTr/ReMIND2Reg_0025_0000.nii.gz',\n",
       "  'moving': './imagesTr/ReMIND2Reg_0025_0001.nii.gz'},\n",
       " {'fixed': './imagesTr/ReMIND2Reg_0026_0000.nii.gz',\n",
       "  'moving': './imagesTr/ReMIND2Reg_0026_0001.nii.gz'},\n",
       " {'fixed': './imagesTr/ReMIND2Reg_0027_0000.nii.gz',\n",
       "  'moving': './imagesTr/ReMIND2Reg_0027_0001.nii.gz'},\n",
       " {'fixed': './imagesTr/ReMIND2Reg_0028_0000.nii.gz',\n",
       "  'moving': './imagesTr/ReMIND2Reg_0028_0001.nii.gz'},\n",
       " {'fixed': './imagesTr/ReMIND2Reg_0029_0000.nii.gz',\n",
       "  'moving': './imagesTr/ReMIND2Reg_0029_0001.nii.gz'},\n",
       " {'fixed': './imagesTr/ReMIND2Reg_0030_0000.nii.gz',\n",
       "  'moving': './imagesTr/ReMIND2Reg_0030_0001.nii.gz'},\n",
       " {'fixed': './imagesTr/ReMIND2Reg_0031_0000.nii.gz',\n",
       "  'moving': './imagesTr/ReMIND2Reg_0031_0001.nii.gz'},\n",
       " {'fixed': './imagesTr/ReMIND2Reg_0032_0000.nii.gz',\n",
       "  'moving': './imagesTr/ReMIND2Reg_0032_0001.nii.gz'},\n",
       " {'fixed': './imagesTr/ReMIND2Reg_0033_0000.nii.gz',\n",
       "  'moving': './imagesTr/ReMIND2Reg_0033_0001.nii.gz'},\n",
       " {'fixed': './imagesTr/ReMIND2Reg_0034_0000.nii.gz',\n",
       "  'moving': './imagesTr/ReMIND2Reg_0034_0001.nii.gz'},\n",
       " {'fixed': './imagesTr/ReMIND2Reg_0035_0000.nii.gz',\n",
       "  'moving': './imagesTr/ReMIND2Reg_0035_0001.nii.gz'},\n",
       " {'fixed': './imagesTr/ReMIND2Reg_0036_0000.nii.gz',\n",
       "  'moving': './imagesTr/ReMIND2Reg_0036_0001.nii.gz'},\n",
       " {'fixed': './imagesTr/ReMIND2Reg_0037_0000.nii.gz',\n",
       "  'moving': './imagesTr/ReMIND2Reg_0037_0001.nii.gz'},\n",
       " {'fixed': './imagesTr/ReMIND2Reg_0038_0000.nii.gz',\n",
       "  'moving': './imagesTr/ReMIND2Reg_0038_0001.nii.gz'},\n",
       " {'fixed': './imagesTr/ReMIND2Reg_0039_0000.nii.gz',\n",
       "  'moving': './imagesTr/ReMIND2Reg_0039_0001.nii.gz'},\n",
       " {'fixed': './imagesTr/ReMIND2Reg_0040_0000.nii.gz',\n",
       "  'moving': './imagesTr/ReMIND2Reg_0040_0001.nii.gz'},\n",
       " {'fixed': './imagesTr/ReMIND2Reg_0041_0000.nii.gz',\n",
       "  'moving': './imagesTr/ReMIND2Reg_0041_0001.nii.gz'},\n",
       " {'fixed': './imagesTr/ReMIND2Reg_0042_0000.nii.gz',\n",
       "  'moving': './imagesTr/ReMIND2Reg_0042_0001.nii.gz'},\n",
       " {'fixed': './imagesTr/ReMIND2Reg_0043_0000.nii.gz',\n",
       "  'moving': './imagesTr/ReMIND2Reg_0043_0001.nii.gz'},\n",
       " {'fixed': './imagesTr/ReMIND2Reg_0044_0000.nii.gz',\n",
       "  'moving': './imagesTr/ReMIND2Reg_0044_0001.nii.gz'},\n",
       " {'fixed': './imagesTr/ReMIND2Reg_0045_0000.nii.gz',\n",
       "  'moving': './imagesTr/ReMIND2Reg_0045_0001.nii.gz'},\n",
       " {'fixed': './imagesTr/ReMIND2Reg_0046_0000.nii.gz',\n",
       "  'moving': './imagesTr/ReMIND2Reg_0046_0001.nii.gz'},\n",
       " {'fixed': './imagesTr/ReMIND2Reg_0047_0000.nii.gz',\n",
       "  'moving': './imagesTr/ReMIND2Reg_0047_0001.nii.gz'},\n",
       " {'fixed': './imagesTr/ReMIND2Reg_0048_0000.nii.gz',\n",
       "  'moving': './imagesTr/ReMIND2Reg_0048_0001.nii.gz'},\n",
       " {'fixed': './imagesTr/ReMIND2Reg_0050_0000.nii.gz',\n",
       "  'moving': './imagesTr/ReMIND2Reg_0050_0001.nii.gz'},\n",
       " {'fixed': './imagesTr/ReMIND2Reg_0051_0000.nii.gz',\n",
       "  'moving': './imagesTr/ReMIND2Reg_0051_0001.nii.gz'},\n",
       " {'fixed': './imagesTr/ReMIND2Reg_0052_0000.nii.gz',\n",
       "  'moving': './imagesTr/ReMIND2Reg_0052_0001.nii.gz'},\n",
       " {'fixed': './imagesTr/ReMIND2Reg_0053_0000.nii.gz',\n",
       "  'moving': './imagesTr/ReMIND2Reg_0053_0001.nii.gz'},\n",
       " {'fixed': './imagesTr/ReMIND2Reg_0054_0000.nii.gz',\n",
       "  'moving': './imagesTr/ReMIND2Reg_0054_0001.nii.gz'},\n",
       " {'fixed': './imagesTr/ReMIND2Reg_0055_0000.nii.gz',\n",
       "  'moving': './imagesTr/ReMIND2Reg_0055_0001.nii.gz'},\n",
       " {'fixed': './imagesTr/ReMIND2Reg_0056_0000.nii.gz',\n",
       "  'moving': './imagesTr/ReMIND2Reg_0056_0001.nii.gz'},\n",
       " {'fixed': './imagesTr/ReMIND2Reg_0057_0000.nii.gz',\n",
       "  'moving': './imagesTr/ReMIND2Reg_0057_0001.nii.gz'},\n",
       " {'fixed': './imagesTr/ReMIND2Reg_0058_0000.nii.gz',\n",
       "  'moving': './imagesTr/ReMIND2Reg_0058_0001.nii.gz'},\n",
       " {'fixed': './imagesTr/ReMIND2Reg_0059_0000.nii.gz',\n",
       "  'moving': './imagesTr/ReMIND2Reg_0059_0001.nii.gz'},\n",
       " {'fixed': './imagesTr/ReMIND2Reg_0060_0000.nii.gz',\n",
       "  'moving': './imagesTr/ReMIND2Reg_0060_0001.nii.gz'},\n",
       " {'fixed': './imagesTr/ReMIND2Reg_0061_0000.nii.gz',\n",
       "  'moving': './imagesTr/ReMIND2Reg_0061_0001.nii.gz'},\n",
       " {'fixed': './imagesTr/ReMIND2Reg_0062_0000.nii.gz',\n",
       "  'moving': './imagesTr/ReMIND2Reg_0062_0001.nii.gz'},\n",
       " {'fixed': './imagesTr/ReMIND2Reg_0063_0000.nii.gz',\n",
       "  'moving': './imagesTr/ReMIND2Reg_0063_0001.nii.gz'},\n",
       " {'fixed': './imagesTr/ReMIND2Reg_0064_0000.nii.gz',\n",
       "  'moving': './imagesTr/ReMIND2Reg_0064_0001.nii.gz'},\n",
       " {'fixed': './imagesTr/ReMIND2Reg_0065_0000.nii.gz',\n",
       "  'moving': './imagesTr/ReMIND2Reg_0065_0001.nii.gz'},\n",
       " {'fixed': './imagesTr/ReMIND2Reg_0066_0000.nii.gz',\n",
       "  'moving': './imagesTr/ReMIND2Reg_0066_0001.nii.gz'},\n",
       " {'fixed': './imagesTr/ReMIND2Reg_0067_0000.nii.gz',\n",
       "  'moving': './imagesTr/ReMIND2Reg_0067_0001.nii.gz'},\n",
       " {'fixed': './imagesTr/ReMIND2Reg_0068_0000.nii.gz',\n",
       "  'moving': './imagesTr/ReMIND2Reg_0068_0001.nii.gz'},\n",
       " {'fixed': './imagesTr/ReMIND2Reg_0069_0000.nii.gz',\n",
       "  'moving': './imagesTr/ReMIND2Reg_0069_0001.nii.gz'},\n",
       " {'fixed': './imagesTr/ReMIND2Reg_0070_0000.nii.gz',\n",
       "  'moving': './imagesTr/ReMIND2Reg_0070_0001.nii.gz'},\n",
       " {'fixed': './imagesTr/ReMIND2Reg_0071_0000.nii.gz',\n",
       "  'moving': './imagesTr/ReMIND2Reg_0071_0001.nii.gz'},\n",
       " {'fixed': './imagesTr/ReMIND2Reg_0072_0000.nii.gz',\n",
       "  'moving': './imagesTr/ReMIND2Reg_0072_0001.nii.gz'},\n",
       " {'fixed': './imagesTr/ReMIND2Reg_0073_0000.nii.gz',\n",
       "  'moving': './imagesTr/ReMIND2Reg_0073_0001.nii.gz'},\n",
       " {'fixed': './imagesTr/ReMIND2Reg_0074_0000.nii.gz',\n",
       "  'moving': './imagesTr/ReMIND2Reg_0074_0001.nii.gz'},\n",
       " {'fixed': './imagesTr/ReMIND2Reg_0075_0000.nii.gz',\n",
       "  'moving': './imagesTr/ReMIND2Reg_0075_0001.nii.gz'},\n",
       " {'fixed': './imagesTr/ReMIND2Reg_0076_0000.nii.gz',\n",
       "  'moving': './imagesTr/ReMIND2Reg_0076_0001.nii.gz'},\n",
       " {'fixed': './imagesTr/ReMIND2Reg_0077_0000.nii.gz',\n",
       "  'moving': './imagesTr/ReMIND2Reg_0077_0001.nii.gz'},\n",
       " {'fixed': './imagesTr/ReMIND2Reg_0078_0000.nii.gz',\n",
       "  'moving': './imagesTr/ReMIND2Reg_0078_0001.nii.gz'},\n",
       " {'fixed': './imagesTr/ReMIND2Reg_0080_0000.nii.gz',\n",
       "  'moving': './imagesTr/ReMIND2Reg_0080_0001.nii.gz'},\n",
       " {'fixed': './imagesTr/ReMIND2Reg_0081_0000.nii.gz',\n",
       "  'moving': './imagesTr/ReMIND2Reg_0081_0001.nii.gz'},\n",
       " {'fixed': './imagesTr/ReMIND2Reg_0082_0000.nii.gz',\n",
       "  'moving': './imagesTr/ReMIND2Reg_0082_0001.nii.gz'},\n",
       " {'fixed': './imagesTr/ReMIND2Reg_0083_0000.nii.gz',\n",
       "  'moving': './imagesTr/ReMIND2Reg_0083_0001.nii.gz'},\n",
       " {'fixed': './imagesTr/ReMIND2Reg_0084_0000.nii.gz',\n",
       "  'moving': './imagesTr/ReMIND2Reg_0084_0001.nii.gz'},\n",
       " {'fixed': './imagesTr/ReMIND2Reg_0085_0000.nii.gz',\n",
       "  'moving': './imagesTr/ReMIND2Reg_0085_0001.nii.gz'},\n",
       " {'fixed': './imagesTr/ReMIND2Reg_0087_0000.nii.gz',\n",
       "  'moving': './imagesTr/ReMIND2Reg_0087_0001.nii.gz'},\n",
       " {'fixed': './imagesTr/ReMIND2Reg_0088_0000.nii.gz',\n",
       "  'moving': './imagesTr/ReMIND2Reg_0088_0001.nii.gz'},\n",
       " {'fixed': './imagesTr/ReMIND2Reg_0089_0000.nii.gz',\n",
       "  'moving': './imagesTr/ReMIND2Reg_0089_0001.nii.gz'},\n",
       " {'fixed': './imagesTr/ReMIND2Reg_0090_0000.nii.gz',\n",
       "  'moving': './imagesTr/ReMIND2Reg_0090_0001.nii.gz'},\n",
       " {'fixed': './imagesTr/ReMIND2Reg_0091_0000.nii.gz',\n",
       "  'moving': './imagesTr/ReMIND2Reg_0091_0001.nii.gz'},\n",
       " {'fixed': './imagesTr/ReMIND2Reg_0092_0000.nii.gz',\n",
       "  'moving': './imagesTr/ReMIND2Reg_0092_0001.nii.gz'},\n",
       " {'fixed': './imagesTr/ReMIND2Reg_0094_0000.nii.gz',\n",
       "  'moving': './imagesTr/ReMIND2Reg_0094_0001.nii.gz'},\n",
       " {'fixed': './imagesTr/ReMIND2Reg_0095_0000.nii.gz',\n",
       "  'moving': './imagesTr/ReMIND2Reg_0095_0001.nii.gz'},\n",
       " {'fixed': './imagesTr/ReMIND2Reg_0096_0000.nii.gz',\n",
       "  'moving': './imagesTr/ReMIND2Reg_0096_0001.nii.gz'},\n",
       " {'fixed': './imagesTr/ReMIND2Reg_0097_0000.nii.gz',\n",
       "  'moving': './imagesTr/ReMIND2Reg_0097_0001.nii.gz'},\n",
       " {'fixed': './imagesTr/ReMIND2Reg_0098_0000.nii.gz',\n",
       "  'moving': './imagesTr/ReMIND2Reg_0098_0001.nii.gz'}]"
      ]
     },
     "execution_count": 5,
     "metadata": {},
     "output_type": "execute_result"
    }
   ],
   "execution_count": 5
  },
  {
   "metadata": {
    "ExecuteTime": {
     "end_time": "2024-08-05T10:50:06.987344Z",
     "start_time": "2024-08-05T10:42:20.570940Z"
    }
   },
   "cell_type": "code",
   "source": [
    "fixedData, movingData = load_data_from_filtered_paths(filteredData, dataFolder)\n",
    "\n",
    "print(len(fixedData))\n",
    "print(len(movingData))"
   ],
   "id": "247c07399c9c41c5",
   "outputs": [
    {
     "name": "stdout",
     "output_type": "stream",
     "text": [
      "93\n",
      "93\n"
     ]
    }
   ],
   "execution_count": 6
  },
  {
   "metadata": {
    "ExecuteTime": {
     "end_time": "2024-08-05T10:50:07.100295Z",
     "start_time": "2024-08-05T10:50:07.034344Z"
    }
   },
   "cell_type": "code",
   "source": "fixedData[0].shape",
   "id": "fcb8510506c28779",
   "outputs": [
    {
     "data": {
      "text/plain": [
       "(256, 256, 256)"
      ]
     },
     "execution_count": 7,
     "metadata": {},
     "output_type": "execute_result"
    }
   ],
   "execution_count": 7
  },
  {
   "metadata": {
    "ExecuteTime": {
     "end_time": "2024-08-05T10:50:07.156285Z",
     "start_time": "2024-08-05T10:50:07.103285Z"
    }
   },
   "cell_type": "code",
   "source": [
    "image = 0\n",
    "slice = 128"
   ],
   "id": "66feae0d878da310",
   "outputs": [],
   "execution_count": 8
  },
  {
   "metadata": {
    "ExecuteTime": {
     "end_time": "2024-08-05T10:52:31.651705Z",
     "start_time": "2024-08-05T10:50:07.157805Z"
    }
   },
   "cell_type": "code",
   "source": [
    "fixedData = np.moveaxis(fixedData,2,1)\n",
    "movingData = np.moveaxis(movingData,2,1)"
   ],
   "id": "d66a0b6313b29c42",
   "outputs": [
    {
     "ename": "MemoryError",
     "evalue": "Unable to allocate 11.6 GiB for an array with shape (93, 256, 256, 256) and data type float64",
     "output_type": "error",
     "traceback": [
      "\u001B[1;31m---------------------------------------------------------------------------\u001B[0m",
      "\u001B[1;31mAttributeError\u001B[0m                            Traceback (most recent call last)",
      "File \u001B[1;32mF:\\git\\CV\\MedicalImageRegistration\\.venv\\Lib\\site-packages\\numpy\\_core\\numeric.py:1488\u001B[0m, in \u001B[0;36mmoveaxis\u001B[1;34m(a, source, destination)\u001B[0m\n\u001B[0;32m   1486\u001B[0m \u001B[38;5;28;01mtry\u001B[39;00m:\n\u001B[0;32m   1487\u001B[0m     \u001B[38;5;66;03m# allow duck-array types if they define transpose\u001B[39;00m\n\u001B[1;32m-> 1488\u001B[0m     transpose \u001B[38;5;241m=\u001B[39m \u001B[43ma\u001B[49m\u001B[38;5;241;43m.\u001B[39;49m\u001B[43mtranspose\u001B[49m\n\u001B[0;32m   1489\u001B[0m \u001B[38;5;28;01mexcept\u001B[39;00m \u001B[38;5;167;01mAttributeError\u001B[39;00m:\n",
      "\u001B[1;31mAttributeError\u001B[0m: 'list' object has no attribute 'transpose'",
      "\nDuring handling of the above exception, another exception occurred:\n",
      "\u001B[1;31mMemoryError\u001B[0m                               Traceback (most recent call last)",
      "Cell \u001B[1;32mIn[9], line 2\u001B[0m\n\u001B[0;32m      1\u001B[0m movedFixed \u001B[38;5;241m=\u001B[39m np\u001B[38;5;241m.\u001B[39mmoveaxis(fixedData,\u001B[38;5;241m2\u001B[39m,\u001B[38;5;241m1\u001B[39m)\n\u001B[1;32m----> 2\u001B[0m movedMovingData \u001B[38;5;241m=\u001B[39m \u001B[43mnp\u001B[49m\u001B[38;5;241;43m.\u001B[39;49m\u001B[43mmoveaxis\u001B[49m\u001B[43m(\u001B[49m\u001B[43mmovingData\u001B[49m\u001B[43m,\u001B[49m\u001B[38;5;241;43m2\u001B[39;49m\u001B[43m,\u001B[49m\u001B[38;5;241;43m1\u001B[39;49m\u001B[43m)\u001B[49m\n",
      "File \u001B[1;32mF:\\git\\CV\\MedicalImageRegistration\\.venv\\Lib\\site-packages\\numpy\\_core\\numeric.py:1490\u001B[0m, in \u001B[0;36mmoveaxis\u001B[1;34m(a, source, destination)\u001B[0m\n\u001B[0;32m   1488\u001B[0m     transpose \u001B[38;5;241m=\u001B[39m a\u001B[38;5;241m.\u001B[39mtranspose\n\u001B[0;32m   1489\u001B[0m \u001B[38;5;28;01mexcept\u001B[39;00m \u001B[38;5;167;01mAttributeError\u001B[39;00m:\n\u001B[1;32m-> 1490\u001B[0m     a \u001B[38;5;241m=\u001B[39m \u001B[43masarray\u001B[49m\u001B[43m(\u001B[49m\u001B[43ma\u001B[49m\u001B[43m)\u001B[49m\n\u001B[0;32m   1491\u001B[0m     transpose \u001B[38;5;241m=\u001B[39m a\u001B[38;5;241m.\u001B[39mtranspose\n\u001B[0;32m   1493\u001B[0m source \u001B[38;5;241m=\u001B[39m normalize_axis_tuple(source, a\u001B[38;5;241m.\u001B[39mndim, \u001B[38;5;124m'\u001B[39m\u001B[38;5;124msource\u001B[39m\u001B[38;5;124m'\u001B[39m)\n",
      "\u001B[1;31mMemoryError\u001B[0m: Unable to allocate 11.6 GiB for an array with shape (93, 256, 256, 256) and data type float64"
     ]
    }
   ],
   "execution_count": 9
  },
  {
   "metadata": {},
   "cell_type": "code",
   "source": [
    "fig, axes = plt.subplots(ncols=2, figsize=(16, 8))\n",
    "axes[0].imshow(fixedData[image][slice], cmap=\"gray\")\n",
    "axes[0].axis(\"off\")\n",
    "axes[1].imshow(movingData[image][slice], cmap=\"gray\")\n",
    "axes[1].axis(\"off\")"
   ],
   "id": "45ecd9dbadf2a1e4",
   "outputs": [],
   "execution_count": null
  },
  {
   "metadata": {
    "ExecuteTime": {
     "end_time": "2024-08-05T10:06:09.221166Z",
     "start_time": "2024-08-05T10:05:50.472265Z"
    }
   },
   "cell_type": "code",
   "source": [
    "indeces = np.arange(100,129, 1)\n",
    "fig, axes = plt.subplots(nrows=len(indeces), ncols=2, figsize=(16, 8 * len(indeces)))\n",
    "\n",
    "\n",
    "for idx, i in enumerate(indeces):\n",
    "    axes[idx, 0].imshow(fixedData[image][:][i], cmap=\"gray\")\n",
    "    axes[idx, 0].axis(\"off\")\n",
    "    axes[idx, 1].imshow(movingData[image][:][i], cmap=\"gray\")\n",
    "    axes[idx, 1].axis(\"off\")\n",
    "\n",
    "plt.tight_layout()\n",
    "plt.show()"
   ],
   "id": "8e0938e35087abbc",
   "outputs": [
    {
     "ename": "KeyboardInterrupt",
     "evalue": "",
     "output_type": "error",
     "traceback": [
      "\u001B[1;31m---------------------------------------------------------------------------\u001B[0m",
      "\u001B[1;31mKeyboardInterrupt\u001B[0m                         Traceback (most recent call last)",
      "Cell \u001B[1;32mIn[11], line 12\u001B[0m\n\u001B[0;32m      9\u001B[0m     axes[idx, \u001B[38;5;241m1\u001B[39m]\u001B[38;5;241m.\u001B[39maxis(\u001B[38;5;124m\"\u001B[39m\u001B[38;5;124moff\u001B[39m\u001B[38;5;124m\"\u001B[39m)\n\u001B[0;32m     11\u001B[0m plt\u001B[38;5;241m.\u001B[39mtight_layout()\n\u001B[1;32m---> 12\u001B[0m \u001B[43mplt\u001B[49m\u001B[38;5;241;43m.\u001B[39;49m\u001B[43mshow\u001B[49m\u001B[43m(\u001B[49m\u001B[43m)\u001B[49m\n",
      "File \u001B[1;32mF:\\git\\CV\\MedicalImageRegistration\\.venv\\Lib\\site-packages\\matplotlib\\pyplot.py:612\u001B[0m, in \u001B[0;36mshow\u001B[1;34m(*args, **kwargs)\u001B[0m\n\u001B[0;32m    568\u001B[0m \u001B[38;5;250m\u001B[39m\u001B[38;5;124;03m\"\"\"\u001B[39;00m\n\u001B[0;32m    569\u001B[0m \u001B[38;5;124;03mDisplay all open figures.\u001B[39;00m\n\u001B[0;32m    570\u001B[0m \n\u001B[1;32m   (...)\u001B[0m\n\u001B[0;32m    609\u001B[0m \u001B[38;5;124;03mexplicitly there.\u001B[39;00m\n\u001B[0;32m    610\u001B[0m \u001B[38;5;124;03m\"\"\"\u001B[39;00m\n\u001B[0;32m    611\u001B[0m _warn_if_gui_out_of_main_thread()\n\u001B[1;32m--> 612\u001B[0m \u001B[38;5;28;01mreturn\u001B[39;00m \u001B[43m_get_backend_mod\u001B[49m\u001B[43m(\u001B[49m\u001B[43m)\u001B[49m\u001B[38;5;241;43m.\u001B[39;49m\u001B[43mshow\u001B[49m\u001B[43m(\u001B[49m\u001B[38;5;241;43m*\u001B[39;49m\u001B[43margs\u001B[49m\u001B[43m,\u001B[49m\u001B[43m \u001B[49m\u001B[38;5;241;43m*\u001B[39;49m\u001B[38;5;241;43m*\u001B[39;49m\u001B[43mkwargs\u001B[49m\u001B[43m)\u001B[49m\n",
      "File \u001B[1;32mF:\\git\\CV\\MedicalImageRegistration\\.venv\\Lib\\site-packages\\matplotlib_inline\\backend_inline.py:90\u001B[0m, in \u001B[0;36mshow\u001B[1;34m(close, block)\u001B[0m\n\u001B[0;32m     88\u001B[0m \u001B[38;5;28;01mtry\u001B[39;00m:\n\u001B[0;32m     89\u001B[0m     \u001B[38;5;28;01mfor\u001B[39;00m figure_manager \u001B[38;5;129;01min\u001B[39;00m Gcf\u001B[38;5;241m.\u001B[39mget_all_fig_managers():\n\u001B[1;32m---> 90\u001B[0m         \u001B[43mdisplay\u001B[49m\u001B[43m(\u001B[49m\n\u001B[0;32m     91\u001B[0m \u001B[43m            \u001B[49m\u001B[43mfigure_manager\u001B[49m\u001B[38;5;241;43m.\u001B[39;49m\u001B[43mcanvas\u001B[49m\u001B[38;5;241;43m.\u001B[39;49m\u001B[43mfigure\u001B[49m\u001B[43m,\u001B[49m\n\u001B[0;32m     92\u001B[0m \u001B[43m            \u001B[49m\u001B[43mmetadata\u001B[49m\u001B[38;5;241;43m=\u001B[39;49m\u001B[43m_fetch_figure_metadata\u001B[49m\u001B[43m(\u001B[49m\u001B[43mfigure_manager\u001B[49m\u001B[38;5;241;43m.\u001B[39;49m\u001B[43mcanvas\u001B[49m\u001B[38;5;241;43m.\u001B[39;49m\u001B[43mfigure\u001B[49m\u001B[43m)\u001B[49m\n\u001B[0;32m     93\u001B[0m \u001B[43m        \u001B[49m\u001B[43m)\u001B[49m\n\u001B[0;32m     94\u001B[0m \u001B[38;5;28;01mfinally\u001B[39;00m:\n\u001B[0;32m     95\u001B[0m     show\u001B[38;5;241m.\u001B[39m_to_draw \u001B[38;5;241m=\u001B[39m []\n",
      "File \u001B[1;32mF:\\git\\CV\\MedicalImageRegistration\\.venv\\Lib\\site-packages\\IPython\\core\\display_functions.py:298\u001B[0m, in \u001B[0;36mdisplay\u001B[1;34m(include, exclude, metadata, transient, display_id, raw, clear, *objs, **kwargs)\u001B[0m\n\u001B[0;32m    296\u001B[0m     publish_display_data(data\u001B[38;5;241m=\u001B[39mobj, metadata\u001B[38;5;241m=\u001B[39mmetadata, \u001B[38;5;241m*\u001B[39m\u001B[38;5;241m*\u001B[39mkwargs)\n\u001B[0;32m    297\u001B[0m \u001B[38;5;28;01melse\u001B[39;00m:\n\u001B[1;32m--> 298\u001B[0m     format_dict, md_dict \u001B[38;5;241m=\u001B[39m \u001B[38;5;28;43mformat\u001B[39;49m\u001B[43m(\u001B[49m\u001B[43mobj\u001B[49m\u001B[43m,\u001B[49m\u001B[43m \u001B[49m\u001B[43minclude\u001B[49m\u001B[38;5;241;43m=\u001B[39;49m\u001B[43minclude\u001B[49m\u001B[43m,\u001B[49m\u001B[43m \u001B[49m\u001B[43mexclude\u001B[49m\u001B[38;5;241;43m=\u001B[39;49m\u001B[43mexclude\u001B[49m\u001B[43m)\u001B[49m\n\u001B[0;32m    299\u001B[0m     \u001B[38;5;28;01mif\u001B[39;00m \u001B[38;5;129;01mnot\u001B[39;00m format_dict:\n\u001B[0;32m    300\u001B[0m         \u001B[38;5;66;03m# nothing to display (e.g. _ipython_display_ took over)\u001B[39;00m\n\u001B[0;32m    301\u001B[0m         \u001B[38;5;28;01mcontinue\u001B[39;00m\n",
      "File \u001B[1;32mF:\\git\\CV\\MedicalImageRegistration\\.venv\\Lib\\site-packages\\IPython\\core\\formatters.py:182\u001B[0m, in \u001B[0;36mDisplayFormatter.format\u001B[1;34m(self, obj, include, exclude)\u001B[0m\n\u001B[0;32m    180\u001B[0m md \u001B[38;5;241m=\u001B[39m \u001B[38;5;28;01mNone\u001B[39;00m\n\u001B[0;32m    181\u001B[0m \u001B[38;5;28;01mtry\u001B[39;00m:\n\u001B[1;32m--> 182\u001B[0m     data \u001B[38;5;241m=\u001B[39m \u001B[43mformatter\u001B[49m\u001B[43m(\u001B[49m\u001B[43mobj\u001B[49m\u001B[43m)\u001B[49m\n\u001B[0;32m    183\u001B[0m \u001B[38;5;28;01mexcept\u001B[39;00m:\n\u001B[0;32m    184\u001B[0m     \u001B[38;5;66;03m# FIXME: log the exception\u001B[39;00m\n\u001B[0;32m    185\u001B[0m     \u001B[38;5;28;01mraise\u001B[39;00m\n",
      "File \u001B[1;32mF:\\git\\CV\\MedicalImageRegistration\\.venv\\Lib\\site-packages\\decorator.py:232\u001B[0m, in \u001B[0;36mdecorate.<locals>.fun\u001B[1;34m(*args, **kw)\u001B[0m\n\u001B[0;32m    230\u001B[0m \u001B[38;5;28;01mif\u001B[39;00m \u001B[38;5;129;01mnot\u001B[39;00m kwsyntax:\n\u001B[0;32m    231\u001B[0m     args, kw \u001B[38;5;241m=\u001B[39m fix(args, kw, sig)\n\u001B[1;32m--> 232\u001B[0m \u001B[38;5;28;01mreturn\u001B[39;00m \u001B[43mcaller\u001B[49m\u001B[43m(\u001B[49m\u001B[43mfunc\u001B[49m\u001B[43m,\u001B[49m\u001B[43m \u001B[49m\u001B[38;5;241;43m*\u001B[39;49m\u001B[43m(\u001B[49m\u001B[43mextras\u001B[49m\u001B[43m \u001B[49m\u001B[38;5;241;43m+\u001B[39;49m\u001B[43m \u001B[49m\u001B[43margs\u001B[49m\u001B[43m)\u001B[49m\u001B[43m,\u001B[49m\u001B[43m \u001B[49m\u001B[38;5;241;43m*\u001B[39;49m\u001B[38;5;241;43m*\u001B[39;49m\u001B[43mkw\u001B[49m\u001B[43m)\u001B[49m\n",
      "File \u001B[1;32mF:\\git\\CV\\MedicalImageRegistration\\.venv\\Lib\\site-packages\\IPython\\core\\formatters.py:226\u001B[0m, in \u001B[0;36mcatch_format_error\u001B[1;34m(method, self, *args, **kwargs)\u001B[0m\n\u001B[0;32m    224\u001B[0m \u001B[38;5;250m\u001B[39m\u001B[38;5;124;03m\"\"\"show traceback on failed format call\"\"\"\u001B[39;00m\n\u001B[0;32m    225\u001B[0m \u001B[38;5;28;01mtry\u001B[39;00m:\n\u001B[1;32m--> 226\u001B[0m     r \u001B[38;5;241m=\u001B[39m \u001B[43mmethod\u001B[49m\u001B[43m(\u001B[49m\u001B[38;5;28;43mself\u001B[39;49m\u001B[43m,\u001B[49m\u001B[43m \u001B[49m\u001B[38;5;241;43m*\u001B[39;49m\u001B[43margs\u001B[49m\u001B[43m,\u001B[49m\u001B[43m \u001B[49m\u001B[38;5;241;43m*\u001B[39;49m\u001B[38;5;241;43m*\u001B[39;49m\u001B[43mkwargs\u001B[49m\u001B[43m)\u001B[49m\n\u001B[0;32m    227\u001B[0m \u001B[38;5;28;01mexcept\u001B[39;00m \u001B[38;5;167;01mNotImplementedError\u001B[39;00m:\n\u001B[0;32m    228\u001B[0m     \u001B[38;5;66;03m# don't warn on NotImplementedErrors\u001B[39;00m\n\u001B[0;32m    229\u001B[0m     \u001B[38;5;28;01mreturn\u001B[39;00m \u001B[38;5;28mself\u001B[39m\u001B[38;5;241m.\u001B[39m_check_return(\u001B[38;5;28;01mNone\u001B[39;00m, args[\u001B[38;5;241m0\u001B[39m])\n",
      "File \u001B[1;32mF:\\git\\CV\\MedicalImageRegistration\\.venv\\Lib\\site-packages\\IPython\\core\\formatters.py:343\u001B[0m, in \u001B[0;36mBaseFormatter.__call__\u001B[1;34m(self, obj)\u001B[0m\n\u001B[0;32m    341\u001B[0m     \u001B[38;5;28;01mpass\u001B[39;00m\n\u001B[0;32m    342\u001B[0m \u001B[38;5;28;01melse\u001B[39;00m:\n\u001B[1;32m--> 343\u001B[0m     \u001B[38;5;28;01mreturn\u001B[39;00m \u001B[43mprinter\u001B[49m\u001B[43m(\u001B[49m\u001B[43mobj\u001B[49m\u001B[43m)\u001B[49m\n\u001B[0;32m    344\u001B[0m \u001B[38;5;66;03m# Finally look for special method names\u001B[39;00m\n\u001B[0;32m    345\u001B[0m method \u001B[38;5;241m=\u001B[39m get_real_method(obj, \u001B[38;5;28mself\u001B[39m\u001B[38;5;241m.\u001B[39mprint_method)\n",
      "File \u001B[1;32mF:\\git\\CV\\MedicalImageRegistration\\.venv\\Lib\\site-packages\\IPython\\core\\pylabtools.py:170\u001B[0m, in \u001B[0;36mprint_figure\u001B[1;34m(fig, fmt, bbox_inches, base64, **kwargs)\u001B[0m\n\u001B[0;32m    167\u001B[0m     \u001B[38;5;28;01mfrom\u001B[39;00m \u001B[38;5;21;01mmatplotlib\u001B[39;00m\u001B[38;5;21;01m.\u001B[39;00m\u001B[38;5;21;01mbackend_bases\u001B[39;00m \u001B[38;5;28;01mimport\u001B[39;00m FigureCanvasBase\n\u001B[0;32m    168\u001B[0m     FigureCanvasBase(fig)\n\u001B[1;32m--> 170\u001B[0m \u001B[43mfig\u001B[49m\u001B[38;5;241;43m.\u001B[39;49m\u001B[43mcanvas\u001B[49m\u001B[38;5;241;43m.\u001B[39;49m\u001B[43mprint_figure\u001B[49m\u001B[43m(\u001B[49m\u001B[43mbytes_io\u001B[49m\u001B[43m,\u001B[49m\u001B[43m \u001B[49m\u001B[38;5;241;43m*\u001B[39;49m\u001B[38;5;241;43m*\u001B[39;49m\u001B[43mkw\u001B[49m\u001B[43m)\u001B[49m\n\u001B[0;32m    171\u001B[0m data \u001B[38;5;241m=\u001B[39m bytes_io\u001B[38;5;241m.\u001B[39mgetvalue()\n\u001B[0;32m    172\u001B[0m \u001B[38;5;28;01mif\u001B[39;00m fmt \u001B[38;5;241m==\u001B[39m \u001B[38;5;124m'\u001B[39m\u001B[38;5;124msvg\u001B[39m\u001B[38;5;124m'\u001B[39m:\n",
      "File \u001B[1;32mF:\\git\\CV\\MedicalImageRegistration\\.venv\\Lib\\site-packages\\matplotlib\\backend_bases.py:2204\u001B[0m, in \u001B[0;36mFigureCanvasBase.print_figure\u001B[1;34m(self, filename, dpi, facecolor, edgecolor, orientation, format, bbox_inches, pad_inches, bbox_extra_artists, backend, **kwargs)\u001B[0m\n\u001B[0;32m   2200\u001B[0m \u001B[38;5;28;01mtry\u001B[39;00m:\n\u001B[0;32m   2201\u001B[0m     \u001B[38;5;66;03m# _get_renderer may change the figure dpi (as vector formats\u001B[39;00m\n\u001B[0;32m   2202\u001B[0m     \u001B[38;5;66;03m# force the figure dpi to 72), so we need to set it again here.\u001B[39;00m\n\u001B[0;32m   2203\u001B[0m     \u001B[38;5;28;01mwith\u001B[39;00m cbook\u001B[38;5;241m.\u001B[39m_setattr_cm(\u001B[38;5;28mself\u001B[39m\u001B[38;5;241m.\u001B[39mfigure, dpi\u001B[38;5;241m=\u001B[39mdpi):\n\u001B[1;32m-> 2204\u001B[0m         result \u001B[38;5;241m=\u001B[39m \u001B[43mprint_method\u001B[49m\u001B[43m(\u001B[49m\n\u001B[0;32m   2205\u001B[0m \u001B[43m            \u001B[49m\u001B[43mfilename\u001B[49m\u001B[43m,\u001B[49m\n\u001B[0;32m   2206\u001B[0m \u001B[43m            \u001B[49m\u001B[43mfacecolor\u001B[49m\u001B[38;5;241;43m=\u001B[39;49m\u001B[43mfacecolor\u001B[49m\u001B[43m,\u001B[49m\n\u001B[0;32m   2207\u001B[0m \u001B[43m            \u001B[49m\u001B[43medgecolor\u001B[49m\u001B[38;5;241;43m=\u001B[39;49m\u001B[43medgecolor\u001B[49m\u001B[43m,\u001B[49m\n\u001B[0;32m   2208\u001B[0m \u001B[43m            \u001B[49m\u001B[43morientation\u001B[49m\u001B[38;5;241;43m=\u001B[39;49m\u001B[43morientation\u001B[49m\u001B[43m,\u001B[49m\n\u001B[0;32m   2209\u001B[0m \u001B[43m            \u001B[49m\u001B[43mbbox_inches_restore\u001B[49m\u001B[38;5;241;43m=\u001B[39;49m\u001B[43m_bbox_inches_restore\u001B[49m\u001B[43m,\u001B[49m\n\u001B[0;32m   2210\u001B[0m \u001B[43m            \u001B[49m\u001B[38;5;241;43m*\u001B[39;49m\u001B[38;5;241;43m*\u001B[39;49m\u001B[43mkwargs\u001B[49m\u001B[43m)\u001B[49m\n\u001B[0;32m   2211\u001B[0m \u001B[38;5;28;01mfinally\u001B[39;00m:\n\u001B[0;32m   2212\u001B[0m     \u001B[38;5;28;01mif\u001B[39;00m bbox_inches \u001B[38;5;129;01mand\u001B[39;00m restore_bbox:\n",
      "File \u001B[1;32mF:\\git\\CV\\MedicalImageRegistration\\.venv\\Lib\\site-packages\\matplotlib\\backend_bases.py:2054\u001B[0m, in \u001B[0;36mFigureCanvasBase._switch_canvas_and_return_print_method.<locals>.<lambda>\u001B[1;34m(*args, **kwargs)\u001B[0m\n\u001B[0;32m   2050\u001B[0m     optional_kws \u001B[38;5;241m=\u001B[39m {  \u001B[38;5;66;03m# Passed by print_figure for other renderers.\u001B[39;00m\n\u001B[0;32m   2051\u001B[0m         \u001B[38;5;124m\"\u001B[39m\u001B[38;5;124mdpi\u001B[39m\u001B[38;5;124m\"\u001B[39m, \u001B[38;5;124m\"\u001B[39m\u001B[38;5;124mfacecolor\u001B[39m\u001B[38;5;124m\"\u001B[39m, \u001B[38;5;124m\"\u001B[39m\u001B[38;5;124medgecolor\u001B[39m\u001B[38;5;124m\"\u001B[39m, \u001B[38;5;124m\"\u001B[39m\u001B[38;5;124morientation\u001B[39m\u001B[38;5;124m\"\u001B[39m,\n\u001B[0;32m   2052\u001B[0m         \u001B[38;5;124m\"\u001B[39m\u001B[38;5;124mbbox_inches_restore\u001B[39m\u001B[38;5;124m\"\u001B[39m}\n\u001B[0;32m   2053\u001B[0m     skip \u001B[38;5;241m=\u001B[39m optional_kws \u001B[38;5;241m-\u001B[39m {\u001B[38;5;241m*\u001B[39minspect\u001B[38;5;241m.\u001B[39msignature(meth)\u001B[38;5;241m.\u001B[39mparameters}\n\u001B[1;32m-> 2054\u001B[0m     print_method \u001B[38;5;241m=\u001B[39m functools\u001B[38;5;241m.\u001B[39mwraps(meth)(\u001B[38;5;28;01mlambda\u001B[39;00m \u001B[38;5;241m*\u001B[39margs, \u001B[38;5;241m*\u001B[39m\u001B[38;5;241m*\u001B[39mkwargs: \u001B[43mmeth\u001B[49m\u001B[43m(\u001B[49m\n\u001B[0;32m   2055\u001B[0m \u001B[43m        \u001B[49m\u001B[38;5;241;43m*\u001B[39;49m\u001B[43margs\u001B[49m\u001B[43m,\u001B[49m\u001B[43m \u001B[49m\u001B[38;5;241;43m*\u001B[39;49m\u001B[38;5;241;43m*\u001B[39;49m\u001B[43m{\u001B[49m\u001B[43mk\u001B[49m\u001B[43m:\u001B[49m\u001B[43m \u001B[49m\u001B[43mv\u001B[49m\u001B[43m \u001B[49m\u001B[38;5;28;43;01mfor\u001B[39;49;00m\u001B[43m \u001B[49m\u001B[43mk\u001B[49m\u001B[43m,\u001B[49m\u001B[43m \u001B[49m\u001B[43mv\u001B[49m\u001B[43m \u001B[49m\u001B[38;5;129;43;01min\u001B[39;49;00m\u001B[43m \u001B[49m\u001B[43mkwargs\u001B[49m\u001B[38;5;241;43m.\u001B[39;49m\u001B[43mitems\u001B[49m\u001B[43m(\u001B[49m\u001B[43m)\u001B[49m\u001B[43m \u001B[49m\u001B[38;5;28;43;01mif\u001B[39;49;00m\u001B[43m \u001B[49m\u001B[43mk\u001B[49m\u001B[43m \u001B[49m\u001B[38;5;129;43;01mnot\u001B[39;49;00m\u001B[43m \u001B[49m\u001B[38;5;129;43;01min\u001B[39;49;00m\u001B[43m \u001B[49m\u001B[43mskip\u001B[49m\u001B[43m}\u001B[49m\u001B[43m)\u001B[49m)\n\u001B[0;32m   2056\u001B[0m \u001B[38;5;28;01melse\u001B[39;00m:  \u001B[38;5;66;03m# Let third-parties do as they see fit.\u001B[39;00m\n\u001B[0;32m   2057\u001B[0m     print_method \u001B[38;5;241m=\u001B[39m meth\n",
      "File \u001B[1;32mF:\\git\\CV\\MedicalImageRegistration\\.venv\\Lib\\site-packages\\matplotlib\\backends\\backend_agg.py:496\u001B[0m, in \u001B[0;36mFigureCanvasAgg.print_png\u001B[1;34m(self, filename_or_obj, metadata, pil_kwargs)\u001B[0m\n\u001B[0;32m    449\u001B[0m \u001B[38;5;28;01mdef\u001B[39;00m \u001B[38;5;21mprint_png\u001B[39m(\u001B[38;5;28mself\u001B[39m, filename_or_obj, \u001B[38;5;241m*\u001B[39m, metadata\u001B[38;5;241m=\u001B[39m\u001B[38;5;28;01mNone\u001B[39;00m, pil_kwargs\u001B[38;5;241m=\u001B[39m\u001B[38;5;28;01mNone\u001B[39;00m):\n\u001B[0;32m    450\u001B[0m \u001B[38;5;250m    \u001B[39m\u001B[38;5;124;03m\"\"\"\u001B[39;00m\n\u001B[0;32m    451\u001B[0m \u001B[38;5;124;03m    Write the figure to a PNG file.\u001B[39;00m\n\u001B[0;32m    452\u001B[0m \n\u001B[1;32m   (...)\u001B[0m\n\u001B[0;32m    494\u001B[0m \u001B[38;5;124;03m        *metadata*, including the default 'Software' key.\u001B[39;00m\n\u001B[0;32m    495\u001B[0m \u001B[38;5;124;03m    \"\"\"\u001B[39;00m\n\u001B[1;32m--> 496\u001B[0m     \u001B[38;5;28;43mself\u001B[39;49m\u001B[38;5;241;43m.\u001B[39;49m\u001B[43m_print_pil\u001B[49m\u001B[43m(\u001B[49m\u001B[43mfilename_or_obj\u001B[49m\u001B[43m,\u001B[49m\u001B[43m \u001B[49m\u001B[38;5;124;43m\"\u001B[39;49m\u001B[38;5;124;43mpng\u001B[39;49m\u001B[38;5;124;43m\"\u001B[39;49m\u001B[43m,\u001B[49m\u001B[43m \u001B[49m\u001B[43mpil_kwargs\u001B[49m\u001B[43m,\u001B[49m\u001B[43m \u001B[49m\u001B[43mmetadata\u001B[49m\u001B[43m)\u001B[49m\n",
      "File \u001B[1;32mF:\\git\\CV\\MedicalImageRegistration\\.venv\\Lib\\site-packages\\matplotlib\\backends\\backend_agg.py:444\u001B[0m, in \u001B[0;36mFigureCanvasAgg._print_pil\u001B[1;34m(self, filename_or_obj, fmt, pil_kwargs, metadata)\u001B[0m\n\u001B[0;32m    439\u001B[0m \u001B[38;5;28;01mdef\u001B[39;00m \u001B[38;5;21m_print_pil\u001B[39m(\u001B[38;5;28mself\u001B[39m, filename_or_obj, fmt, pil_kwargs, metadata\u001B[38;5;241m=\u001B[39m\u001B[38;5;28;01mNone\u001B[39;00m):\n\u001B[0;32m    440\u001B[0m \u001B[38;5;250m    \u001B[39m\u001B[38;5;124;03m\"\"\"\u001B[39;00m\n\u001B[0;32m    441\u001B[0m \u001B[38;5;124;03m    Draw the canvas, then save it using `.image.imsave` (to which\u001B[39;00m\n\u001B[0;32m    442\u001B[0m \u001B[38;5;124;03m    *pil_kwargs* and *metadata* are forwarded).\u001B[39;00m\n\u001B[0;32m    443\u001B[0m \u001B[38;5;124;03m    \"\"\"\u001B[39;00m\n\u001B[1;32m--> 444\u001B[0m     \u001B[43mFigureCanvasAgg\u001B[49m\u001B[38;5;241;43m.\u001B[39;49m\u001B[43mdraw\u001B[49m\u001B[43m(\u001B[49m\u001B[38;5;28;43mself\u001B[39;49m\u001B[43m)\u001B[49m\n\u001B[0;32m    445\u001B[0m     mpl\u001B[38;5;241m.\u001B[39mimage\u001B[38;5;241m.\u001B[39mimsave(\n\u001B[0;32m    446\u001B[0m         filename_or_obj, \u001B[38;5;28mself\u001B[39m\u001B[38;5;241m.\u001B[39mbuffer_rgba(), \u001B[38;5;28mformat\u001B[39m\u001B[38;5;241m=\u001B[39mfmt, origin\u001B[38;5;241m=\u001B[39m\u001B[38;5;124m\"\u001B[39m\u001B[38;5;124mupper\u001B[39m\u001B[38;5;124m\"\u001B[39m,\n\u001B[0;32m    447\u001B[0m         dpi\u001B[38;5;241m=\u001B[39m\u001B[38;5;28mself\u001B[39m\u001B[38;5;241m.\u001B[39mfigure\u001B[38;5;241m.\u001B[39mdpi, metadata\u001B[38;5;241m=\u001B[39mmetadata, pil_kwargs\u001B[38;5;241m=\u001B[39mpil_kwargs)\n",
      "File \u001B[1;32mF:\\git\\CV\\MedicalImageRegistration\\.venv\\Lib\\site-packages\\matplotlib\\backends\\backend_agg.py:387\u001B[0m, in \u001B[0;36mFigureCanvasAgg.draw\u001B[1;34m(self)\u001B[0m\n\u001B[0;32m    384\u001B[0m \u001B[38;5;66;03m# Acquire a lock on the shared font cache.\u001B[39;00m\n\u001B[0;32m    385\u001B[0m \u001B[38;5;28;01mwith\u001B[39;00m (\u001B[38;5;28mself\u001B[39m\u001B[38;5;241m.\u001B[39mtoolbar\u001B[38;5;241m.\u001B[39m_wait_cursor_for_draw_cm() \u001B[38;5;28;01mif\u001B[39;00m \u001B[38;5;28mself\u001B[39m\u001B[38;5;241m.\u001B[39mtoolbar\n\u001B[0;32m    386\u001B[0m       \u001B[38;5;28;01melse\u001B[39;00m nullcontext()):\n\u001B[1;32m--> 387\u001B[0m     \u001B[38;5;28;43mself\u001B[39;49m\u001B[38;5;241;43m.\u001B[39;49m\u001B[43mfigure\u001B[49m\u001B[38;5;241;43m.\u001B[39;49m\u001B[43mdraw\u001B[49m\u001B[43m(\u001B[49m\u001B[38;5;28;43mself\u001B[39;49m\u001B[38;5;241;43m.\u001B[39;49m\u001B[43mrenderer\u001B[49m\u001B[43m)\u001B[49m\n\u001B[0;32m    388\u001B[0m     \u001B[38;5;66;03m# A GUI class may be need to update a window using this draw, so\u001B[39;00m\n\u001B[0;32m    389\u001B[0m     \u001B[38;5;66;03m# don't forget to call the superclass.\u001B[39;00m\n\u001B[0;32m    390\u001B[0m     \u001B[38;5;28msuper\u001B[39m()\u001B[38;5;241m.\u001B[39mdraw()\n",
      "File \u001B[1;32mF:\\git\\CV\\MedicalImageRegistration\\.venv\\Lib\\site-packages\\matplotlib\\artist.py:95\u001B[0m, in \u001B[0;36m_finalize_rasterization.<locals>.draw_wrapper\u001B[1;34m(artist, renderer, *args, **kwargs)\u001B[0m\n\u001B[0;32m     93\u001B[0m \u001B[38;5;129m@wraps\u001B[39m(draw)\n\u001B[0;32m     94\u001B[0m \u001B[38;5;28;01mdef\u001B[39;00m \u001B[38;5;21mdraw_wrapper\u001B[39m(artist, renderer, \u001B[38;5;241m*\u001B[39margs, \u001B[38;5;241m*\u001B[39m\u001B[38;5;241m*\u001B[39mkwargs):\n\u001B[1;32m---> 95\u001B[0m     result \u001B[38;5;241m=\u001B[39m \u001B[43mdraw\u001B[49m\u001B[43m(\u001B[49m\u001B[43martist\u001B[49m\u001B[43m,\u001B[49m\u001B[43m \u001B[49m\u001B[43mrenderer\u001B[49m\u001B[43m,\u001B[49m\u001B[43m \u001B[49m\u001B[38;5;241;43m*\u001B[39;49m\u001B[43margs\u001B[49m\u001B[43m,\u001B[49m\u001B[43m \u001B[49m\u001B[38;5;241;43m*\u001B[39;49m\u001B[38;5;241;43m*\u001B[39;49m\u001B[43mkwargs\u001B[49m\u001B[43m)\u001B[49m\n\u001B[0;32m     96\u001B[0m     \u001B[38;5;28;01mif\u001B[39;00m renderer\u001B[38;5;241m.\u001B[39m_rasterizing:\n\u001B[0;32m     97\u001B[0m         renderer\u001B[38;5;241m.\u001B[39mstop_rasterizing()\n",
      "File \u001B[1;32mF:\\git\\CV\\MedicalImageRegistration\\.venv\\Lib\\site-packages\\matplotlib\\artist.py:72\u001B[0m, in \u001B[0;36mallow_rasterization.<locals>.draw_wrapper\u001B[1;34m(artist, renderer)\u001B[0m\n\u001B[0;32m     69\u001B[0m     \u001B[38;5;28;01mif\u001B[39;00m artist\u001B[38;5;241m.\u001B[39mget_agg_filter() \u001B[38;5;129;01mis\u001B[39;00m \u001B[38;5;129;01mnot\u001B[39;00m \u001B[38;5;28;01mNone\u001B[39;00m:\n\u001B[0;32m     70\u001B[0m         renderer\u001B[38;5;241m.\u001B[39mstart_filter()\n\u001B[1;32m---> 72\u001B[0m     \u001B[38;5;28;01mreturn\u001B[39;00m \u001B[43mdraw\u001B[49m\u001B[43m(\u001B[49m\u001B[43martist\u001B[49m\u001B[43m,\u001B[49m\u001B[43m \u001B[49m\u001B[43mrenderer\u001B[49m\u001B[43m)\u001B[49m\n\u001B[0;32m     73\u001B[0m \u001B[38;5;28;01mfinally\u001B[39;00m:\n\u001B[0;32m     74\u001B[0m     \u001B[38;5;28;01mif\u001B[39;00m artist\u001B[38;5;241m.\u001B[39mget_agg_filter() \u001B[38;5;129;01mis\u001B[39;00m \u001B[38;5;129;01mnot\u001B[39;00m \u001B[38;5;28;01mNone\u001B[39;00m:\n",
      "File \u001B[1;32mF:\\git\\CV\\MedicalImageRegistration\\.venv\\Lib\\site-packages\\matplotlib\\figure.py:3162\u001B[0m, in \u001B[0;36mFigure.draw\u001B[1;34m(self, renderer)\u001B[0m\n\u001B[0;32m   3159\u001B[0m             \u001B[38;5;66;03m# ValueError can occur when resizing a window.\u001B[39;00m\n\u001B[0;32m   3161\u001B[0m     \u001B[38;5;28mself\u001B[39m\u001B[38;5;241m.\u001B[39mpatch\u001B[38;5;241m.\u001B[39mdraw(renderer)\n\u001B[1;32m-> 3162\u001B[0m     \u001B[43mmimage\u001B[49m\u001B[38;5;241;43m.\u001B[39;49m\u001B[43m_draw_list_compositing_images\u001B[49m\u001B[43m(\u001B[49m\n\u001B[0;32m   3163\u001B[0m \u001B[43m        \u001B[49m\u001B[43mrenderer\u001B[49m\u001B[43m,\u001B[49m\u001B[43m \u001B[49m\u001B[38;5;28;43mself\u001B[39;49m\u001B[43m,\u001B[49m\u001B[43m \u001B[49m\u001B[43martists\u001B[49m\u001B[43m,\u001B[49m\u001B[43m \u001B[49m\u001B[38;5;28;43mself\u001B[39;49m\u001B[38;5;241;43m.\u001B[39;49m\u001B[43msuppressComposite\u001B[49m\u001B[43m)\u001B[49m\n\u001B[0;32m   3165\u001B[0m     renderer\u001B[38;5;241m.\u001B[39mclose_group(\u001B[38;5;124m'\u001B[39m\u001B[38;5;124mfigure\u001B[39m\u001B[38;5;124m'\u001B[39m)\n\u001B[0;32m   3166\u001B[0m \u001B[38;5;28;01mfinally\u001B[39;00m:\n",
      "File \u001B[1;32mF:\\git\\CV\\MedicalImageRegistration\\.venv\\Lib\\site-packages\\matplotlib\\image.py:132\u001B[0m, in \u001B[0;36m_draw_list_compositing_images\u001B[1;34m(renderer, parent, artists, suppress_composite)\u001B[0m\n\u001B[0;32m    130\u001B[0m \u001B[38;5;28;01mif\u001B[39;00m not_composite \u001B[38;5;129;01mor\u001B[39;00m \u001B[38;5;129;01mnot\u001B[39;00m has_images:\n\u001B[0;32m    131\u001B[0m     \u001B[38;5;28;01mfor\u001B[39;00m a \u001B[38;5;129;01min\u001B[39;00m artists:\n\u001B[1;32m--> 132\u001B[0m         \u001B[43ma\u001B[49m\u001B[38;5;241;43m.\u001B[39;49m\u001B[43mdraw\u001B[49m\u001B[43m(\u001B[49m\u001B[43mrenderer\u001B[49m\u001B[43m)\u001B[49m\n\u001B[0;32m    133\u001B[0m \u001B[38;5;28;01melse\u001B[39;00m:\n\u001B[0;32m    134\u001B[0m     \u001B[38;5;66;03m# Composite any adjacent images together\u001B[39;00m\n\u001B[0;32m    135\u001B[0m     image_group \u001B[38;5;241m=\u001B[39m []\n",
      "File \u001B[1;32mF:\\git\\CV\\MedicalImageRegistration\\.venv\\Lib\\site-packages\\matplotlib\\artist.py:72\u001B[0m, in \u001B[0;36mallow_rasterization.<locals>.draw_wrapper\u001B[1;34m(artist, renderer)\u001B[0m\n\u001B[0;32m     69\u001B[0m     \u001B[38;5;28;01mif\u001B[39;00m artist\u001B[38;5;241m.\u001B[39mget_agg_filter() \u001B[38;5;129;01mis\u001B[39;00m \u001B[38;5;129;01mnot\u001B[39;00m \u001B[38;5;28;01mNone\u001B[39;00m:\n\u001B[0;32m     70\u001B[0m         renderer\u001B[38;5;241m.\u001B[39mstart_filter()\n\u001B[1;32m---> 72\u001B[0m     \u001B[38;5;28;01mreturn\u001B[39;00m \u001B[43mdraw\u001B[49m\u001B[43m(\u001B[49m\u001B[43martist\u001B[49m\u001B[43m,\u001B[49m\u001B[43m \u001B[49m\u001B[43mrenderer\u001B[49m\u001B[43m)\u001B[49m\n\u001B[0;32m     73\u001B[0m \u001B[38;5;28;01mfinally\u001B[39;00m:\n\u001B[0;32m     74\u001B[0m     \u001B[38;5;28;01mif\u001B[39;00m artist\u001B[38;5;241m.\u001B[39mget_agg_filter() \u001B[38;5;129;01mis\u001B[39;00m \u001B[38;5;129;01mnot\u001B[39;00m \u001B[38;5;28;01mNone\u001B[39;00m:\n",
      "File \u001B[1;32mF:\\git\\CV\\MedicalImageRegistration\\.venv\\Lib\\site-packages\\matplotlib\\axes\\_base.py:3143\u001B[0m, in \u001B[0;36m_AxesBase.draw\u001B[1;34m(self, renderer)\u001B[0m\n\u001B[0;32m   3140\u001B[0m \u001B[38;5;28;01mif\u001B[39;00m artists_rasterized:\n\u001B[0;32m   3141\u001B[0m     _draw_rasterized(\u001B[38;5;28mself\u001B[39m\u001B[38;5;241m.\u001B[39mfigure, artists_rasterized, renderer)\n\u001B[1;32m-> 3143\u001B[0m \u001B[43mmimage\u001B[49m\u001B[38;5;241;43m.\u001B[39;49m\u001B[43m_draw_list_compositing_images\u001B[49m\u001B[43m(\u001B[49m\n\u001B[0;32m   3144\u001B[0m \u001B[43m    \u001B[49m\u001B[43mrenderer\u001B[49m\u001B[43m,\u001B[49m\u001B[43m \u001B[49m\u001B[38;5;28;43mself\u001B[39;49m\u001B[43m,\u001B[49m\u001B[43m \u001B[49m\u001B[43martists\u001B[49m\u001B[43m,\u001B[49m\u001B[43m \u001B[49m\u001B[38;5;28;43mself\u001B[39;49m\u001B[38;5;241;43m.\u001B[39;49m\u001B[43mfigure\u001B[49m\u001B[38;5;241;43m.\u001B[39;49m\u001B[43msuppressComposite\u001B[49m\u001B[43m)\u001B[49m\n\u001B[0;32m   3146\u001B[0m renderer\u001B[38;5;241m.\u001B[39mclose_group(\u001B[38;5;124m'\u001B[39m\u001B[38;5;124maxes\u001B[39m\u001B[38;5;124m'\u001B[39m)\n\u001B[0;32m   3147\u001B[0m \u001B[38;5;28mself\u001B[39m\u001B[38;5;241m.\u001B[39mstale \u001B[38;5;241m=\u001B[39m \u001B[38;5;28;01mFalse\u001B[39;00m\n",
      "File \u001B[1;32mF:\\git\\CV\\MedicalImageRegistration\\.venv\\Lib\\site-packages\\matplotlib\\image.py:132\u001B[0m, in \u001B[0;36m_draw_list_compositing_images\u001B[1;34m(renderer, parent, artists, suppress_composite)\u001B[0m\n\u001B[0;32m    130\u001B[0m \u001B[38;5;28;01mif\u001B[39;00m not_composite \u001B[38;5;129;01mor\u001B[39;00m \u001B[38;5;129;01mnot\u001B[39;00m has_images:\n\u001B[0;32m    131\u001B[0m     \u001B[38;5;28;01mfor\u001B[39;00m a \u001B[38;5;129;01min\u001B[39;00m artists:\n\u001B[1;32m--> 132\u001B[0m         \u001B[43ma\u001B[49m\u001B[38;5;241;43m.\u001B[39;49m\u001B[43mdraw\u001B[49m\u001B[43m(\u001B[49m\u001B[43mrenderer\u001B[49m\u001B[43m)\u001B[49m\n\u001B[0;32m    133\u001B[0m \u001B[38;5;28;01melse\u001B[39;00m:\n\u001B[0;32m    134\u001B[0m     \u001B[38;5;66;03m# Composite any adjacent images together\u001B[39;00m\n\u001B[0;32m    135\u001B[0m     image_group \u001B[38;5;241m=\u001B[39m []\n",
      "File \u001B[1;32mF:\\git\\CV\\MedicalImageRegistration\\.venv\\Lib\\site-packages\\matplotlib\\artist.py:72\u001B[0m, in \u001B[0;36mallow_rasterization.<locals>.draw_wrapper\u001B[1;34m(artist, renderer)\u001B[0m\n\u001B[0;32m     69\u001B[0m     \u001B[38;5;28;01mif\u001B[39;00m artist\u001B[38;5;241m.\u001B[39mget_agg_filter() \u001B[38;5;129;01mis\u001B[39;00m \u001B[38;5;129;01mnot\u001B[39;00m \u001B[38;5;28;01mNone\u001B[39;00m:\n\u001B[0;32m     70\u001B[0m         renderer\u001B[38;5;241m.\u001B[39mstart_filter()\n\u001B[1;32m---> 72\u001B[0m     \u001B[38;5;28;01mreturn\u001B[39;00m \u001B[43mdraw\u001B[49m\u001B[43m(\u001B[49m\u001B[43martist\u001B[49m\u001B[43m,\u001B[49m\u001B[43m \u001B[49m\u001B[43mrenderer\u001B[49m\u001B[43m)\u001B[49m\n\u001B[0;32m     73\u001B[0m \u001B[38;5;28;01mfinally\u001B[39;00m:\n\u001B[0;32m     74\u001B[0m     \u001B[38;5;28;01mif\u001B[39;00m artist\u001B[38;5;241m.\u001B[39mget_agg_filter() \u001B[38;5;129;01mis\u001B[39;00m \u001B[38;5;129;01mnot\u001B[39;00m \u001B[38;5;28;01mNone\u001B[39;00m:\n",
      "File \u001B[1;32mF:\\git\\CV\\MedicalImageRegistration\\.venv\\Lib\\site-packages\\matplotlib\\image.py:653\u001B[0m, in \u001B[0;36m_ImageBase.draw\u001B[1;34m(self, renderer)\u001B[0m\n\u001B[0;32m    651\u001B[0m         renderer\u001B[38;5;241m.\u001B[39mdraw_image(gc, l, b, im, trans)\n\u001B[0;32m    652\u001B[0m \u001B[38;5;28;01melse\u001B[39;00m:\n\u001B[1;32m--> 653\u001B[0m     im, l, b, trans \u001B[38;5;241m=\u001B[39m \u001B[38;5;28;43mself\u001B[39;49m\u001B[38;5;241;43m.\u001B[39;49m\u001B[43mmake_image\u001B[49m\u001B[43m(\u001B[49m\n\u001B[0;32m    654\u001B[0m \u001B[43m        \u001B[49m\u001B[43mrenderer\u001B[49m\u001B[43m,\u001B[49m\u001B[43m \u001B[49m\u001B[43mrenderer\u001B[49m\u001B[38;5;241;43m.\u001B[39;49m\u001B[43mget_image_magnification\u001B[49m\u001B[43m(\u001B[49m\u001B[43m)\u001B[49m\u001B[43m)\u001B[49m\n\u001B[0;32m    655\u001B[0m     \u001B[38;5;28;01mif\u001B[39;00m im \u001B[38;5;129;01mis\u001B[39;00m \u001B[38;5;129;01mnot\u001B[39;00m \u001B[38;5;28;01mNone\u001B[39;00m:\n\u001B[0;32m    656\u001B[0m         renderer\u001B[38;5;241m.\u001B[39mdraw_image(gc, l, b, im)\n",
      "File \u001B[1;32mF:\\git\\CV\\MedicalImageRegistration\\.venv\\Lib\\site-packages\\matplotlib\\image.py:952\u001B[0m, in \u001B[0;36mAxesImage.make_image\u001B[1;34m(self, renderer, magnification, unsampled)\u001B[0m\n\u001B[0;32m    949\u001B[0m transformed_bbox \u001B[38;5;241m=\u001B[39m TransformedBbox(bbox, trans)\n\u001B[0;32m    950\u001B[0m clip \u001B[38;5;241m=\u001B[39m ((\u001B[38;5;28mself\u001B[39m\u001B[38;5;241m.\u001B[39mget_clip_box() \u001B[38;5;129;01mor\u001B[39;00m \u001B[38;5;28mself\u001B[39m\u001B[38;5;241m.\u001B[39maxes\u001B[38;5;241m.\u001B[39mbbox) \u001B[38;5;28;01mif\u001B[39;00m \u001B[38;5;28mself\u001B[39m\u001B[38;5;241m.\u001B[39mget_clip_on()\n\u001B[0;32m    951\u001B[0m         \u001B[38;5;28;01melse\u001B[39;00m \u001B[38;5;28mself\u001B[39m\u001B[38;5;241m.\u001B[39mfigure\u001B[38;5;241m.\u001B[39mbbox)\n\u001B[1;32m--> 952\u001B[0m \u001B[38;5;28;01mreturn\u001B[39;00m \u001B[38;5;28;43mself\u001B[39;49m\u001B[38;5;241;43m.\u001B[39;49m\u001B[43m_make_image\u001B[49m\u001B[43m(\u001B[49m\u001B[38;5;28;43mself\u001B[39;49m\u001B[38;5;241;43m.\u001B[39;49m\u001B[43m_A\u001B[49m\u001B[43m,\u001B[49m\u001B[43m \u001B[49m\u001B[43mbbox\u001B[49m\u001B[43m,\u001B[49m\u001B[43m \u001B[49m\u001B[43mtransformed_bbox\u001B[49m\u001B[43m,\u001B[49m\u001B[43m \u001B[49m\u001B[43mclip\u001B[49m\u001B[43m,\u001B[49m\n\u001B[0;32m    953\u001B[0m \u001B[43m                        \u001B[49m\u001B[43mmagnification\u001B[49m\u001B[43m,\u001B[49m\u001B[43m \u001B[49m\u001B[43munsampled\u001B[49m\u001B[38;5;241;43m=\u001B[39;49m\u001B[43munsampled\u001B[49m\u001B[43m)\u001B[49m\n",
      "File \u001B[1;32mF:\\git\\CV\\MedicalImageRegistration\\.venv\\Lib\\site-packages\\matplotlib\\image.py:526\u001B[0m, in \u001B[0;36m_ImageBase._make_image\u001B[1;34m(self, A, in_bbox, out_bbox, clip_bbox, magnification, unsampled, round_to_pixel_border)\u001B[0m\n\u001B[0;32m    521\u001B[0m mask \u001B[38;5;241m=\u001B[39m (np\u001B[38;5;241m.\u001B[39mwhere(A\u001B[38;5;241m.\u001B[39mmask, np\u001B[38;5;241m.\u001B[39mfloat32(np\u001B[38;5;241m.\u001B[39mnan), np\u001B[38;5;241m.\u001B[39mfloat32(\u001B[38;5;241m1\u001B[39m))\n\u001B[0;32m    522\u001B[0m         \u001B[38;5;28;01mif\u001B[39;00m A\u001B[38;5;241m.\u001B[39mmask\u001B[38;5;241m.\u001B[39mshape \u001B[38;5;241m==\u001B[39m A\u001B[38;5;241m.\u001B[39mshape  \u001B[38;5;66;03m# nontrivial mask\u001B[39;00m\n\u001B[0;32m    523\u001B[0m         \u001B[38;5;28;01melse\u001B[39;00m np\u001B[38;5;241m.\u001B[39mones_like(A, np\u001B[38;5;241m.\u001B[39mfloat32))\n\u001B[0;32m    524\u001B[0m \u001B[38;5;66;03m# we always have to interpolate the mask to account for\u001B[39;00m\n\u001B[0;32m    525\u001B[0m \u001B[38;5;66;03m# non-affine transformations\u001B[39;00m\n\u001B[1;32m--> 526\u001B[0m out_alpha \u001B[38;5;241m=\u001B[39m \u001B[43m_resample\u001B[49m\u001B[43m(\u001B[49m\u001B[38;5;28;43mself\u001B[39;49m\u001B[43m,\u001B[49m\u001B[43m \u001B[49m\u001B[43mmask\u001B[49m\u001B[43m,\u001B[49m\u001B[43m \u001B[49m\u001B[43mout_shape\u001B[49m\u001B[43m,\u001B[49m\u001B[43m \u001B[49m\u001B[43mt\u001B[49m\u001B[43m,\u001B[49m\u001B[43m \u001B[49m\u001B[43mresample\u001B[49m\u001B[38;5;241;43m=\u001B[39;49m\u001B[38;5;28;43;01mTrue\u001B[39;49;00m\u001B[43m)\u001B[49m\n\u001B[0;32m    527\u001B[0m \u001B[38;5;28;01mdel\u001B[39;00m mask  \u001B[38;5;66;03m# Make sure we don't use mask anymore!\u001B[39;00m\n\u001B[0;32m    528\u001B[0m \u001B[38;5;66;03m# Agg updates out_alpha in place.  If the pixel has no image\u001B[39;00m\n\u001B[0;32m    529\u001B[0m \u001B[38;5;66;03m# data it will not be updated (and still be 0 as we initialized\u001B[39;00m\n\u001B[0;32m    530\u001B[0m \u001B[38;5;66;03m# it), if input data that would go into that output pixel than\u001B[39;00m\n\u001B[0;32m    531\u001B[0m \u001B[38;5;66;03m# it will be `nan`, if all the input data for a pixel is good\u001B[39;00m\n\u001B[0;32m    532\u001B[0m \u001B[38;5;66;03m# it will be 1, and if there is _some_ good data in that output\u001B[39;00m\n\u001B[0;32m    533\u001B[0m \u001B[38;5;66;03m# pixel it will be between [0, 1] (such as a rotated image).\u001B[39;00m\n",
      "File \u001B[1;32mF:\\git\\CV\\MedicalImageRegistration\\.venv\\Lib\\site-packages\\matplotlib\\image.py:208\u001B[0m, in \u001B[0;36m_resample\u001B[1;34m(image_obj, data, out_shape, transform, resample, alpha)\u001B[0m\n\u001B[0;32m    206\u001B[0m \u001B[38;5;28;01mif\u001B[39;00m resample \u001B[38;5;129;01mis\u001B[39;00m \u001B[38;5;28;01mNone\u001B[39;00m:\n\u001B[0;32m    207\u001B[0m     resample \u001B[38;5;241m=\u001B[39m image_obj\u001B[38;5;241m.\u001B[39mget_resample()\n\u001B[1;32m--> 208\u001B[0m \u001B[43m_image\u001B[49m\u001B[38;5;241;43m.\u001B[39;49m\u001B[43mresample\u001B[49m\u001B[43m(\u001B[49m\u001B[43mdata\u001B[49m\u001B[43m,\u001B[49m\u001B[43m \u001B[49m\u001B[43mout\u001B[49m\u001B[43m,\u001B[49m\u001B[43m \u001B[49m\u001B[43mtransform\u001B[49m\u001B[43m,\u001B[49m\n\u001B[0;32m    209\u001B[0m \u001B[43m                \u001B[49m\u001B[43m_interpd_\u001B[49m\u001B[43m[\u001B[49m\u001B[43minterpolation\u001B[49m\u001B[43m]\u001B[49m\u001B[43m,\u001B[49m\n\u001B[0;32m    210\u001B[0m \u001B[43m                \u001B[49m\u001B[43mresample\u001B[49m\u001B[43m,\u001B[49m\n\u001B[0;32m    211\u001B[0m \u001B[43m                \u001B[49m\u001B[43malpha\u001B[49m\u001B[43m,\u001B[49m\n\u001B[0;32m    212\u001B[0m \u001B[43m                \u001B[49m\u001B[43mimage_obj\u001B[49m\u001B[38;5;241;43m.\u001B[39;49m\u001B[43mget_filternorm\u001B[49m\u001B[43m(\u001B[49m\u001B[43m)\u001B[49m\u001B[43m,\u001B[49m\n\u001B[0;32m    213\u001B[0m \u001B[43m                \u001B[49m\u001B[43mimage_obj\u001B[49m\u001B[38;5;241;43m.\u001B[39;49m\u001B[43mget_filterrad\u001B[49m\u001B[43m(\u001B[49m\u001B[43m)\u001B[49m\u001B[43m)\u001B[49m\n\u001B[0;32m    214\u001B[0m \u001B[38;5;28;01mreturn\u001B[39;00m out\n",
      "\u001B[1;31mKeyboardInterrupt\u001B[0m: "
     ]
    }
   ],
   "execution_count": 11
  },
  {
   "metadata": {},
   "cell_type": "code",
   "outputs": [],
   "execution_count": null,
   "source": "",
   "id": "549967a9435f51ac"
  }
 ],
 "metadata": {
  "kernelspec": {
   "display_name": "Python 3",
   "language": "python",
   "name": "python3"
  },
  "language_info": {
   "codemirror_mode": {
    "name": "ipython",
    "version": 2
   },
   "file_extension": ".py",
   "mimetype": "text/x-python",
   "name": "python",
   "nbconvert_exporter": "python",
   "pygments_lexer": "ipython2",
   "version": "2.7.6"
  }
 },
 "nbformat": 4,
 "nbformat_minor": 5
}
