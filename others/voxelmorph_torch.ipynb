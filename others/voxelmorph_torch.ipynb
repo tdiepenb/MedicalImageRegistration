{
 "cells": [
  {
   "metadata": {
    "colab": {
     "base_uri": "https://localhost:8080/"
    },
    "id": "2f5df6dd907cc9b9",
    "outputId": "eaf49885-d53c-4703-f811-0d77e9ca5b00",
    "ExecuteTime": {
     "end_time": "2024-08-11T23:06:30.918652Z",
     "start_time": "2024-08-11T23:06:30.778011Z"
    }
   },
   "cell_type": "code",
   "source": [
    "!nvidia-smi"
   ],
   "id": "2f5df6dd907cc9b9",
   "outputs": [
    {
     "name": "stdout",
     "output_type": "stream",
     "text": [
      "Mon Aug 12 01:06:30 2024       \n",
      "+-----------------------------------------------------------------------------------------+\n",
      "| NVIDIA-SMI 556.12                 Driver Version: 556.12         CUDA Version: 12.5     |\n",
      "|-----------------------------------------+------------------------+----------------------+\n",
      "| GPU  Name                  Driver-Model | Bus-Id          Disp.A | Volatile Uncorr. ECC |\n",
      "| Fan  Temp   Perf          Pwr:Usage/Cap |           Memory-Usage | GPU-Util  Compute M. |\n",
      "|                                         |                        |               MIG M. |\n",
      "|=========================================+========================+======================|\n",
      "|   0  NVIDIA GeForce GTX 1080      WDDM  |   00000000:01:00.0  On |                  N/A |\n",
      "|  0%   43C    P8             21W /  270W |    1703MiB /   8192MiB |     11%      Default |\n",
      "|                                         |                        |                  N/A |\n",
      "+-----------------------------------------+------------------------+----------------------+\n",
      "                                                                                         \n",
      "+-----------------------------------------------------------------------------------------+\n",
      "| Processes:                                                                              |\n",
      "|  GPU   GI   CI        PID   Type   Process name                              GPU Memory |\n",
      "|        ID   ID                                                               Usage      |\n",
      "|=========================================================================================|\n",
      "|    0   N/A  N/A       460    C+G   ...ogram Files (x86)\\Zotero\\zotero.exe      N/A      |\n",
      "|    0   N/A  N/A      6716    C+G   ...s (x86)\\Mozilla Firefox\\firefox.exe      N/A      |\n",
      "|    0   N/A  N/A      9052    C+G   ...crosoft\\Edge\\Application\\msedge.exe      N/A      |\n",
      "|    0   N/A  N/A      9340    C+G   C:\\Windows\\explorer.exe                     N/A      |\n",
      "|    0   N/A  N/A      9932    C+G   ...tionsPlus\\logioptionsplus_agent.exe      N/A      |\n",
      "|    0   N/A  N/A     13376    C+G   ...mpt_builder\\LogiAiPromptBuilder.exe      N/A      |\n",
      "|    0   N/A  N/A     13504    C+G   ....Search_cw5n1h2txyewy\\SearchApp.exe      N/A      |\n",
      "|    0   N/A  N/A     13640    C+G   ...cal\\Microsoft\\OneDrive\\OneDrive.exe      N/A      |\n",
      "|    0   N/A  N/A     14052    C+G   ...CBS_cw5n1h2txyewy\\TextInputHost.exe      N/A      |\n",
      "|    0   N/A  N/A     14764    C+G   ...n\\126.0.2592.113\\msedgewebview2.exe      N/A      |\n",
      "|    0   N/A  N/A     16020    C+G   ...GeForce Experience\\NVIDIA Share.exe      N/A      |\n",
      "|    0   N/A  N/A     16228    C+G   ...GeForce Experience\\NVIDIA Share.exe      N/A      |\n",
      "|    0   N/A  N/A     17028    C+G   ...t.LockApp_cw5n1h2txyewy\\LockApp.exe      N/A      |\n",
      "|    0   N/A  N/A     17176    C+G   ...s (x86)\\Mozilla Firefox\\firefox.exe      N/A      |\n",
      "|    0   N/A  N/A     19112    C+G   ...(x86)\\CorsairLink4\\CorsairLink4.exe      N/A      |\n",
      "|    0   N/A  N/A     19268    C+G   ... (x86)\\MOTU\\CoreUAC\\MOTUMSeries.exe      N/A      |\n",
      "|    0   N/A  N/A     19444    C+G   ...air\\Corsair iCUE5 Software\\iCUE.exe      N/A      |\n",
      "|    0   N/A  N/A     19880    C+G   ...B\\system_tray\\lghub_system_tray.exe      N/A      |\n",
      "|    0   N/A  N/A     21604    C+G   ...5n1h2txyewy\\ShellExperienceHost.exe      N/A      |\n",
      "|    0   N/A  N/A     24716    C+G   ....0_x64__8wekyb3d8bbwe\\HxOutlook.exe      N/A      |\n",
      "|    0   N/A  N/A     25904    C+G   ...ekyb3d8bbwe\\PhoneExperienceHost.exe      N/A      |\n",
      "|    0   N/A  N/A     26488    C+G   ...AppData\\Roaming\\Spotify\\Spotify.exe      N/A      |\n",
      "+-----------------------------------------------------------------------------------------+\n"
     ]
    }
   ],
   "execution_count": 2
  },
  {
   "metadata": {
    "id": "23433e4a180459aa",
    "ExecuteTime": {
     "end_time": "2024-08-11T23:06:44.878445Z",
     "start_time": "2024-08-11T23:06:31.111226Z"
    }
   },
   "cell_type": "code",
   "source": [
    "import torch\n",
    "import torch.nn as nn\n",
    "import torch.optim as optim\n",
    "import os\n",
    "import urllib\n",
    "import zipfile\n",
    "from torch.utils.data import Dataset, DataLoader\n",
    "import torch.nn.functional as F\n",
    "import numpy as np\n",
    "import nibabel as nib\n",
    "import matplotlib.pyplot as plt\n",
    "from sklearn.model_selection import train_test_split\n",
    "import json\n",
    "import random"
   ],
   "id": "23433e4a180459aa",
   "outputs": [],
   "execution_count": 3
  },
  {
   "metadata": {
    "colab": {
     "base_uri": "https://localhost:8080/"
    },
    "id": "610fb4f47b459287",
    "outputId": "8840fdf7-96f4-46b3-a4ea-6f64561952ee",
    "ExecuteTime": {
     "end_time": "2024-08-11T23:06:45.041443Z",
     "start_time": "2024-08-11T23:06:44.879455Z"
    }
   },
   "cell_type": "code",
   "source": [
    "if torch.cuda.is_available():\n",
    "    print('CUDA is available. GPU will be used.')\n",
    "    device = torch.device('cuda')"
   ],
   "id": "610fb4f47b459287",
   "outputs": [
    {
     "name": "stdout",
     "output_type": "stream",
     "text": [
      "CUDA is available. GPU will be used.\n"
     ]
    }
   ],
   "execution_count": 4
  },
  {
   "metadata": {
    "id": "3d35c28643b78b32",
    "ExecuteTime": {
     "end_time": "2024-08-11T23:06:45.054842Z",
     "start_time": "2024-08-11T23:06:45.042443Z"
    }
   },
   "cell_type": "code",
   "source": [
    "# Load NIfTI image\n",
    "def load_nifti(file_path):\n",
    "    nifti_img = nib.load(file_path)\n",
    "    image_data = nifti_img.get_fdata()\n",
    "    print('min', np.min(image_data))\n",
    "    print('max', np.max(image_data))\n",
    "    rot_image = np.rot90(image_data, k=1, axes=(0, 2))\n",
    "    swapped_axis_img = np.swapaxes(rot_image, 1, 2)\n",
    "    data = swapped_axis_img / 255.\n",
    "    return data.astype(np.float32)\n",
    "\n",
    "\n",
    "def unsqueeze_tensor(image, dim=5):\n",
    "    image_tensor = torch.tensor(image, dtype=torch.float32)\n",
    "    # add dimensions to the start of the tensor until desired dim is reached\n",
    "    while len(image_tensor.shape) < dim:\n",
    "        image_tensor = image_tensor.unsqueeze(0)\n",
    "\n",
    "    return image_tensor\n",
    "\n",
    "\n",
    "def downsample_image(image, scale_factor=0.5):\n",
    "    # Convert numpy array to a PyTorch tensor\n",
    "    image_tensor = torch.tensor(image, dtype=torch.float32)\n",
    "\n",
    "    image_tensor = unsqueeze_tensor(image_tensor, dim=5)\n",
    "\n",
    "    # Downsample the image using F.interpolate\n",
    "    downsampled_tensor = F.interpolate(image_tensor, scale_factor=scale_factor, mode='trilinear', align_corners=True)\n",
    "\n",
    "    # Remove the added batch dimension if it was added\n",
    "    downsampled_tensor = downsampled_tensor.squeeze()  # Shape: (C, D', H', W')\n",
    "\n",
    "    return downsampled_tensor\n",
    "\n",
    "\n",
    "# Spatial Transformer Network for warping the moving image\n",
    "def stn(moving_image, flow):\n",
    "    # Here, we use PyTorch's grid_sample to warp the moving image using the flow field\n",
    "    D, H, W = moving_image.shape[2:]\n",
    "    # Create mesh grid\n",
    "    grid_d, grid_h, grid_w = torch.meshgrid(\n",
    "        torch.arange(D, dtype=torch.float32, device=moving_image.device),\n",
    "        torch.arange(H, dtype=torch.float32, device=moving_image.device),\n",
    "        torch.arange(W, dtype=torch.float32, device=moving_image.device)\n",
    "    )\n",
    "    grid = torch.stack((grid_w, grid_h, grid_d), dim=0)  # Shape: (3, D, H, W)\n",
    "    grid = grid.unsqueeze(0).expand(moving_image.size(0), -1, -1, -1, -1)  # Shape: (B, 3, D, H, W)\n",
    "    grid = grid + flow\n",
    "    grid = grid.permute(0, 2, 3, 4, 1)  # Change shape to (B, D, H, W, 3) for grid_sample\n",
    "\n",
    "    # Normalize grid to [-1, 1]\n",
    "    grid[..., 0] = 2.0 * grid[..., 0] / (W - 1) - 1.0\n",
    "    grid[..., 1] = 2.0 * grid[..., 1] / (H - 1) - 1.0\n",
    "    grid[..., 2] = 2.0 * grid[..., 2] / (D - 1) - 1.0\n",
    "\n",
    "    # Sample pixels from moving image\n",
    "    warped_image = F.grid_sample(moving_image, grid, mode='bilinear', padding_mode='border', align_corners=True)\n",
    "    return warped_image\n"
   ],
   "id": "3d35c28643b78b32",
   "outputs": [],
   "execution_count": 5
  },
  {
   "metadata": {
    "id": "8427a10f42827ddb",
    "ExecuteTime": {
     "end_time": "2024-08-11T23:06:45.064815Z",
     "start_time": "2024-08-11T23:06:45.056854Z"
    }
   },
   "cell_type": "code",
   "source": [
    "def load_data(jsonData, dataFolderPath, training_or_test):\n",
    "    images = []\n",
    "    for sample in jsonData[training_or_test]:\n",
    "        imagePath = dataFolderPath + sample['image'].removeprefix('.')\n",
    "        images.append(imagePath)\n",
    "\n",
    "    return images"
   ],
   "id": "8427a10f42827ddb",
   "outputs": [],
   "execution_count": 6
  },
  {
   "metadata": {
    "id": "de62dcf658464a6",
    "ExecuteTime": {
     "end_time": "2024-08-11T23:06:45.075609Z",
     "start_time": "2024-08-11T23:06:45.067828Z"
    }
   },
   "cell_type": "code",
   "source": [
    "# download dataset if training on colab\n",
    "colab = False\n",
    "\n",
    "if colab:\n",
    "    filename = 'AbdomenCTCT.zip'\n",
    "    if not os.path.exists(filename):\n",
    "        url = 'https://cloud.imi.uni-luebeck.de/s/32WaSRaTnFk2JeT/download/AbdomenCTCT.zip'\n",
    "        urllib.request.urlretrieve(url, filename)\n",
    "\n",
    "        # extract files\n",
    "        with zipfile.ZipFile(filename, 'r') as zip_ref:\n",
    "            zip_ref.extractall('./data/')"
   ],
   "id": "de62dcf658464a6",
   "outputs": [],
   "execution_count": 7
  },
  {
   "metadata": {
    "id": "720759ac21601c56",
    "ExecuteTime": {
     "end_time": "2024-08-11T23:06:45.084517Z",
     "start_time": "2024-08-11T23:06:45.077618Z"
    }
   },
   "cell_type": "code",
   "source": [
    "#load data\n",
    "with open('./data/AbdomenCTCT/AbdomenCTCT_dataset.json', 'r') as file:\n",
    "    data_json = json.load(file)\n",
    "dataFolder = './data/AbdomenCTCT'\n",
    "image_paths = load_data(data_json, dataFolder, 'training')"
   ],
   "id": "720759ac21601c56",
   "outputs": [],
   "execution_count": 8
  },
  {
   "metadata": {
    "colab": {
     "base_uri": "https://localhost:8080/"
    },
    "id": "6b0bbc9df0b9d0c2",
    "outputId": "b6cbadec-0f3a-44e5-cc68-cd094a31b01b",
    "ExecuteTime": {
     "end_time": "2024-08-11T23:06:45.094002Z",
     "start_time": "2024-08-11T23:06:45.085524Z"
    }
   },
   "cell_type": "code",
   "source": [
    "# Split the dataset\n",
    "train_images, temp_images = train_test_split(image_paths, test_size=0.3, random_state=42)\n",
    "val_images, test_images = train_test_split(temp_images, test_size=0.5, random_state=42)\n",
    "\n",
    "print(f\"Training set: {len(train_images)} images\")\n",
    "print(f\"Validation set: {len(val_images)} images\")\n",
    "print(f\"Testing set: {len(test_images)} images\")\n"
   ],
   "id": "6b0bbc9df0b9d0c2",
   "outputs": [
    {
     "name": "stdout",
     "output_type": "stream",
     "text": [
      "Training set: 21 images\n",
      "Validation set: 4 images\n",
      "Testing set: 5 images\n"
     ]
    }
   ],
   "execution_count": 9
  },
  {
   "metadata": {
    "colab": {
     "base_uri": "https://localhost:8080/",
     "height": 446
    },
    "id": "55383d692a916428",
    "outputId": "7db31208-2ca7-4c43-d4a6-0bc2ae40ef13",
    "ExecuteTime": {
     "end_time": "2024-08-11T23:06:45.928897Z",
     "start_time": "2024-08-11T23:06:45.095021Z"
    }
   },
   "cell_type": "code",
   "source": [
    "img = 0\n",
    "depth = 40\n",
    "\n",
    "img1 = load_nifti(train_images[img])\n",
    "\n",
    "print(img1.shape)\n",
    "\n",
    "plt.imshow(img1[:, :, depth], cmap='gray')\n",
    "plt.title(\"Image\")\n",
    "plt.axis(\"off\")"
   ],
   "id": "55383d692a916428",
   "outputs": [
    {
     "name": "stdout",
     "output_type": "stream",
     "text": [
      "min -1024.0\n",
      "max 1841.902587890625\n",
      "(256, 192, 160)\n"
     ]
    },
    {
     "data": {
      "text/plain": [
       "(-0.5, 191.5, 255.5, -0.5)"
      ]
     },
     "execution_count": 10,
     "metadata": {},
     "output_type": "execute_result"
    },
    {
     "data": {
      "text/plain": [
       "<Figure size 640x480 with 1 Axes>"
      ],
      "image/png": "[encoded data removed]"
     },
     "metadata": {},
     "output_type": "display_data"
    }
   ],
   "execution_count": 10
  },
  {
   "metadata": {
    "id": "756fa1a2d7b1d721",
    "ExecuteTime": {
     "end_time": "2024-08-11T13:58:21.191121Z",
     "start_time": "2024-08-11T13:58:21.183221Z"
    }
   },
   "cell_type": "code",
   "source": [
    "class AbdomenCTDataset(Dataset):\n",
    "    def __init__(self, image_paths, downsample=False, scale_factor=0.5):\n",
    "        self.image_paths = image_paths\n",
    "        self.downsample = downsample\n",
    "        self.scale_factor = scale_factor\n",
    "\n",
    "    def __len__(self):\n",
    "        return len(self.image_paths)\n",
    "\n",
    "    def __getitem__(self, idx):\n",
    "        moving_image = load_nifti(self.image_paths[idx])\n",
    "        rand_idx = random.randint(0, len(self.image_paths) - 1)\n",
    "        fixed_image = load_nifti(self.image_paths[rand_idx])\n",
    "\n",
    "        # Convert to torch tensors and add channel dimension\n",
    "        mov_img = torch.tensor(moving_image, dtype=torch.float32)\n",
    "        fix_image = torch.tensor(fixed_image, dtype=torch.float32)\n",
    "\n",
    "        if self.downsample:\n",
    "            mov_img = downsample_image(mov_img, scale_factor=self.scale_factor)\n",
    "            fix_image = downsample_image(fix_image, scale_factor=self.scale_factor)\n",
    "\n",
    "        mov_img = unsqueeze_tensor(mov_img, dim=4)\n",
    "\n",
    "        fix_image = unsqueeze_tensor(fix_image, dim=4)\n",
    "\n",
    "        return fix_image, mov_img\n",
    "\n",
    "\n",
    "# Create Dataset Instances\n",
    "train_dataset = AbdomenCTDataset(train_images, downsample=True, scale_factor=0.5)\n",
    "val_dataset = AbdomenCTDataset(val_images, downsample=True, scale_factor=0.5)\n",
    "test_dataset = AbdomenCTDataset(test_images, downsample=True, scale_factor=0.5)\n"
   ],
   "id": "756fa1a2d7b1d721",
   "outputs": [],
   "execution_count": 108
  },
  {
   "metadata": {
    "id": "d3c6248330a80484",
    "ExecuteTime": {
     "end_time": "2024-08-11T13:58:21.199386Z",
     "start_time": "2024-08-11T13:58:21.192118Z"
    }
   },
   "cell_type": "code",
   "source": [
    "train_loader = DataLoader(train_dataset, batch_size=1, shuffle=True)\n",
    "val_loader = DataLoader(val_dataset, batch_size=1, shuffle=False)\n",
    "test_loader = DataLoader(test_dataset, batch_size=1, shuffle=False)"
   ],
   "id": "d3c6248330a80484",
   "outputs": [],
   "execution_count": 109
  },
  {
   "metadata": {
    "id": "a445b49998b349e8",
    "ExecuteTime": {
     "end_time": "2024-08-11T14:02:30.396004Z",
     "start_time": "2024-08-11T14:02:29.898548Z"
    }
   },
   "cell_type": "code",
   "source": [
    "class UNet(nn.Module):\n",
    "    def __init__(self, in_channels=1, out_channels=3):\n",
    "        super(UNet, self).__init__()\n",
    "        self.enc1 = self.conv_block(in_channels, 64)\n",
    "        self.enc2 = self.conv_block(64, 128)\n",
    "        self.enc3 = self.conv_block(128, 256)\n",
    "        self.enc4 = self.conv_block(256, 512)\n",
    "        self.bottleneck = self.conv_block(512, 1024)\n",
    "\n",
    "        # Notice the change in in_channels for the decoders\n",
    "        self.dec4 = self.upconv_block(1024 + 512, 512)\n",
    "        self.dec3 = self.upconv_block(512 + 256, 256)\n",
    "        self.dec2 = self.upconv_block(256 + 128, 128)\n",
    "        self.dec1 = self.upconv_block(128 + 64, 64)\n",
    "        \n",
    "        self.out_conv = nn.Conv3d(64, out_channels, kernel_size=1)\n",
    "\n",
    "    def conv_block(self, in_channels, out_channels):\n",
    "        return nn.Sequential(\n",
    "            nn.Conv3d(in_channels, out_channels, kernel_size=3, padding=1),\n",
    "            nn.BatchNorm3d(out_channels),\n",
    "            nn.ReLU(inplace=True),\n",
    "            nn.Conv3d(out_channels, out_channels, kernel_size=3, padding=1),\n",
    "            nn.BatchNorm3d(out_channels),\n",
    "            nn.ReLU(inplace=True)\n",
    "        )\n",
    "\n",
    "    def upconv_block(self, in_channels, out_channels):\n",
    "        return nn.Sequential(\n",
    "            nn.ConvTranspose3d(in_channels, out_channels, kernel_size=2, stride=2),\n",
    "            nn.ReLU(inplace=True)\n",
    "        )\n",
    "\n",
    "    def forward(self, x):\n",
    "        enc1 = self.enc1(x)\n",
    "        enc2 = self.enc2(F.max_pool3d(enc1, 2))\n",
    "        enc3 = self.enc3(F.max_pool3d(enc2, 2))\n",
    "        enc4 = self.enc4(F.max_pool3d(enc3, 2))\n",
    "        \n",
    "        bottleneck = self.bottleneck(F.max_pool3d(enc4, 2))\n",
    "    \n",
    "        # Upsample the bottleneck to match the size of enc4 before concatenation\n",
    "        bottleneck = F.interpolate(bottleneck, size=enc4.shape[2:], mode='trilinear', align_corners=True)\n",
    "        \n",
    "        dec4 = self.dec4(torch.cat((bottleneck, enc4), dim=1))\n",
    "        dec3 = self.dec3(torch.cat((dec4, enc3), dim=1))\n",
    "        dec2 = self.dec2(torch.cat((dec3, enc2), dim=1))\n",
    "        dec1 = self.dec1(torch.cat((dec2, enc1), dim=1))\n",
    "    \n",
    "        out = self.out_conv(dec1)\n",
    "        return out\n",
    "\n",
    "\n",
    "# Instantiate Model\n",
    "model = UNet(in_channels=2, out_channels=3).cuda()"
   ],
   "id": "a445b49998b349e8",
   "outputs": [],
   "execution_count": 116
  },
  {
   "metadata": {},
   "cell_type": "code",
   "execution_count": 117,
   "source": [
    "# Define Loss Functions\n",
    "def mse_loss(warped, fixed):\n",
    "    return torch.mean((warped - fixed) ** 2)\n",
    "\n",
    "\n",
    "def gradient_loss(flow):\n",
    "    dx = torch.abs(flow[:, :, 1:, :, :] - flow[:, :, :-1, :, :])\n",
    "    dy = torch.abs(flow[:, :, :, 1:, :] - flow[:, :, :, :-1, :])\n",
    "    dz = torch.abs(flow[:, :, :, :, 1:] - flow[:, :, :, :, :-1])\n",
    "    return torch.mean(dx) + torch.mean(dy) + torch.mean(dz)\n",
    "\n",
    "\n",
    "# Optimizer\n",
    "optimizer = optim.Adam(model.parameters(), lr=1e-4)\n"
   ],
   "id": "3953194e73bdd23d",
   "outputs": []
  },
  {
   "metadata": {
    "colab": {
     "base_uri": "https://localhost:8080/",
     "height": 508
    },
    "id": "950ec61de5c512a1",
    "outputId": "cf38c015-4c7f-48cf-9067-f5f8cd574c07",
    "ExecuteTime": {
     "end_time": "2024-08-11T14:02:45.476541Z",
     "start_time": "2024-08-11T14:02:30.970749Z"
    }
   },
   "cell_type": "code",
   "source": [
    "# Initialize lists to store loss values\n",
    "train_losses = []\n",
    "val_losses = []\n",
    "\n",
    "num_epochs = 100  # Adjust as needed\n",
    "smoothness_reg = 1.0\n",
    "\n",
    "for epoch in range(num_epochs):\n",
    "    model.train()\n",
    "    train_loss = 0\n",
    "\n",
    "    for fixed_image, moving_image in train_loader:\n",
    "        fixed_image, moving_image = fixed_image.cuda(), moving_image.cuda()\n",
    "\n",
    "        optimizer.zero_grad()\n",
    "        flow = model(torch.cat((fixed_image, moving_image), dim=1))\n",
    "        warped_image = stn(moving_image, flow)\n",
    "\n",
    "        loss_sim = mse_loss(warped_image, fixed_image)\n",
    "        loss_reg = gradient_loss(flow)\n",
    "        loss = loss_sim + smoothness_reg * loss_reg  # Adjust the weighting factor as needed\n",
    "\n",
    "        train_loss += loss.item()\n",
    "\n",
    "        loss.backward()\n",
    "        optimizer.step()\n",
    "\n",
    "    train_loss /= len(train_loader)\n",
    "    train_losses.append(train_loss)\n",
    "\n",
    "    # Validation Loop\n",
    "    model.eval()\n",
    "    val_loss = 0\n",
    "    with torch.no_grad():\n",
    "        for fixed_image, moving_image in val_loader:\n",
    "            fixed_image, moving_image = fixed_image.cuda(), moving_image.cuda()\n",
    "            flow = model(torch.cat((fixed_image, moving_image), dim=1))\n",
    "            warped_image = stn(moving_image, flow)\n",
    "\n",
    "            loss_sim = mse_loss(warped_image, fixed_image)\n",
    "            loss_reg = gradient_loss(flow)\n",
    "            loss = loss_sim + smoothness_reg * loss_reg\n",
    "\n",
    "            val_loss += loss.item()\n",
    "\n",
    "    val_loss /= len(val_loader)\n",
    "    val_losses.append(val_loss)\n",
    "\n",
    "    print(f'Epoch {epoch + 1}/{num_epochs}, Train Loss: {train_loss:.4f}, Val Loss: {val_loss:.4f}')\n"
   ],
   "id": "950ec61de5c512a1",
   "outputs": [
    {
     "name": "stderr",
     "output_type": "stream",
     "text": [
      "C:\\Users\\Tilmann\\AppData\\Local\\Temp\\ipykernel_5948\\763220947.py:23: UserWarning: To copy construct from a tensor, it is recommended to use sourceTensor.clone().detach() or sourceTensor.clone().detach().requires_grad_(True), rather than torch.tensor(sourceTensor).\n",
      "  image_tensor = torch.tensor(image, dtype=torch.float32)\n",
      "C:\\Users\\Tilmann\\AppData\\Local\\Temp\\ipykernel_5948\\763220947.py:12: UserWarning: To copy construct from a tensor, it is recommended to use sourceTensor.clone().detach() or sourceTensor.clone().detach().requires_grad_(True), rather than torch.tensor(sourceTensor).\n",
      "  image_tensor = torch.tensor(image, dtype=torch.float32)\n"
     ]
    },
    {
     "name": "stdout",
     "output_type": "stream",
     "text": [
      "torch.Size([1, 1, 256, 192, 160])\n",
      "torch.Size([1, 1, 256, 192, 160])\n",
      "torch.Size([1, 128, 96, 80])\n",
      "torch.Size([1, 128, 96, 80])\n"
     ]
    },
    {
     "name": "stderr",
     "output_type": "stream",
     "text": [
      "F:\\git\\CV\\MedicalImageRegistration\\.venv\\Lib\\site-packages\\torch\\functional.py:513: UserWarning: torch.meshgrid: in an upcoming release, it will be required to pass the indexing argument. (Triggered internally at C:\\actions-runner\\_work\\pytorch\\pytorch\\builder\\windows\\pytorch\\aten\\src\\ATen\\native\\TensorShape.cpp:3610.)\n",
      "  return _VF.meshgrid(tensors, **kwargs)  # type: ignore[attr-defined]\n"
     ]
    },
    {
     "ename": "RuntimeError",
     "evalue": "The size of tensor a (80) must match the size of tensor b (160) at non-singleton dimension 4",
     "output_type": "error",
     "traceback": [
      "\u001B[1;31m---------------------------------------------------------------------------\u001B[0m",
      "\u001B[1;31mRuntimeError\u001B[0m                              Traceback (most recent call last)",
      "Cell \u001B[1;32mIn[118], line 17\u001B[0m\n\u001B[0;32m     15\u001B[0m optimizer\u001B[38;5;241m.\u001B[39mzero_grad()\n\u001B[0;32m     16\u001B[0m flow \u001B[38;5;241m=\u001B[39m model(torch\u001B[38;5;241m.\u001B[39mcat((fixed_image, moving_image), dim\u001B[38;5;241m=\u001B[39m\u001B[38;5;241m1\u001B[39m))\n\u001B[1;32m---> 17\u001B[0m warped_image \u001B[38;5;241m=\u001B[39m \u001B[43mstn\u001B[49m\u001B[43m(\u001B[49m\u001B[43mmoving_image\u001B[49m\u001B[43m,\u001B[49m\u001B[43m \u001B[49m\u001B[43mflow\u001B[49m\u001B[43m)\u001B[49m\n\u001B[0;32m     19\u001B[0m loss_sim \u001B[38;5;241m=\u001B[39m mse_loss(warped_image, fixed_image)\n\u001B[0;32m     20\u001B[0m loss_reg \u001B[38;5;241m=\u001B[39m gradient_loss(flow)\n",
      "Cell \u001B[1;32mIn[102], line 48\u001B[0m, in \u001B[0;36mstn\u001B[1;34m(moving_image, flow)\u001B[0m\n\u001B[0;32m     46\u001B[0m grid \u001B[38;5;241m=\u001B[39m torch\u001B[38;5;241m.\u001B[39mstack((grid_w, grid_h, grid_d), dim\u001B[38;5;241m=\u001B[39m\u001B[38;5;241m0\u001B[39m)  \u001B[38;5;66;03m# Shape: (3, D, H, W)\u001B[39;00m\n\u001B[0;32m     47\u001B[0m grid \u001B[38;5;241m=\u001B[39m grid\u001B[38;5;241m.\u001B[39munsqueeze(\u001B[38;5;241m0\u001B[39m)\u001B[38;5;241m.\u001B[39mexpand(moving_image\u001B[38;5;241m.\u001B[39msize(\u001B[38;5;241m0\u001B[39m), \u001B[38;5;241m-\u001B[39m\u001B[38;5;241m1\u001B[39m, \u001B[38;5;241m-\u001B[39m\u001B[38;5;241m1\u001B[39m, \u001B[38;5;241m-\u001B[39m\u001B[38;5;241m1\u001B[39m, \u001B[38;5;241m-\u001B[39m\u001B[38;5;241m1\u001B[39m)  \u001B[38;5;66;03m# Shape: (B, 3, D, H, W)\u001B[39;00m\n\u001B[1;32m---> 48\u001B[0m grid \u001B[38;5;241m=\u001B[39m \u001B[43mgrid\u001B[49m\u001B[43m \u001B[49m\u001B[38;5;241;43m+\u001B[39;49m\u001B[43m \u001B[49m\u001B[43mflow\u001B[49m\n\u001B[0;32m     49\u001B[0m grid \u001B[38;5;241m=\u001B[39m grid\u001B[38;5;241m.\u001B[39mpermute(\u001B[38;5;241m0\u001B[39m, \u001B[38;5;241m2\u001B[39m, \u001B[38;5;241m3\u001B[39m, \u001B[38;5;241m4\u001B[39m, \u001B[38;5;241m1\u001B[39m)  \u001B[38;5;66;03m# Change shape to (B, D, H, W, 3) for grid_sample\u001B[39;00m\n\u001B[0;32m     51\u001B[0m \u001B[38;5;66;03m# Normalize grid to [-1, 1]\u001B[39;00m\n",
      "\u001B[1;31mRuntimeError\u001B[0m: The size of tensor a (80) must match the size of tensor b (160) at non-singleton dimension 4"
     ]
    }
   ],
   "execution_count": 118
  },
  {
   "metadata": {
    "id": "f67af938ae26ba77"
   },
   "cell_type": "code",
   "source": [
    "# Plot Training and Validation Loss\n",
    "plt.figure(figsize=(10, 5))\n",
    "plt.plot(train_losses, label='Training Loss')\n",
    "plt.plot(val_losses, label='Validation Loss')\n",
    "plt.xlabel('Epoch')\n",
    "plt.ylabel('Loss')\n",
    "plt.title('Training and Validation Loss')\n",
    "plt.legend()\n",
    "plt.grid(True)\n",
    "plt.show()\n"
   ],
   "id": "f67af938ae26ba77",
   "outputs": [],
   "execution_count": null
  },
  {
   "metadata": {
    "id": "f7931e05201b1998"
   },
   "cell_type": "code",
   "source": [
    "model.eval()\n",
    "test_loss = 0\n",
    "with torch.no_grad():\n",
    "    for fixed_image, moving_image in test_loader:\n",
    "        fixed_image, moving_image = fixed_image.cuda(), moving_image.cuda()\n",
    "        flow = model(torch.cat((fixed_image, moving_image), dim=1))\n",
    "        warped_image = stn(moving_image, flow)\n",
    "\n",
    "        loss_sim = mse_loss(warped_image, fixed_image)\n",
    "        loss_reg = gradient_loss(flow)\n",
    "        loss = loss_sim + smoothness_reg * loss_reg\n",
    "\n",
    "        test_loss += loss.item()\n",
    "\n",
    "test_loss /= len(test_loader)\n",
    "print(f'Test Loss: {test_loss:.4f}')\n"
   ],
   "id": "f7931e05201b1998",
   "outputs": [],
   "execution_count": null
  },
  {
   "metadata": {
    "id": "7aaefa53645439c3"
   },
   "cell_type": "code",
   "source": [
    "# Visualization\n",
    "model.eval()\n",
    "with torch.no_grad():\n",
    "    for fixed_image, moving_image in test_loader:\n",
    "        fixed_image, moving_image = fixed_image.cuda(), moving_image.cuda()\n",
    "        flow = model(torch.cat((fixed_image, moving_image), dim=1))\n",
    "        warped_image = stn(moving_image, flow)\n",
    "\n",
    "        # Visualization\n",
    "        plt.figure(figsize=(15, 5))\n",
    "\n",
    "        plt.subplot(1, 3, 1)\n",
    "        plt.title('Fixed Image')\n",
    "        plt.imshow(fixed_image[0, 0, :, :, fixed_image.shape[4] // 2].cpu(), cmap='gray')\n",
    "\n",
    "        plt.subplot(1, 3, 2)\n",
    "        plt.title('Moving Image')\n",
    "        plt.imshow(moving_image[0, 0, :, :, moving_image.shape[4] // 2].cpu(), cmap='gray')\n",
    "\n",
    "        plt.subplot(1, 3, 3)\n",
    "        plt.title('Warped Image')\n",
    "        plt.imshow(warped_image[0, 0, :, :, warped_image.shape[4] // 2].cpu(), cmap='gray')\n",
    "\n",
    "        plt.show()\n",
    "        break  # Only show for the first image pair\n"
   ],
   "id": "7aaefa53645439c3",
   "outputs": [],
   "execution_count": null
  },
  {
   "metadata": {
    "id": "fa2fe41b0189da00"
   },
   "cell_type": "code",
   "source": [
    "torch.save(model.state_dict(), 'voxelmorph_pytorch.pth')"
   ],
   "id": "fa2fe41b0189da00",
   "outputs": [],
   "execution_count": null
  },
  {
   "metadata": {
    "id": "2fe29a4ab5abfa37"
   },
   "cell_type": "code",
   "source": [
    "model.load_state_dict(torch.load('voxelmorph_pytorch.pth'))\n",
    "model.eval()  # Set the model to evaluation mode"
   ],
   "id": "2fe29a4ab5abfa37",
   "outputs": [],
   "execution_count": null
  },
  {
   "cell_type": "code",
   "source": [],
   "metadata": {
    "id": "dwekQEaK9LZr"
   },
   "id": "dwekQEaK9LZr",
   "outputs": [],
   "execution_count": null
  }
 ],
 "metadata": {
  "kernelspec": {
   "display_name": "Python 3 (ipykernel)",
   "name": "python3",
   "language": "python"
  },
  "language_info": {
   "codemirror_mode": {
    "name": "ipython",
    "version": 2
   },
   "file_extension": ".py",
   "mimetype": "text/x-python",
   "name": "python",
   "nbconvert_exporter": "python",
   "pygments_lexer": "ipython2",
   "version": "2.7.6"
  },
  "colab": {
   "provenance": [],
   "gpuType": "T4"
  },
  "accelerator": "GPU"
 },
 "nbformat": 4,
 "nbformat_minor": 5
}
