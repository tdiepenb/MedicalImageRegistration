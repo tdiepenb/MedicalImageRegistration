{
 "cells": [
  {
   "cell_type": "code",
   "execution_count": null,
   "id": "initial_id",
   "metadata": {
    "collapsed": true
   },
   "outputs": [],
   "source": "!nvidia-smi"
  },
  {
   "metadata": {},
   "cell_type": "code",
   "outputs": [],
   "execution_count": null,
   "source": [
    "# install tensorflow 2.15 since voxelmorph is not compatible with current build\n",
    "import tensorflow as tf\n",
    "if not tf.__version__.startswith('2.15'):\n",
    "  !pip uninstall -y tensorflow\n",
    "  !pip install tensorflow==2.15\n",
    "# install voxelmorph\n",
    "!pip install voxelmorph"
   ],
   "id": "3bdf1ab306b2dd12"
  },
  {
   "metadata": {},
   "cell_type": "code",
   "outputs": [],
   "execution_count": null,
   "source": [
    "import voxelmorph as vxm\n",
    "import neurite as ne\n",
    "\n",
    "import os\n",
    "import urllib.request\n",
    "import zipfile\n",
    "import json\n",
    "import nibabel as nib\n",
    "import matplotlib.pyplot as plt\n",
    "from matplotlib import colors, patches\n",
    "import numpy as np\n",
    "\n",
    "from sklearn.model_selection import train_test_split"
   ],
   "id": "3cac530e572ee16e"
  },
  {
   "metadata": {},
   "cell_type": "code",
   "outputs": [],
   "execution_count": null,
   "source": [
    "# download dataset\n",
    "filename = 'AbdomenCTCT.zip'\n",
    "if not os.path.exists(filename):\n",
    "    url = 'https://cloud.imi.uni-luebeck.de/s/32WaSRaTnFk2JeT/download/AbdomenCTCT.zip'\n",
    "    urllib.request.urlretrieve(url, filename)\n",
    "\n",
    "    # extract files\n",
    "    with zipfile.ZipFile(filename, 'r') as zip_ref:\n",
    "        zip_ref.extractall('./')"
   ],
   "id": "811eb5a2fe6afb3d"
  },
  {
   "metadata": {},
   "cell_type": "code",
   "outputs": [],
   "execution_count": null,
   "source": [
    "def load_data(jsonData, dataFolderPath, training_or_test, filterString='0001'):\n",
    "    images = []\n",
    "    labels = []\n",
    "    for sample in jsonData[training_or_test]:\n",
    "        image = nib.load(dataFolderPath + sample['image'].removeprefix('.').replace(\".csv\",\".nii.gz\")).get_fdata()\n",
    "        images.append(image)\n",
    "        if training_or_test == 'training':\n",
    "          label = nib.load(dataFolderPath + sample['label'].removeprefix('.').replace(\".csv\",\".nii.gz\")).get_fdata()\n",
    "          labels.append(label)\n",
    "\n",
    "    return np.array(images), np.array(labels)"
   ],
   "id": "3844e71de95b91f"
  },
  {
   "metadata": {},
   "cell_type": "code",
   "outputs": [],
   "execution_count": null,
   "source": [
    "# load data\n",
    "with open('./AbdomenCTCT/AbdomenCTCT_dataset.json', 'r') as file:\n",
    "  data_json = json.load(file)\n",
    "dataFolder = './AbdomenCTCT'\n",
    "images_raw, labels_raw = load_data(data_json, dataFolder, 'training')"
   ],
   "id": "83cf6c05db9ff0b7"
  },
  {
   "metadata": {},
   "cell_type": "code",
   "outputs": [],
   "execution_count": null,
   "source": "images_raw.shape",
   "id": "85a9eb1cfaa26d5a"
  },
  {
   "metadata": {},
   "cell_type": "code",
   "outputs": [],
   "execution_count": null,
   "source": "labels_raw.shape",
   "id": "d61afdece74a74a1"
  },
  {
   "metadata": {},
   "cell_type": "markdown",
   "source": "# Preprocess data",
   "id": "2515499fb6e1dbf6"
  },
  {
   "metadata": {},
   "cell_type": "code",
   "outputs": [],
   "execution_count": null,
   "source": [
    "# choose organ\n",
    "organs_map = {\n",
    "    1: \"spleen\",\n",
    "    2: \"right kidney\",\n",
    "    3: \"left kidney\",\n",
    "    4: \"gall bladder\",\n",
    "    5: \"esophagus\",\n",
    "    6: \"liver\",\n",
    "    7: \"stomach\",\n",
    "    8: \"aorta\",\n",
    "    9: \"inferior vena cava\",\n",
    "    10: \"portal and splenic vein\",\n",
    "    11: \"pancreas\",\n",
    "    12: \"left adrenal gland\",\n",
    "    13: \"right adrenal gland\"\n",
    "}\n",
    "\n",
    "organ_used = 6"
   ],
   "id": "a3ffd7b1b5781c45"
  },
  {
   "metadata": {},
   "cell_type": "code",
   "outputs": [],
   "execution_count": null,
   "source": [
    "# normalize images\n",
    "images_normalized = (images_raw - np.min(images_raw)) / (np.max(images_raw) - np.min(images_raw))\n",
    "\n",
    "# rotate tensor\n",
    "images_rotated = np.array([np.rot90(image, k=1, axes=(0, 2)) for image in images_normalized])\n",
    "labels_rotated = np.array([np.rot90(image, k=1, axes=(0, 2)) for image in labels_raw])\n",
    "\n",
    "# swap and flip axes\n",
    "images = np.swapaxes(images_rotated, 1, 2)[:, ::-1, :, :]\n",
    "labels = np.swapaxes(labels_rotated, 1, 2)[:, ::-1, :, :]\n",
    "\n",
    "# prepare tensor just with one organ\n",
    "organ = np.zeros_like(images)\n",
    "organ[labels == organ_used] = images[labels == organ_used]"
   ],
   "id": "3954216da2da7d20"
  },
  {
   "metadata": {},
   "cell_type": "code",
   "outputs": [],
   "execution_count": null,
   "source": [
    "del images_raw\n",
    "del labels_raw\n",
    "del images_normalized\n",
    "del images_rotated\n",
    "del labels_rotated"
   ],
   "id": "1d330dbdafb2e57d"
  },
  {
   "metadata": {},
   "cell_type": "code",
   "outputs": [],
   "execution_count": null,
   "source": [
    "# preview data\n",
    "img = 0\n",
    "depth = 40\n",
    "\n",
    "fig, (ax0, ax1, ax2) = plt.subplots(ncols=3, figsize=(16,8))\n",
    "ax0.imshow(images[img,depth],cmap='gray')\n",
    "ax0.set_title(\"Image\")\n",
    "ax0.axis(\"off\")\n",
    "ax1.imshow(labels[img,depth], cmap='gray')\n",
    "ax1.set_title(\"Labels\")\n",
    "ax1.axis(\"off\")\n",
    "ax2.imshow(organ[img,depth], cmap='gray')\n",
    "ax2.set_title(organs_map[organ_used])\n",
    "ax2.axis(\"off\")"
   ],
   "id": "a6bff0b8f9d79fc7"
  },
  {
   "metadata": {},
   "cell_type": "code",
   "outputs": [],
   "execution_count": null,
   "source": [
    "organ_label = np.zeros_like(labels)\n",
    "organ_label[labels == organ_used] = labels[labels == organ_used]\n",
    "\n",
    "# setup colormap\n",
    "cmap = colors.ListedColormap([\n",
    "    'black', 'red', 'green', 'blue', 'yellow', 'cyan', 'magenta', 'orange',\n",
    "    'purple', 'brown', 'pink', 'lime', 'teal', 'olive'\n",
    "])\n",
    "norm = colors.BoundaryNorm(boundaries=np.arange(-0.5, 14, 1), ncolors=14)\n",
    "\n",
    "# view image\n",
    "plt.imshow(images[img,depth], cmap='gray', interpolation='none')\n",
    "\n",
    "# view colors\n",
    "plt.imshow(organ_label[img,depth], cmap=cmap, norm=norm, alpha=0.5, interpolation='none')\n",
    "\n",
    "# view rectangles in legend\n",
    "patches_list = [\n",
    "    patches.Patch(color=cmap(organ_used), label=organs_map[organ_used])\n",
    "]\n",
    "\n",
    "# view legend\n",
    "plt.legend(handles=patches_list, bbox_to_anchor=(1.05, 1), loc='upper left', borderaxespad=0.)\n",
    "\n",
    "plt.show()"
   ],
   "id": "1e2d87732c0d6bd"
  },
  {
   "metadata": {},
   "cell_type": "code",
   "outputs": [],
   "execution_count": null,
   "source": [
    "# split dataset\n",
    "_, test_organ = train_test_split(organ, test_size=0.2, random_state=10)"
   ],
   "id": "e2ed797ec1a89818"
  },
  {
   "metadata": {},
   "cell_type": "code",
   "outputs": [],
   "execution_count": null,
   "source": [
    "del images\n",
    "del labels\n",
    "del organ\n",
    "del _"
   ],
   "id": "aa6396b967ed818d"
  },
  {
   "metadata": {},
   "cell_type": "code",
   "outputs": [],
   "execution_count": null,
   "source": "test_organ.shape",
   "id": "82bf17f40d105f98"
  },
  {
   "metadata": {},
   "cell_type": "markdown",
   "source": "# Define Model",
   "id": "668ad570a29d65d"
  },
  {
   "metadata": {},
   "cell_type": "code",
   "outputs": [],
   "execution_count": null,
   "source": [
    "# define the input shapes\n",
    "inshape = test_organ.shape[1:]\n",
    "nb_features = (\n",
    "    (16, 32, 32), # encoder-channels\n",
    "    (32, 32, 16, 16) # decoder-channels\n",
    "    )\n",
    "# build model using VxmDense\n",
    "vxm_model = vxm.networks.VxmDense(inshape, nb_features, int_steps=0)"
   ],
   "id": "3688329d3278f007"
  },
  {
   "metadata": {},
   "cell_type": "markdown",
   "source": "# Load weights",
   "id": "316c3a35c71f98f8"
  },
  {
   "metadata": {},
   "cell_type": "code",
   "outputs": [],
   "execution_count": null,
   "source": [
    "vxm_model.load_weights('models/AbdomenCTCT_'+ organs_map[organ_used] +'_model.h5')\n",
    "                       \n",
    "print('input shape: ', ', '.join([str(t.shape) for t in vxm_model.inputs]))\n",
    "print('output shape:', ', '.join([str(t.shape) for t in vxm_model.outputs]))"
   ],
   "id": "30d5d733bce68077"
  },
  {
   "metadata": {},
   "cell_type": "markdown",
   "source": "# Test registration",
   "id": "b1cf717daa0d7b82"
  },
  {
   "metadata": {},
   "cell_type": "code",
   "outputs": [],
   "execution_count": null,
   "source": [
    "# define a data generator\n",
    "def test_data_generator(data):\n",
    "    while True:\n",
    "        idx1 = np.random.randint(0, data.shape[0], size=1)\n",
    "        idx2 = np.random.randint(0, data.shape[0], size=1)\n",
    "        while idx2 == idx1:\n",
    "            idx2 = np.random.randint(0, data.shape[0], size=1)\n",
    "\n",
    "        fixed_image = data[idx1, ..., np.newaxis]\n",
    "        moving_image = data[idx2, ..., np.newaxis]\n",
    "\n",
    "        yield fixed_image, moving_image"
   ],
   "id": "327be3a5625d1daf"
  },
  {
   "metadata": {},
   "cell_type": "code",
   "outputs": [],
   "execution_count": null,
   "source": [
    "# define validation generator\n",
    "test_generator = test_data_generator(test_organ)"
   ],
   "id": "6b17ec1f36b7b720"
  },
  {
   "metadata": {},
   "cell_type": "code",
   "outputs": [],
   "execution_count": null,
   "source": [
    "# get test sample\n",
    "test_input = next(test_generator)"
   ],
   "id": "b4ea413f51f42314"
  },
  {
   "metadata": {},
   "cell_type": "code",
   "outputs": [],
   "execution_count": null,
   "source": [
    "# perform prediction\n",
    "test_pred = tuple(vxm_model.predict(test_input))"
   ],
   "id": "c97ac73474ca5f3d"
  },
  {
   "metadata": {},
   "cell_type": "code",
   "outputs": [],
   "execution_count": null,
   "source": [
    "# view result\n",
    "images = [img[0, depth] for img in test_input + test_pred]\n",
    "titles = ['moved', 'fixed', 'transformed', 'flow']\n",
    "ne.plot.slices(images, titles=titles, cmaps=['gray'], do_colorbars=True);"
   ],
   "id": "23e5594f6fafb05c"
  },
  {
   "metadata": {},
   "cell_type": "markdown",
   "source": "# Evaluation",
   "id": "75786f686342375c"
  },
  {
   "metadata": {},
   "cell_type": "code",
   "outputs": [],
   "execution_count": null,
   "source": [
    "def dice_score_tf(y_true, y_pred, smooth=1e-6):\n",
    "    binary_y_true = tf.cast(y_true > 0, tf.float32)\n",
    "    binary_y_pred = tf.cast(y_pred > 0, tf.float32)\n",
    "    \n",
    "    y_true_flat = tf.reshape(binary_y_true, [-1])\n",
    "    y_pred_flat = tf.reshape(binary_y_pred, [-1])\n",
    "\n",
    "    intersection = tf.reduce_sum(y_true_flat * y_pred_flat)\n",
    "    union = tf.reduce_sum(y_true_flat) + tf.reduce_sum(y_pred_flat)\n",
    "\n",
    "    dice = (2. * intersection + smooth) / (union + smooth)\n",
    "    return float(dice)"
   ],
   "id": "edc3ae17997953f2"
  },
  {
   "metadata": {},
   "cell_type": "code",
   "outputs": [],
   "execution_count": null,
   "source": [
    "n = test_organ.shape[0]\n",
    "count = 0\n",
    "dice = 0\n",
    "mse = 0\n",
    "for i in range(n):\n",
    "    for j in range(n):\n",
    "        if i == j:\n",
    "            continue\n",
    "        else:\n",
    "            count += 1\n",
    "            test_input = np.array([test_organ[0, ..., np.newaxis]]), np.array([test_organ[1, ..., np.newaxis]])\n",
    "            test_pred = tuple(vxm_model.predict(test_input))\n",
    "            dice += dice_score_tf(test_input[1][0], test_pred[0][0])\n",
    "            mse += np.mean(np.square(test_input[1][0] - test_pred[0][0]))"
   ],
   "id": "375dde3a74d2b9e0"
  },
  {
   "metadata": {},
   "cell_type": "code",
   "outputs": [],
   "execution_count": null,
   "source": [
    "print(\"Dice: \" + str(dice/count))\n",
    "print(\"MSE: \" + str(mse/count))"
   ],
   "id": "59b764c0cc624dba"
  }
 ],
 "metadata": {
  "kernelspec": {
   "display_name": "Python 3",
   "language": "python",
   "name": "python3"
  },
  "language_info": {
   "codemirror_mode": {
    "name": "ipython",
    "version": 2
   },
   "file_extension": ".py",
   "mimetype": "text/x-python",
   "name": "python",
   "nbconvert_exporter": "python",
   "pygments_lexer": "ipython2",
   "version": "2.7.6"
  }
 },
 "nbformat": 4,
 "nbformat_minor": 5
}
