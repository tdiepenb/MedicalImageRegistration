{
 "nbformat": 4,
 "nbformat_minor": 0,
 "metadata": {
  "colab": {
   "provenance": [],
   "gpuType": "T4"
  },
  "kernelspec": {
   "name": "python3",
   "display_name": "Python 3 (ipykernel)",
   "language": "python"
  },
  "language_info": {
   "name": "python"
  },
  "accelerator": "GPU"
 },
 "cells": [
  {
   "cell_type": "code",
   "source": [
    "!nvidia-smi"
   ],
   "metadata": {
    "colab": {
     "base_uri": "https://localhost:8080/"
    },
    "id": "DBpkO880KVTv",
    "outputId": "de8b157d-e2a0-45ea-cafd-bf12df7d9489",
    "ExecuteTime": {
     "end_time": "2024-08-15T12:16:14.435145Z",
     "start_time": "2024-08-15T12:16:14.228144Z"
    }
   },
   "outputs": [
    {
     "name": "stdout",
     "output_type": "stream",
     "text": [
      "Thu Aug 15 14:16:14 2024       \n",
      "+-----------------------------------------------------------------------------------------+\n",
      "| NVIDIA-SMI 556.12                 Driver Version: 556.12         CUDA Version: 12.5     |\n",
      "|-----------------------------------------+------------------------+----------------------+\n",
      "| GPU  Name                  Driver-Model | Bus-Id          Disp.A | Volatile Uncorr. ECC |\n",
      "| Fan  Temp   Perf          Pwr:Usage/Cap |           Memory-Usage | GPU-Util  Compute M. |\n",
      "|                                         |                        |               MIG M. |\n",
      "|=========================================+========================+======================|\n",
      "|   0  NVIDIA GeForce GTX 1080      WDDM  |   00000000:01:00.0  On |                  N/A |\n",
      "|  0%   45C    P0             53W /  270W |    1549MiB /   8192MiB |      3%      Default |\n",
      "|                                         |                        |                  N/A |\n",
      "+-----------------------------------------+------------------------+----------------------+\n",
      "                                                                                         \n",
      "+-----------------------------------------------------------------------------------------+\n",
      "| Processes:                                                                              |\n",
      "|  GPU   GI   CI        PID   Type   Process name                              GPU Memory |\n",
      "|        ID   ID                                                               Usage      |\n",
      "|=========================================================================================|\n",
      "|    0   N/A  N/A      1972    C+G   ...crosoft\\Edge\\Application\\msedge.exe      N/A      |\n",
      "|    0   N/A  N/A      2264    C+G   C:\\Windows\\explorer.exe                     N/A      |\n",
      "|    0   N/A  N/A      4796    C+G   ...tionsPlus\\logioptionsplus_agent.exe      N/A      |\n",
      "|    0   N/A  N/A      6260    C+G   ...(x86)\\CorsairLink4\\CorsairLink4.exe      N/A      |\n",
      "|    0   N/A  N/A     10204    C+G   ...soft Office\\root\\Office16\\EXCEL.EXE      N/A      |\n",
      "|    0   N/A  N/A     12796    C+G   ...mpt_builder\\LogiAiPromptBuilder.exe      N/A      |\n",
      "|    0   N/A  N/A     13852    C+G   ...on\\127.0.2651.98\\msedgewebview2.exe      N/A      |\n",
      "|    0   N/A  N/A     13996    C+G   ...2txyewy\\StartMenuExperienceHost.exe      N/A      |\n",
      "|    0   N/A  N/A     14520    C+G   ....Search_cw5n1h2txyewy\\SearchApp.exe      N/A      |\n",
      "|    0   N/A  N/A     15184    C+G   ...cal\\Microsoft\\OneDrive\\OneDrive.exe      N/A      |\n",
      "|    0   N/A  N/A     15988    C+G   ...s (x86)\\Mozilla Firefox\\firefox.exe      N/A      |\n",
      "|    0   N/A  N/A     16284    C+G   ...CBS_cw5n1h2txyewy\\TextInputHost.exe      N/A      |\n",
      "|    0   N/A  N/A     17496    C+G   ...air\\Corsair iCUE5 Software\\iCUE.exe      N/A      |\n",
      "|    0   N/A  N/A     17572    C+G   ...GeForce Experience\\NVIDIA Share.exe      N/A      |\n",
      "|    0   N/A  N/A     18552    C+G   ...Mozilla Thunderbird\\thunderbird.exe      N/A      |\n",
      "|    0   N/A  N/A     19420    C+G   ... (x86)\\MOTU\\CoreUAC\\MOTUMSeries.exe      N/A      |\n",
      "|    0   N/A  N/A     19720    C+G   ...B\\system_tray\\lghub_system_tray.exe      N/A      |\n",
      "|    0   N/A  N/A     21044    C+G   ...5n1h2txyewy\\ShellExperienceHost.exe      N/A      |\n",
      "|    0   N/A  N/A     22476    C+G   ...s (x86)\\Mozilla Firefox\\firefox.exe      N/A      |\n",
      "+-----------------------------------------------------------------------------------------+\n"
     ]
    }
   ],
   "execution_count": 27
  },
  {
   "cell_type": "markdown",
   "source": [
    "# Setup"
   ],
   "metadata": {
    "id": "QjFc6bFhQIz1"
   }
  },
  {
   "cell_type": "code",
   "metadata": {
    "colab": {
     "base_uri": "https://localhost:8080/"
    },
    "collapsed": true,
    "id": "fSt1LHB7Ii_2",
    "outputId": "fee6c497-8aaa-4ccf-9043-d192921d97e1",
    "ExecuteTime": {
     "end_time": "2024-08-15T12:16:20.915172Z",
     "start_time": "2024-08-15T12:16:14.596145Z"
    }
   },
   "source": [
    "# install tensorflow 2.15 since voxelmorph is not compatible with current build\n",
    "import tensorflow as tf\n",
    "if not tf.__version__.startswith('2.15'):\n",
    "  !pip uninstall -y tensorflow\n",
    "  !pip install tensorflow==2.15\n",
    "# install voxelmorph\n",
    "!pip install voxelmorph"
   ],
   "outputs": [
    {
     "name": "stdout",
     "output_type": "stream",
     "text": [
      "Requirement already satisfied: voxelmorph in f:\\git\\cv\\mirpy310\\medicalimageregistration\\.venv\\lib\\site-packages (0.2)\n",
      "Requirement already satisfied: neurite>=0.2 in f:\\git\\cv\\mirpy310\\medicalimageregistration\\.venv\\lib\\site-packages (from voxelmorph) (0.2)\n",
      "Requirement already satisfied: packaging in f:\\git\\cv\\mirpy310\\medicalimageregistration\\.venv\\lib\\site-packages (from voxelmorph) (24.1)\n",
      "Requirement already satisfied: scikit-image in f:\\git\\cv\\mirpy310\\medicalimageregistration\\.venv\\lib\\site-packages (from voxelmorph) (0.24.0)\n",
      "Requirement already satisfied: h5py in f:\\git\\cv\\mirpy310\\medicalimageregistration\\.venv\\lib\\site-packages (from voxelmorph) (3.11.0)\n",
      "Requirement already satisfied: scipy in f:\\git\\cv\\mirpy310\\medicalimageregistration\\.venv\\lib\\site-packages (from voxelmorph) (1.14.0)\n",
      "Requirement already satisfied: numpy in f:\\git\\cv\\mirpy310\\medicalimageregistration\\.venv\\lib\\site-packages (from voxelmorph) (1.26.4)\n",
      "Requirement already satisfied: nibabel in f:\\git\\cv\\mirpy310\\medicalimageregistration\\.venv\\lib\\site-packages (from voxelmorph) (5.2.1)\n",
      "Requirement already satisfied: six in f:\\git\\cv\\mirpy310\\medicalimageregistration\\.venv\\lib\\site-packages (from neurite>=0.2->voxelmorph) (1.16.0)\n",
      "Requirement already satisfied: scikit-learn in f:\\git\\cv\\mirpy310\\medicalimageregistration\\.venv\\lib\\site-packages (from neurite>=0.2->voxelmorph) (1.5.1)\n",
      "Requirement already satisfied: pystrum>=0.2 in f:\\git\\cv\\mirpy310\\medicalimageregistration\\.venv\\lib\\site-packages (from neurite>=0.2->voxelmorph) (0.4)\n",
      "Requirement already satisfied: tqdm in f:\\git\\cv\\mirpy310\\medicalimageregistration\\.venv\\lib\\site-packages (from neurite>=0.2->voxelmorph) (4.66.5)\n",
      "Requirement already satisfied: matplotlib in f:\\git\\cv\\mirpy310\\medicalimageregistration\\.venv\\lib\\site-packages (from neurite>=0.2->voxelmorph) (3.9.0)\n",
      "Requirement already satisfied: pillow>=9.1 in f:\\git\\cv\\mirpy310\\medicalimageregistration\\.venv\\lib\\site-packages (from scikit-image->voxelmorph) (10.4.0)\n",
      "Requirement already satisfied: lazy-loader>=0.4 in f:\\git\\cv\\mirpy310\\medicalimageregistration\\.venv\\lib\\site-packages (from scikit-image->voxelmorph) (0.4)\n",
      "Requirement already satisfied: imageio>=2.33 in f:\\git\\cv\\mirpy310\\medicalimageregistration\\.venv\\lib\\site-packages (from scikit-image->voxelmorph) (2.34.2)\n",
      "Requirement already satisfied: tifffile>=2022.8.12 in f:\\git\\cv\\mirpy310\\medicalimageregistration\\.venv\\lib\\site-packages (from scikit-image->voxelmorph) (2024.7.24)\n",
      "Requirement already satisfied: networkx>=2.8 in f:\\git\\cv\\mirpy310\\medicalimageregistration\\.venv\\lib\\site-packages (from scikit-image->voxelmorph) (3.3)\n",
      "Requirement already satisfied: fonttools>=4.22.0 in f:\\git\\cv\\mirpy310\\medicalimageregistration\\.venv\\lib\\site-packages (from matplotlib->neurite>=0.2->voxelmorph) (4.53.1)\n",
      "Requirement already satisfied: pyparsing>=2.3.1 in f:\\git\\cv\\mirpy310\\medicalimageregistration\\.venv\\lib\\site-packages (from matplotlib->neurite>=0.2->voxelmorph) (3.1.2)\n",
      "Requirement already satisfied: contourpy>=1.0.1 in f:\\git\\cv\\mirpy310\\medicalimageregistration\\.venv\\lib\\site-packages (from matplotlib->neurite>=0.2->voxelmorph) (1.2.1)\n",
      "Requirement already satisfied: kiwisolver>=1.3.1 in f:\\git\\cv\\mirpy310\\medicalimageregistration\\.venv\\lib\\site-packages (from matplotlib->neurite>=0.2->voxelmorph) (1.4.5)\n",
      "Requirement already satisfied: cycler>=0.10 in f:\\git\\cv\\mirpy310\\medicalimageregistration\\.venv\\lib\\site-packages (from matplotlib->neurite>=0.2->voxelmorph) (0.12.1)\n",
      "Requirement already satisfied: python-dateutil>=2.7 in f:\\git\\cv\\mirpy310\\medicalimageregistration\\.venv\\lib\\site-packages (from matplotlib->neurite>=0.2->voxelmorph) (2.9.0.post0)\n",
      "Requirement already satisfied: threadpoolctl>=3.1.0 in f:\\git\\cv\\mirpy310\\medicalimageregistration\\.venv\\lib\\site-packages (from scikit-learn->neurite>=0.2->voxelmorph) (3.5.0)\n",
      "Requirement already satisfied: joblib>=1.2.0 in f:\\git\\cv\\mirpy310\\medicalimageregistration\\.venv\\lib\\site-packages (from scikit-learn->neurite>=0.2->voxelmorph) (1.4.2)\n",
      "Requirement already satisfied: colorama in f:\\git\\cv\\mirpy310\\medicalimageregistration\\.venv\\lib\\site-packages (from tqdm->neurite>=0.2->voxelmorph) (0.4.6)\n"
     ]
    },
    {
     "name": "stderr",
     "output_type": "stream",
     "text": [
      "\n",
      "[notice] A new release of pip available: 22.3.1 -> 24.2\n",
      "[notice] To update, run: python.exe -m pip install --upgrade pip\n"
     ]
    }
   ],
   "execution_count": 28
  },
  {
   "cell_type": "code",
   "source": [
    "import voxelmorph as vxm\n",
    "import neurite as ne\n",
    "\n",
    "import os\n",
    "import urllib.request\n",
    "import zipfile\n",
    "import json\n",
    "import nibabel as nib\n",
    "import matplotlib.pyplot as plt\n",
    "from matplotlib import colors, patches\n",
    "import numpy as np\n",
    "\n",
    "from sklearn.model_selection import train_test_split"
   ],
   "metadata": {
    "id": "RC2EakxyItfd",
    "ExecuteTime": {
     "end_time": "2024-08-15T12:16:20.930197Z",
     "start_time": "2024-08-15T12:16:20.916173Z"
    }
   },
   "outputs": [],
   "execution_count": 29
  },
  {
   "cell_type": "markdown",
   "source": [
    "# Download dataset"
   ],
   "metadata": {
    "id": "3bKWENMwQLsE"
   }
  },
  {
   "cell_type": "code",
   "source": [
    "# download dataset\n",
    "filename = 'AbdomenCTCT.zip'\n",
    "if not os.path.exists(filename):\n",
    "    url = 'https://cloud.imi.uni-luebeck.de/s/32WaSRaTnFk2JeT/download/AbdomenCTCT.zip'\n",
    "    urllib.request.urlretrieve(url, filename)\n",
    "\n",
    "    # extract files\n",
    "    with zipfile.ZipFile(filename, 'r') as zip_ref:\n",
    "        zip_ref.extractall('./')"
   ],
   "metadata": {
    "id": "5-LJAolvIvi6",
    "ExecuteTime": {
     "end_time": "2024-08-15T12:16:20.946182Z",
     "start_time": "2024-08-15T12:16:20.931208Z"
    }
   },
   "outputs": [],
   "execution_count": 30
  },
  {
   "cell_type": "code",
   "source": [
    "def load_data(jsonData, dataFolderPath, training_or_test, filterString='0001'):\n",
    "    images = []\n",
    "    labels = []\n",
    "    for sample in jsonData[training_or_test]:\n",
    "        image = nib.load(dataFolderPath + sample['image'].removeprefix('.').replace(\".csv\",\".nii.gz\")).get_fdata()\n",
    "        images.append(image)\n",
    "        if training_or_test == 'training':\n",
    "          label = nib.load(dataFolderPath + sample['label'].removeprefix('.').replace(\".csv\",\".nii.gz\")).get_fdata()\n",
    "          labels.append(label)\n",
    "\n",
    "    return np.array(images), np.array(labels)"
   ],
   "metadata": {
    "id": "h0BmbWGJLrzZ",
    "ExecuteTime": {
     "end_time": "2024-08-15T12:16:20.962210Z",
     "start_time": "2024-08-15T12:16:20.948173Z"
    }
   },
   "outputs": [],
   "execution_count": 31
  },
  {
   "cell_type": "code",
   "source": [
    "# load data\n",
    "with open('./AbdomenCTCT/AbdomenCTCT_dataset.json', 'r') as file:\n",
    "  data_json = json.load(file)\n",
    "dataFolder = './AbdomenCTCT'\n",
    "images_raw, labels_raw = load_data(data_json, dataFolder, 'training')"
   ],
   "metadata": {
    "id": "hJAuWlGUQfIq",
    "ExecuteTime": {
     "start_time": "2024-08-15T12:16:20.964172Z"
    }
   },
   "outputs": [],
   "execution_count": null
  },
  {
   "cell_type": "code",
   "source": "images_raw.shape",
   "metadata": {
    "colab": {
     "base_uri": "https://localhost:8080/"
    },
    "id": "kFKDhktUiFLz",
    "outputId": "f71341d8-5a36-4efb-d1c8-8e00926351a5"
   },
   "outputs": [],
   "execution_count": null
  },
  {
   "cell_type": "code",
   "source": "labels_raw.shape",
   "metadata": {
    "colab": {
     "base_uri": "https://localhost:8080/"
    },
    "id": "DJLRPrmDC-10",
    "outputId": "b85d1dd2-40e3-422a-f6e9-830e084703a7"
   },
   "outputs": [],
   "execution_count": null
  },
  {
   "cell_type": "markdown",
   "source": [
    "# Preprocess data"
   ],
   "metadata": {
    "id": "DrSgcJyD7VbZ"
   }
  },
  {
   "metadata": {},
   "cell_type": "code",
   "source": [
    "# choose organ\n",
    "organs_map = {\n",
    "    1: \"spleen\",\n",
    "    2: \"right kidney\",\n",
    "    3: \"left kidney\",\n",
    "    4: \"gall bladder\",\n",
    "    5: \"esophagus\",\n",
    "    6: \"liver\",\n",
    "    7: \"stomach\",\n",
    "    8: \"aorta\",\n",
    "    9: \"inferior vena cava\",\n",
    "    10: \"portal and splenic vein\",\n",
    "    11: \"pancreas\",\n",
    "    12: \"left adrenal gland\",\n",
    "    13: \"right adrenal gland\"\n",
    "}\n",
    "\n",
    "organ_used = 6"
   ],
   "outputs": [],
   "execution_count": null
  },
  {
   "metadata": {},
   "cell_type": "code",
   "source": [
    "# normalize images\n",
    "images_normalized = (images_raw - np.min(images_raw)) / (np.max(images_raw) - np.min(images_raw))\n",
    "\n",
    "# rotate tensor\n",
    "images_rotated = np.array([np.rot90(image, k=1, axes=(0, 2)) for image in images_normalized])\n",
    "labels_rotated = np.array([np.rot90(image, k=1, axes=(0, 2)) for image in labels_raw])\n",
    "\n",
    "# swap and flip axes\n",
    "images = np.swapaxes(images_rotated, 1, 2)[:, ::-1, :, :]\n",
    "labels = np.swapaxes(labels_rotated, 1, 2)[:, ::-1, :, :]\n",
    "\n",
    "# prepare tensor just with one organ\n",
    "organ = np.zeros_like(images)\n",
    "organ[labels == organ_used] = images[labels == organ_used]"
   ],
   "outputs": [],
   "execution_count": null
  },
  {
   "metadata": {},
   "cell_type": "code",
   "source": [
    "del images_raw\n",
    "del labels_raw\n",
    "del images_normalized\n",
    "del images_rotated\n",
    "del labels_rotated"
   ],
   "outputs": [],
   "execution_count": null
  },
  {
   "metadata": {},
   "cell_type": "code",
   "source": [
    "# preview data\n",
    "img = 0\n",
    "depth = 40\n",
    "\n",
    "fig, (ax0, ax1, ax2) = plt.subplots(ncols=3, figsize=(16,8))\n",
    "ax0.imshow(images[img,depth],cmap='gray')\n",
    "ax0.set_title(\"Image\")\n",
    "ax0.axis(\"off\")\n",
    "ax1.imshow(labels[img,depth], cmap='gray')\n",
    "ax1.set_title(\"Labels\")\n",
    "ax1.axis(\"off\")\n",
    "ax2.imshow(organ[img,depth], cmap='gray')\n",
    "ax2.set_title(organs_map[organ_used])\n",
    "ax2.axis(\"off\")"
   ],
   "outputs": [],
   "execution_count": null
  },
  {
   "cell_type": "code",
   "source": [
    "organ_label = np.zeros_like(labels)\n",
    "organ_label[labels == organ_used] = labels[labels == organ_used]\n",
    "\n",
    "# setup colormap\n",
    "cmap = colors.ListedColormap([\n",
    "    'black', 'red', 'green', 'blue', 'yellow', 'cyan', 'magenta', 'orange',\n",
    "    'purple', 'brown', 'pink', 'lime', 'teal', 'olive'\n",
    "])\n",
    "norm = colors.BoundaryNorm(boundaries=np.arange(-0.5, 14, 1), ncolors=14)\n",
    "\n",
    "# view image\n",
    "plt.imshow(images[img,depth], cmap='gray', interpolation='none')\n",
    "\n",
    "# view colors\n",
    "plt.imshow(organ_label[img,depth], cmap=cmap, norm=norm, alpha=0.5, interpolation='none')\n",
    "\n",
    "# view rectangles in legend\n",
    "patches_list = [\n",
    "    patches.Patch(color=cmap(organ_used), label=organs_map[organ_used])\n",
    "]\n",
    "\n",
    "# view legend\n",
    "plt.legend(handles=patches_list, bbox_to_anchor=(1.05, 1), loc='upper left', borderaxespad=0.)\n",
    "\n",
    "plt.show()"
   ],
   "metadata": {
    "colab": {
     "base_uri": "https://localhost:8080/",
     "height": 435
    },
    "id": "Z3yIDybM3CLO",
    "outputId": "beb9599f-51c6-46c0-91e5-fa8a17799257"
   },
   "outputs": [],
   "execution_count": null
  },
  {
   "metadata": {},
   "cell_type": "code",
   "source": [
    "# split dataset\n",
    "training_organ, test_organ = train_test_split(organ, test_size=0.2, random_state=10)"
   ],
   "outputs": [],
   "execution_count": null
  },
  {
   "metadata": {},
   "cell_type": "code",
   "source": [
    "del images\n",
    "del labels\n",
    "del organ"
   ],
   "outputs": [],
   "execution_count": null
  },
  {
   "metadata": {},
   "cell_type": "code",
   "source": "test_organ.shape",
   "outputs": [],
   "execution_count": null
  },
  {
   "metadata": {},
   "cell_type": "code",
   "source": "training_organ.shape",
   "outputs": [],
   "execution_count": null
  },
  {
   "cell_type": "markdown",
   "source": [
    "# Define Model"
   ],
   "metadata": {
    "id": "mNRSx-UsU5pR"
   }
  },
  {
   "cell_type": "code",
   "source": [
    "# define the input shapes\n",
    "inshape = test_organ.shape[1:]\n",
    "nb_features = (\n",
    "    (16, 32, 32), # encoder-channels\n",
    "    (32, 32, 16, 16) # decoder-channels\n",
    "    )\n",
    "# build model using VxmDense\n",
    "vxm_model = vxm.networks.VxmDense(inshape, nb_features, int_steps=0)"
   ],
   "metadata": {
    "colab": {
     "base_uri": "https://localhost:8080/"
    },
    "id": "Gktr-QNGyJPn",
    "outputId": "d664f530-754d-4827-e3ec-3b86cc75f491"
   },
   "outputs": [],
   "execution_count": null
  },
  {
   "metadata": {},
   "cell_type": "markdown",
   "source": "# Load weights"
  },
  {
   "metadata": {},
   "cell_type": "code",
   "source": [
    "vxm_model.load_weights('models/AbdomenCTCT_'+ organs_map[organ_used] +'_model.h5')\n",
    "                       \n",
    "print('input shape: ', ', '.join([str(t.shape) for t in vxm_model.inputs]))\n",
    "print('output shape:', ', '.join([str(t.shape) for t in vxm_model.outputs]))"
   ],
   "outputs": [],
   "execution_count": null
  },
  {
   "cell_type": "markdown",
   "source": [
    "# Test registration"
   ],
   "metadata": {
    "id": "4Tlkx4tDF5cT"
   }
  },
  {
   "metadata": {},
   "cell_type": "code",
   "source": [
    "# define a data generator\n",
    "def test_data_generator(data):\n",
    "    while True:\n",
    "        idx1 = np.random.randint(0, data.shape[0], size=1)\n",
    "        idx2 = np.random.randint(0, data.shape[0], size=1)\n",
    "        while idx2 == idx1:\n",
    "            idx2 = np.random.randint(0, data.shape[0], size=1)\n",
    "\n",
    "        fixed_image = data[idx1, ..., np.newaxis]\n",
    "        moving_image = data[idx2, ..., np.newaxis]\n",
    "\n",
    "        yield fixed_image, moving_image"
   ],
   "outputs": [],
   "execution_count": null
  },
  {
   "metadata": {},
   "cell_type": "code",
   "source": [
    "# define validation generator\n",
    "test_generator = test_data_generator(test_organ)"
   ],
   "outputs": [],
   "execution_count": null
  },
  {
   "metadata": {},
   "cell_type": "code",
   "source": [
    "# get test sample\n",
    "test_input = next(test_generator)"
   ],
   "outputs": [],
   "execution_count": null
  },
  {
   "cell_type": "code",
   "source": [
    "# perform prediction\n",
    "test_pred = tuple(vxm_model.predict(test_input))"
   ],
   "metadata": {
    "id": "hMnM3OXKIuPv",
    "colab": {
     "base_uri": "https://localhost:8080/"
    },
    "outputId": "07fbb752-b8a4-425b-c8c4-2edad1cd403d"
   },
   "outputs": [],
   "execution_count": null
  },
  {
   "cell_type": "code",
   "source": [
    "# view result\n",
    "images = [img[0, depth] for img in test_input + test_pred]\n",
    "titles = ['moved', 'fixed', 'transformed', 'flow']\n",
    "ne.plot.slices(images, titles=titles, cmaps=['gray'], do_colorbars=True);"
   ],
   "metadata": {
    "id": "9wH_XDhtJASk",
    "colab": {
     "base_uri": "https://localhost:8080/",
     "height": 376
    },
    "outputId": "d2b8701f-6749-4d4d-b0b6-26e9097617b9"
   },
   "outputs": [],
   "execution_count": null
  },
  {
   "metadata": {},
   "cell_type": "markdown",
   "source": "# Evaluation"
  },
  {
   "metadata": {},
   "cell_type": "code",
   "source": [
    "def dice_score_tf(y_true, y_pred, smooth=1e-6):\n",
    "    binary_y_true = tf.cast(y_true > 0, tf.float32)\n",
    "    binary_y_pred = tf.cast(y_pred > 0, tf.float32)\n",
    "    \n",
    "    y_true_flat = tf.reshape(binary_y_true, [-1])\n",
    "    y_pred_flat = tf.reshape(binary_y_pred, [-1])\n",
    "\n",
    "    intersection = tf.reduce_sum(y_true_flat * y_pred_flat)\n",
    "    union = tf.reduce_sum(y_true_flat) + tf.reduce_sum(y_pred_flat)\n",
    "\n",
    "    dice = (2. * intersection + smooth) / (union + smooth)\n",
    "    return float(dice)"
   ],
   "outputs": [],
   "execution_count": null
  },
  {
   "metadata": {},
   "cell_type": "code",
   "source": [
    "n = test_organ.shape[0]\n",
    "count = 0\n",
    "dice = 0\n",
    "mse = 0\n",
    "for i in range(n):\n",
    "    for j in range(n):\n",
    "        if i == j:\n",
    "            continue\n",
    "        else:\n",
    "            count += 1\n",
    "            test_input = np.array([test_organ[0, ..., np.newaxis]]), np.array([test_organ[1, ..., np.newaxis]])\n",
    "            test_pred = tuple(vxm_model.predict(test_input))\n",
    "            dice += dice_score_tf(test_input[1][0], test_pred[0][0])\n",
    "            mse += np.mean(np.square(test_input[1][0] - test_pred[0][0]))"
   ],
   "outputs": [],
   "execution_count": null
  },
  {
   "metadata": {},
   "cell_type": "code",
   "source": [
    "print(\"Dice: \" + str(dice/count))\n",
    "print(\"MSE: \" + str(mse/count))"
   ],
   "outputs": [],
   "execution_count": null
  }
 ]
}
