{
 "cells": [
  {
   "cell_type": "code",
   "id": "initial_id",
   "metadata": {
    "collapsed": true,
    "ExecuteTime": {
     "end_time": "2024-08-21T13:01:45.703976Z",
     "start_time": "2024-08-21T13:01:45.409430Z"
    }
   },
   "source": "!nvidia-smi",
   "outputs": [
    {
     "name": "stdout",
     "output_type": "stream",
     "text": [
      "Wed Aug 21 15:01:45 2024       \n",
      "+-----------------------------------------------------------------------------------------+\n",
      "| NVIDIA-SMI 556.12                 Driver Version: 556.12         CUDA Version: 12.5     |\n",
      "|-----------------------------------------+------------------------+----------------------+\n",
      "| GPU  Name                  Driver-Model | Bus-Id          Disp.A | Volatile Uncorr. ECC |\n",
      "| Fan  Temp   Perf          Pwr:Usage/Cap |           Memory-Usage | GPU-Util  Compute M. |\n",
      "|                                         |                        |               MIG M. |\n",
      "|=========================================+========================+======================|\n",
      "|   0  NVIDIA GeForce GTX 1080      WDDM  |   00000000:01:00.0  On |                  N/A |\n",
      "|  0%   44C    P8             18W /  270W |    3118MiB /   8192MiB |     33%      Default |\n",
      "|                                         |                        |                  N/A |\n",
      "+-----------------------------------------+------------------------+----------------------+\n",
      "                                                                                         \n",
      "+-----------------------------------------------------------------------------------------+\n",
      "| Processes:                                                                              |\n",
      "|  GPU   GI   CI        PID   Type   Process name                              GPU Memory |\n",
      "|        ID   ID                                                               Usage      |\n",
      "|=========================================================================================|\n",
      "|    0   N/A  N/A       844    C+G   ...Files\\ITK-SNAP 4.2\\bin\\ITK-SNAP.exe      N/A      |\n",
      "|    0   N/A  N/A       992    C+G   ... (x86)\\MOTU\\CoreUAC\\MOTUMSeries.exe      N/A      |\n",
      "|    0   N/A  N/A      1528    C+G   ...cal\\Microsoft\\OneDrive\\OneDrive.exe      N/A      |\n",
      "|    0   N/A  N/A      5292    C+G   ...B\\system_tray\\lghub_system_tray.exe      N/A      |\n",
      "|    0   N/A  N/A      6708    C+G   ...crosoft\\Edge\\Application\\msedge.exe      N/A      |\n",
      "|    0   N/A  N/A     10328    C+G   ...Files\\ITK-SNAP 4.2\\bin\\ITK-SNAP.exe      N/A      |\n",
      "|    0   N/A  N/A     11592    C+G   ...s (x86)\\Mozilla Firefox\\firefox.exe      N/A      |\n",
      "|    0   N/A  N/A     11648    C+G   C:\\Windows\\explorer.exe                     N/A      |\n",
      "|    0   N/A  N/A     11772    C+G   ...tionsPlus\\logioptionsplus_agent.exe      N/A      |\n",
      "|    0   N/A  N/A     12436    C+G   ...al\\Discord\\app-1.0.9158\\Discord.exe      N/A      |\n",
      "|    0   N/A  N/A     13184    C+G   ...GeForce Experience\\NVIDIA Share.exe      N/A      |\n",
      "|    0   N/A  N/A     13468    C+G   ...n\\127.0.2651.105\\msedgewebview2.exe      N/A      |\n",
      "|    0   N/A  N/A     14084    C+G   ...mpt_builder\\LogiAiPromptBuilder.exe      N/A      |\n",
      "|    0   N/A  N/A     14148    C+G   ...air\\Corsair iCUE5 Software\\iCUE.exe      N/A      |\n",
      "|    0   N/A  N/A     14208    C+G   ...2txyewy\\StartMenuExperienceHost.exe      N/A      |\n",
      "|    0   N/A  N/A     15628    C+G   ....Search_cw5n1h2txyewy\\SearchApp.exe      N/A      |\n",
      "|    0   N/A  N/A     18144    C+G   ...CBS_cw5n1h2txyewy\\TextInputHost.exe      N/A      |\n",
      "|    0   N/A  N/A     19288    C+G   ...(x86)\\CorsairLink4\\CorsairLink4.exe      N/A      |\n",
      "|    0   N/A  N/A     20092    C+G   ...s (x86)\\Mozilla Firefox\\firefox.exe      N/A      |\n",
      "|    0   N/A  N/A     20196    C+G   ...al\\Discord\\app-1.0.9158\\Discord.exe      N/A      |\n",
      "|    0   N/A  N/A     20396    C+G   ...Mozilla Thunderbird\\thunderbird.exe      N/A      |\n",
      "|    0   N/A  N/A     20544    C+G   ...5n1h2txyewy\\ShellExperienceHost.exe      N/A      |\n",
      "|    0   N/A  N/A     21140    C+G   ...t Office\\root\\Office16\\POWERPNT.EXE      N/A      |\n",
      "|    0   N/A  N/A     21344    C+G   ...harm Professional\\bin\\pycharm64.exe      N/A      |\n",
      "|    0   N/A  N/A     21624    C+G   ...Files\\ITK-SNAP 4.2\\bin\\ITK-SNAP.exe      N/A      |\n",
      "|    0   N/A  N/A     24276    C+G   ...ft Office\\root\\Office16\\WINWORD.EXE      N/A      |\n",
      "+-----------------------------------------------------------------------------------------+\n"
     ]
    }
   ],
   "execution_count": 1
  },
  {
   "metadata": {
    "ExecuteTime": {
     "end_time": "2024-08-21T13:47:49.520856Z",
     "start_time": "2024-08-21T13:47:37.600657Z"
    }
   },
   "cell_type": "code",
   "source": [
    "# install tensorflow 2.15 since voxelmorph is not compatible with current build\n",
    "import tensorflow as tf\n",
    "\n",
    "if not tf.__version__.startswith('2.15'):\n",
    "    !pip uninstall -y tensorflow\n",
    "    !pip install tensorflow==2.15\n",
    "# install voxelmorph\n",
    "!pip install voxelmorph"
   ],
   "id": "3bdf1ab306b2dd12",
   "outputs": [
    {
     "name": "stderr",
     "output_type": "stream",
     "text": [
      "2024-08-21 15:47:42.770523: I tensorflow/core/platform/cpu_feature_guard.cc:182] This TensorFlow binary is optimized to use available CPU instructions in performance-critical operations.\n",
      "To enable the following instructions: AVX2 FMA, in other operations, rebuild TensorFlow with the appropriate compiler flags.\n"
     ]
    },
    {
     "name": "stdout",
     "output_type": "stream",
     "text": [
      "Requirement already satisfied: voxelmorph in /Users/linus/anaconda3/envs/CV/lib/python3.9/site-packages (0.2)\r\n",
      "Requirement already satisfied: packaging in /Users/linus/anaconda3/envs/CV/lib/python3.9/site-packages (from voxelmorph) (23.2)\r\n",
      "Requirement already satisfied: scikit-image in /Users/linus/anaconda3/envs/CV/lib/python3.9/site-packages (from voxelmorph) (0.22.0)\r\n",
      "Requirement already satisfied: h5py in /Users/linus/anaconda3/envs/CV/lib/python3.9/site-packages (from voxelmorph) (3.11.0)\r\n",
      "Requirement already satisfied: numpy in /Users/linus/anaconda3/envs/CV/lib/python3.9/site-packages (from voxelmorph) (1.26.4)\r\n",
      "Requirement already satisfied: scipy in /Users/linus/anaconda3/envs/CV/lib/python3.9/site-packages (from voxelmorph) (1.11.4)\r\n",
      "Requirement already satisfied: nibabel in /Users/linus/anaconda3/envs/CV/lib/python3.9/site-packages (from voxelmorph) (5.2.1)\r\n",
      "Requirement already satisfied: neurite>=0.2 in /Users/linus/anaconda3/envs/CV/lib/python3.9/site-packages (from voxelmorph) (0.2)\r\n",
      "Requirement already satisfied: six in /Users/linus/anaconda3/envs/CV/lib/python3.9/site-packages (from neurite>=0.2->voxelmorph) (1.16.0)\r\n",
      "Requirement already satisfied: tqdm in /Users/linus/anaconda3/envs/CV/lib/python3.9/site-packages (from neurite>=0.2->voxelmorph) (4.66.5)\r\n",
      "Requirement already satisfied: matplotlib in /Users/linus/anaconda3/envs/CV/lib/python3.9/site-packages (from neurite>=0.2->voxelmorph) (3.8.4)\r\n",
      "Requirement already satisfied: scikit-learn in /Users/linus/anaconda3/envs/CV/lib/python3.9/site-packages (from neurite>=0.2->voxelmorph) (1.2.2)\r\n",
      "Requirement already satisfied: pystrum>=0.2 in /Users/linus/anaconda3/envs/CV/lib/python3.9/site-packages (from neurite>=0.2->voxelmorph) (0.4)\r\n",
      "Requirement already satisfied: networkx>=2.8 in /Users/linus/anaconda3/envs/CV/lib/python3.9/site-packages (from scikit-image->voxelmorph) (3.2.1)\r\n",
      "Requirement already satisfied: pillow>=9.0.1 in /Users/linus/anaconda3/envs/CV/lib/python3.9/site-packages (from scikit-image->voxelmorph) (10.3.0)\r\n",
      "Requirement already satisfied: imageio>=2.27 in /Users/linus/anaconda3/envs/CV/lib/python3.9/site-packages (from scikit-image->voxelmorph) (2.34.1)\r\n",
      "Requirement already satisfied: tifffile>=2022.8.12 in /Users/linus/anaconda3/envs/CV/lib/python3.9/site-packages (from scikit-image->voxelmorph) (2024.5.22)\r\n",
      "Requirement already satisfied: lazy_loader>=0.3 in /Users/linus/anaconda3/envs/CV/lib/python3.9/site-packages (from scikit-image->voxelmorph) (0.4)\r\n",
      "Requirement already satisfied: contourpy>=1.0.1 in /Users/linus/anaconda3/envs/CV/lib/python3.9/site-packages (from matplotlib->neurite>=0.2->voxelmorph) (1.2.0)\r\n",
      "Requirement already satisfied: cycler>=0.10 in /Users/linus/anaconda3/envs/CV/lib/python3.9/site-packages (from matplotlib->neurite>=0.2->voxelmorph) (0.11.0)\r\n",
      "Requirement already satisfied: fonttools>=4.22.0 in /Users/linus/anaconda3/envs/CV/lib/python3.9/site-packages (from matplotlib->neurite>=0.2->voxelmorph) (4.51.0)\r\n",
      "Requirement already satisfied: kiwisolver>=1.3.1 in /Users/linus/anaconda3/envs/CV/lib/python3.9/site-packages (from matplotlib->neurite>=0.2->voxelmorph) (1.4.4)\r\n",
      "Requirement already satisfied: pyparsing>=2.3.1 in /Users/linus/anaconda3/envs/CV/lib/python3.9/site-packages (from matplotlib->neurite>=0.2->voxelmorph) (3.0.9)\r\n",
      "Requirement already satisfied: python-dateutil>=2.7 in /Users/linus/anaconda3/envs/CV/lib/python3.9/site-packages (from matplotlib->neurite>=0.2->voxelmorph) (2.8.2)\r\n",
      "Requirement already satisfied: importlib-resources>=3.2.0 in /Users/linus/anaconda3/envs/CV/lib/python3.9/site-packages (from matplotlib->neurite>=0.2->voxelmorph) (6.1.1)\r\n",
      "Requirement already satisfied: joblib>=1.1.1 in /Users/linus/anaconda3/envs/CV/lib/python3.9/site-packages (from scikit-learn->neurite>=0.2->voxelmorph) (1.4.0)\r\n",
      "Requirement already satisfied: threadpoolctl>=2.0.0 in /Users/linus/anaconda3/envs/CV/lib/python3.9/site-packages (from scikit-learn->neurite>=0.2->voxelmorph) (2.2.0)\r\n",
      "Requirement already satisfied: zipp>=3.1.0 in /Users/linus/anaconda3/envs/CV/lib/python3.9/site-packages (from importlib-resources>=3.2.0->matplotlib->neurite>=0.2->voxelmorph) (3.17.0)\r\n"
     ]
    }
   ],
   "execution_count": 1
  },
  {
   "metadata": {
    "ExecuteTime": {
     "end_time": "2024-08-21T13:47:51.853975Z",
     "start_time": "2024-08-21T13:47:50.166570Z"
    }
   },
   "cell_type": "code",
   "source": [
    "import voxelmorph as vxm\n",
    "import neurite as ne\n",
    "\n",
    "import os\n",
    "import urllib.request\n",
    "import zipfile\n",
    "import json\n",
    "import nibabel as nib\n",
    "import matplotlib.pyplot as plt\n",
    "import numpy as np\n",
    "from tqdm import tqdm\n",
    "\n",
    "from sklearn.model_selection import train_test_split"
   ],
   "id": "3cac530e572ee16e",
   "outputs": [],
   "execution_count": 2
  },
  {
   "metadata": {
    "ExecuteTime": {
     "end_time": "2024-08-21T13:47:51.867015Z",
     "start_time": "2024-08-21T13:47:51.858326Z"
    }
   },
   "cell_type": "code",
   "source": [
    "# download dataset\n",
    "filename = 'AbdomenCTCT.zip'\n",
    "if not os.path.exists(filename):\n",
    "    url = 'https://cloud.imi.uni-luebeck.de/s/32WaSRaTnFk2JeT/download/AbdomenCTCT.zip'\n",
    "    urllib.request.urlretrieve(url, filename)\n",
    "\n",
    "    # extract files\n",
    "    with zipfile.ZipFile(filename, 'r') as zip_ref:\n",
    "        zip_ref.extractall('./')"
   ],
   "id": "811eb5a2fe6afb3d",
   "outputs": [],
   "execution_count": 3
  },
  {
   "metadata": {
    "ExecuteTime": {
     "end_time": "2024-08-21T13:47:51.878099Z",
     "start_time": "2024-08-21T13:47:51.870231Z"
    }
   },
   "cell_type": "code",
   "source": [
    "def load_data(jsonData, dataFolderPath, training_or_test, filterString='0001'):\n",
    "    images = []\n",
    "    labels = []\n",
    "    for sample in jsonData[training_or_test]:\n",
    "        image = nib.load(dataFolderPath + sample['image'].removeprefix('.').replace(\".csv\", \".nii.gz\")).get_fdata()\n",
    "        images.append(image)\n",
    "        if training_or_test == 'training':\n",
    "            label = nib.load(dataFolderPath + sample['label'].removeprefix('.').replace(\".csv\", \".nii.gz\")).get_fdata()\n",
    "            labels.append(label)\n",
    "\n",
    "    return np.array(images), np.array(labels)"
   ],
   "id": "3844e71de95b91f",
   "outputs": [],
   "execution_count": 4
  },
  {
   "metadata": {
    "ExecuteTime": {
     "end_time": "2024-08-21T13:48:21.163750Z",
     "start_time": "2024-08-21T13:47:51.882034Z"
    }
   },
   "cell_type": "code",
   "source": [
    "# load data\n",
    "with open('./AbdomenCTCT/AbdomenCTCT_dataset.json', 'r') as file:\n",
    "    data_json = json.load(file)\n",
    "dataFolder = './AbdomenCTCT'\n",
    "images_raw, labels_raw = load_data(data_json, dataFolder, 'training')"
   ],
   "id": "83cf6c05db9ff0b7",
   "outputs": [],
   "execution_count": 5
  },
  {
   "metadata": {
    "ExecuteTime": {
     "end_time": "2024-08-21T13:48:21.254684Z",
     "start_time": "2024-08-21T13:48:21.183980Z"
    }
   },
   "cell_type": "code",
   "source": "images_raw.shape",
   "id": "85a9eb1cfaa26d5a",
   "outputs": [
    {
     "data": {
      "text/plain": [
       "(30, 192, 160, 256)"
      ]
     },
     "execution_count": 6,
     "metadata": {},
     "output_type": "execute_result"
    }
   ],
   "execution_count": 6
  },
  {
   "metadata": {
    "ExecuteTime": {
     "end_time": "2024-08-21T13:48:21.269386Z",
     "start_time": "2024-08-21T13:48:21.261398Z"
    }
   },
   "cell_type": "code",
   "source": "labels_raw.shape",
   "id": "d61afdece74a74a1",
   "outputs": [
    {
     "data": {
      "text/plain": [
       "(30, 192, 160, 256)"
      ]
     },
     "execution_count": 7,
     "metadata": {},
     "output_type": "execute_result"
    }
   ],
   "execution_count": 7
  },
  {
   "metadata": {},
   "cell_type": "markdown",
   "source": "# Preprocess data",
   "id": "2515499fb6e1dbf6"
  },
  {
   "metadata": {
    "ExecuteTime": {
     "end_time": "2024-08-21T13:48:47.520589Z",
     "start_time": "2024-08-21T13:48:21.271886Z"
    }
   },
   "cell_type": "code",
   "source": [
    "# normalize images\n",
    "images_normalized = (images_raw - np.min(images_raw)) / (np.max(images_raw) - np.min(images_raw))\n",
    "\n",
    "# rotate tensor\n",
    "images_rotated = np.array([np.rot90(image, k=1, axes=(0, 2)) for image in images_normalized])\n",
    "labels_rotated = np.array([np.rot90(image, k=1, axes=(0, 2)) for image in labels_raw])\n",
    "\n",
    "# swap and flip axes\n",
    "images = np.swapaxes(images_rotated, 1, 2)[:, ::-1, :, :]\n",
    "labels = np.swapaxes(labels_rotated, 1, 2)[:, ::-1, :, :]"
   ],
   "id": "3954216da2da7d20",
   "outputs": [],
   "execution_count": 8
  },
  {
   "metadata": {
    "ExecuteTime": {
     "end_time": "2024-08-21T13:48:47.926519Z",
     "start_time": "2024-08-21T13:48:47.531605Z"
    }
   },
   "cell_type": "code",
   "source": [
    "del images_raw\n",
    "del labels_raw\n",
    "del images_normalized\n",
    "del images_rotated\n",
    "del labels_rotated"
   ],
   "id": "1d330dbdafb2e57d",
   "outputs": [],
   "execution_count": 9
  },
  {
   "metadata": {
    "ExecuteTime": {
     "end_time": "2024-08-21T13:48:48.673955Z",
     "start_time": "2024-08-21T13:48:47.931914Z"
    }
   },
   "cell_type": "code",
   "source": [
    "# preview data\n",
    "img = 0\n",
    "depth = 40\n",
    "\n",
    "fig, (ax0, ax1) = plt.subplots(ncols=2, figsize=(16, 8))\n",
    "ax0.imshow(images[img, depth], cmap='gray', vmin=0, vmax=1)\n",
    "ax0.set_title(\"Image\")\n",
    "ax0.axis(\"off\")\n",
    "ax1.imshow(labels[img, depth], cmap='gray', vmin=0, vmax=14)\n",
    "ax1.set_title(\"Labels\")\n",
    "ax1.axis(\"off\")"
   ],
   "id": "a6bff0b8f9d79fc7",
   "outputs": [
    {
     "data": {
      "text/plain": [
       "(-0.5, 191.5, 255.5, -0.5)"
      ]
     },
     "execution_count": 10,
     "metadata": {},
     "output_type": "execute_result"
    },
    {
     "data": {
      "text/plain": [
       "<Figure size 1600x800 with 2 Axes>"
      ],
      "image/png": "[encoded data removed]"
     },
     "metadata": {},
     "output_type": "display_data"
    }
   ],
   "execution_count": 10
  },
  {
   "metadata": {
    "ExecuteTime": {
     "end_time": "2024-08-21T13:48:57.948024Z",
     "start_time": "2024-08-21T13:48:48.675751Z"
    }
   },
   "cell_type": "code",
   "source": [
    "# split dataset\n",
    "_, test_images = train_test_split(images, test_size=0.2, random_state=10)\n",
    "_, test_labels = train_test_split(labels, test_size=0.2, random_state=10)"
   ],
   "id": "e2ed797ec1a89818",
   "outputs": [],
   "execution_count": 11
  },
  {
   "metadata": {
    "ExecuteTime": {
     "end_time": "2024-08-21T13:48:58.560111Z",
     "start_time": "2024-08-21T13:48:57.964668Z"
    }
   },
   "cell_type": "code",
   "source": [
    "del images\n",
    "del labels\n",
    "del _"
   ],
   "id": "e177ae4e7765f961",
   "outputs": [],
   "execution_count": 12
  },
  {
   "metadata": {
    "ExecuteTime": {
     "end_time": "2024-08-21T13:48:58.572295Z",
     "start_time": "2024-08-21T13:48:58.562262Z"
    }
   },
   "cell_type": "code",
   "source": "test_images.shape",
   "id": "82bf17f40d105f98",
   "outputs": [
    {
     "data": {
      "text/plain": [
       "(6, 160, 256, 192)"
      ]
     },
     "execution_count": 13,
     "metadata": {},
     "output_type": "execute_result"
    }
   ],
   "execution_count": 13
  },
  {
   "metadata": {},
   "cell_type": "markdown",
   "source": "# Define Model",
   "id": "668ad570a29d65d"
  },
  {
   "metadata": {
    "ExecuteTime": {
     "end_time": "2024-08-21T13:49:04.692064Z",
     "start_time": "2024-08-21T13:48:58.574448Z"
    }
   },
   "cell_type": "code",
   "source": [
    "legend_labels = {\n",
    "    1: \"spleen\",\n",
    "    2: \"right kidney\",\n",
    "    3: \"left kidney\",\n",
    "    4: \"gall bladder\",\n",
    "    5: \"esophagus\",\n",
    "    6: \"liver\",\n",
    "    7: \"stomach\",\n",
    "    8: \"aorta\",\n",
    "    9: \"inferior vena cava\",\n",
    "    10: \"portal and splenic vein\",\n",
    "    11: \"pancreas\",\n",
    "    12: \"left adrenal gland\",\n",
    "    13: \"right adrenal gland\"\n",
    "}\n",
    "\n",
    "# define the input shapes\n",
    "inshape = test_images.shape[1:]\n",
    "nb_features = (\n",
    "    (16, 32, 32),  # encoder-channels\n",
    "    (32, 32, 16, 16)  # decoder-channels\n",
    ")\n",
    "\n",
    "# build model using VxmDense\n",
    "spleen_model = vxm.networks.VxmDense(inshape, nb_features, int_steps=0)\n",
    "spleen_model.load_weights('models/AbdomenCTCT_' + legend_labels[1] + '_model.h5')\n",
    "rkidney_model = vxm.networks.VxmDense(inshape, nb_features, int_steps=0)\n",
    "rkidney_model.load_weights('models/AbdomenCTCT_' + legend_labels[2] + '_model.h5')\n",
    "lkidney_model = vxm.networks.VxmDense(inshape, nb_features, int_steps=0)\n",
    "lkidney_model.load_weights('models/AbdomenCTCT_' + legend_labels[3] + '_model.h5')\n",
    "gbladder_model = vxm.networks.VxmDense(inshape, nb_features, int_steps=0)\n",
    "gbladder_model.load_weights('models/AbdomenCTCT_' + legend_labels[4] + '_model.h5')\n",
    "esophagus_model = vxm.networks.VxmDense(inshape, nb_features, int_steps=0)\n",
    "esophagus_model.load_weights('models/AbdomenCTCT_' + legend_labels[5] + '_model.h5')\n",
    "liver_model = vxm.networks.VxmDense(inshape, nb_features, int_steps=0)\n",
    "liver_model.load_weights('models/AbdomenCTCT_' + legend_labels[6] + '_model.h5')\n",
    "stomach_model = vxm.networks.VxmDense(inshape, nb_features, int_steps=0)\n",
    "stomach_model.load_weights('models/AbdomenCTCT_' + legend_labels[7] + '_model.h5')\n",
    "aorta_model = vxm.networks.VxmDense(inshape, nb_features, int_steps=0)\n",
    "aorta_model.load_weights('models/AbdomenCTCT_' + legend_labels[8] + '_model.h5')\n",
    "ivc_model = vxm.networks.VxmDense(inshape, nb_features, int_steps=0)\n",
    "ivc_model.load_weights('models/AbdomenCTCT_' + legend_labels[9] + '_model.h5')\n",
    "pandsvein_model = vxm.networks.VxmDense(inshape, nb_features, int_steps=0)\n",
    "pandsvein_model.load_weights('models/AbdomenCTCT_' + legend_labels[10] + '_model.h5')\n",
    "pancreas_model = vxm.networks.VxmDense(inshape, nb_features, int_steps=0)\n",
    "pancreas_model.load_weights('models/AbdomenCTCT_' + legend_labels[11] + '_model.h5')\n",
    "ladrenalgland_model = vxm.networks.VxmDense(inshape, nb_features, int_steps=0)\n",
    "ladrenalgland_model.load_weights('models/AbdomenCTCT_' + legend_labels[12] + '_model.h5')\n",
    "radrenalgland_model = vxm.networks.VxmDense(inshape, nb_features, int_steps=0)\n",
    "radrenalgland_model.load_weights('models/AbdomenCTCT_' + legend_labels[13] + '_model.h5')"
   ],
   "id": "3688329d3278f007",
   "outputs": [],
   "execution_count": 14
  },
  {
   "metadata": {},
   "cell_type": "markdown",
   "source": "# Test registration",
   "id": "b1cf717daa0d7b82"
  },
  {
   "metadata": {
    "ExecuteTime": {
     "end_time": "2024-08-21T14:02:02.589567Z",
     "start_time": "2024-08-21T14:02:02.574681Z"
    }
   },
   "cell_type": "code",
   "source": [
    "# define a data generator\n",
    "def test_data_generator(images, labels, idx1=None, idx2=None):\n",
    "    if idx1 is None or idx2 is None:\n",
    "        idx1 = np.random.randint(0, images.shape[0])\n",
    "        idx2 = np.random.randint(0, images.shape[0])\n",
    "        while idx2 == idx1:\n",
    "            idx2 = np.random.randint(0, images.shape[0])\n",
    "\n",
    "    fixed_image = images[[idx1], ..., np.newaxis]\n",
    "    fixed_labels = labels[[idx1], ..., np.newaxis]\n",
    "\n",
    "    moving_image = images[[idx2], ..., np.newaxis]\n",
    "    moving_labels = labels[[idx2], ..., np.newaxis]\n",
    "\n",
    "    return moving_image, moving_labels,fixed_image, fixed_labels"
   ],
   "id": "267a27189a1e85a4",
   "outputs": [],
   "execution_count": 32
  },
  {
   "metadata": {
    "ExecuteTime": {
     "end_time": "2024-08-21T14:02:04.059504Z",
     "start_time": "2024-08-21T14:02:03.221724Z"
    }
   },
   "cell_type": "code",
   "source": [
    "# get test sample\n",
    "test_input = test_data_generator(test_images, test_labels, 1 ,2)"
   ],
   "id": "81963d013a9fd02e",
   "outputs": [],
   "execution_count": 33
  },
  {
   "metadata": {
    "ExecuteTime": {
     "end_time": "2024-08-21T14:07:05.739850Z",
     "start_time": "2024-08-21T14:07:05.728088Z"
    }
   },
   "cell_type": "code",
   "source": [
    "def predict_organs(input):\n",
    "    each_org_transformation = []\n",
    "\n",
    "    for organ in tqdm(legend_labels):\n",
    "        moving_input = np.zeros_like(input[0])\n",
    "        moving_input[input[1] == organ] = input[0][input[1] == organ]\n",
    "        fixed_input = np.zeros_like(input[2])\n",
    "        fixed_input[input[3] == organ] = input[2][input[3] == organ]\n",
    "    \n",
    "        if organ == 1:\n",
    "            test_pred = tuple(spleen_model.predict((moving_input, fixed_input),verbose=0))\n",
    "        elif organ == 2:\n",
    "            test_pred = tuple(rkidney_model.predict((moving_input, fixed_input),verbose=0))\n",
    "        elif organ == 3:\n",
    "            test_pred = tuple(lkidney_model.predict((moving_input, fixed_input),verbose=0))\n",
    "        elif organ == 4:\n",
    "            test_pred = tuple(gbladder_model.predict((moving_input, fixed_input),verbose=0))\n",
    "        elif organ == 5:\n",
    "            test_pred = tuple(esophagus_model.predict((moving_input, fixed_input),verbose=0))\n",
    "        elif organ == 6:\n",
    "            test_pred = tuple(liver_model.predict((moving_input, fixed_input),verbose=0))\n",
    "        elif organ == 7:\n",
    "            test_pred = tuple(stomach_model.predict((moving_input, fixed_input),verbose=0))\n",
    "        elif organ == 8:\n",
    "            test_pred = tuple(aorta_model.predict((moving_input, fixed_input),verbose=0))\n",
    "        elif organ == 9:\n",
    "            test_pred = tuple(ivc_model.predict((moving_input, fixed_input),verbose=0))\n",
    "        elif organ == 10:\n",
    "            test_pred = tuple(pandsvein_model.predict((moving_input, fixed_input),verbose=0))\n",
    "        elif organ == 11:\n",
    "            test_pred = tuple(pancreas_model.predict((moving_input, fixed_input),verbose=0))\n",
    "        elif organ == 12:\n",
    "            test_pred = tuple(ladrenalgland_model.predict((moving_input, fixed_input),verbose=0))\n",
    "        else:\n",
    "            test_pred = tuple(radrenalgland_model.predict((moving_input, fixed_input),verbose=0))\n",
    "\n",
    "        each_org_transformation.append(test_pred[0][0])\n",
    "\n",
    "    combination = np.maximum.reduce(each_org_transformation)\n",
    "\n",
    "    return np.array([combination])"
   ],
   "id": "9b4f1ec61edfde0a",
   "outputs": [],
   "execution_count": 37
  },
  {
   "metadata": {
    "ExecuteTime": {
     "end_time": "2024-08-21T14:09:33.777929Z",
     "start_time": "2024-08-21T14:07:09.917835Z"
    }
   },
   "cell_type": "code",
   "source": "combination = predict_organs(test_input)",
   "id": "e31ea9ca0e614a3a",
   "outputs": [
    {
     "name": "stderr",
     "output_type": "stream",
     "text": [
      "100%|██████████| 13/13 [02:23<00:00, 11.02s/it]\n"
     ]
    }
   ],
   "execution_count": 38
  },
  {
   "metadata": {
    "ExecuteTime": {
     "end_time": "2024-08-21T14:09:37.203975Z",
     "start_time": "2024-08-21T14:09:36.336577Z"
    }
   },
   "cell_type": "code",
   "source": [
    "moving = np.zeros_like(test_input[0])\n",
    "moving[test_input[1] > 0] = test_input[0][test_input[1] > 0]\n",
    "fixed = np.zeros_like(test_input[2])\n",
    "fixed[test_input[3] > 0] = test_input[2][test_input[3] > 0]\n",
    "\n",
    "# view result\n",
    "images = [moving[0,depth], fixed[0,depth], combination[0,depth]]\n",
    "titles = ['moving', 'fixed', 'combination']\n",
    "ne.plot.slices(images, titles=titles, cmaps=['gray'], do_colorbars=True);"
   ],
   "id": "66ef053e7c45af39",
   "outputs": [
    {
     "data": {
      "text/plain": [
       "<Figure size 1500x500 with 6 Axes>"
      ],
      "image/png": "[encoded data removed]"
     },
     "metadata": {},
     "output_type": "display_data"
    }
   ],
   "execution_count": 39
  },
  {
   "metadata": {
    "ExecuteTime": {
     "end_time": "2024-08-21T14:09:43.837853Z",
     "start_time": "2024-08-21T14:09:43.829339Z"
    }
   },
   "cell_type": "code",
   "source": [
    "def dice_score_tf(y_true, y_pred, smooth=1e-6):\n",
    "    binary_y_true = tf.cast(y_true > 0, tf.float32)\n",
    "    binary_y_pred = tf.cast(y_pred > 0, tf.float32)\n",
    "\n",
    "    y_true_flat = tf.reshape(binary_y_true, [-1])\n",
    "    y_pred_flat = tf.reshape(binary_y_pred, [-1])\n",
    "\n",
    "    intersection = tf.reduce_sum(y_true_flat * y_pred_flat)\n",
    "    union = tf.reduce_sum(y_true_flat) + tf.reduce_sum(y_pred_flat)\n",
    "\n",
    "    dice = (2. * intersection + smooth) / (union + smooth)\n",
    "    return float(dice)"
   ],
   "id": "edc3ae17997953f2",
   "outputs": [],
   "execution_count": 40
  },
  {
   "metadata": {
    "ExecuteTime": {
     "end_time": "2024-08-21T14:09:44.833697Z",
     "start_time": "2024-08-21T14:09:44.651739Z"
    }
   },
   "cell_type": "code",
   "source": [
    "print(\"Dice of moving and fixed: \"+ str(dice_score_tf(moving, fixed)))\n",
    "print(\"MSE of moving and fixed: \"+ str(np.mean(np.square(moving - fixed))))"
   ],
   "id": "aea48874eb742386",
   "outputs": [
    {
     "name": "stdout",
     "output_type": "stream",
     "text": [
      "Dice of moving and fixed: 0.6057945489883423\n",
      "MSE of moving and fixed: 0.0030953777621673326\n"
     ]
    }
   ],
   "execution_count": 41
  },
  {
   "metadata": {
    "ExecuteTime": {
     "end_time": "2024-08-21T14:09:46.591760Z",
     "start_time": "2024-08-21T14:09:46.480366Z"
    }
   },
   "cell_type": "code",
   "source": [
    "print(\"Dice of fixed and combination: \"+ str(dice_score_tf(fixed, combination)))\n",
    "print(\"MSE of fixed and combination: \"+ str(np.mean(np.square(fixed - combination))))"
   ],
   "id": "54171b2a04052111",
   "outputs": [
    {
     "name": "stdout",
     "output_type": "stream",
     "text": [
      "Dice of fixed and combination: 0.8161945939064026\n",
      "MSE of fixed and combination: 0.0014821721086253758\n"
     ]
    }
   ],
   "execution_count": 42
  },
  {
   "metadata": {},
   "cell_type": "markdown",
   "source": "# Save results",
   "id": "2987d859d649937c"
  },
  {
   "metadata": {
    "ExecuteTime": {
     "end_time": "2024-08-21T14:09:50.475781Z",
     "start_time": "2024-08-21T14:09:50.463298Z"
    }
   },
   "cell_type": "code",
   "source": [
    "if not os.path.exists('output'):\n",
    "    os.makedirs('output')"
   ],
   "id": "741391225c1952bb",
   "outputs": [],
   "execution_count": 43
  },
  {
   "metadata": {
    "ExecuteTime": {
     "end_time": "2024-08-21T14:09:51.496936Z",
     "start_time": "2024-08-21T14:09:51.488539Z"
    }
   },
   "cell_type": "code",
   "source": [
    "moving = np.squeeze(moving)\n",
    "fixed = np.squeeze(fixed)\n",
    "combination = np.squeeze(combination)"
   ],
   "id": "464feb7e094a4388",
   "outputs": [],
   "execution_count": 44
  },
  {
   "metadata": {
    "ExecuteTime": {
     "end_time": "2024-08-21T14:09:56.773822Z",
     "start_time": "2024-08-21T14:09:55.170416Z"
    }
   },
   "cell_type": "code",
   "source": [
    "nib.save(nib.Nifti1Image(moving, np.eye(4)),\"output/moving.nii.gz\")\n",
    "nib.save(nib.Nifti1Image(fixed, np.eye(4)),\"output/fixed.nii.gz\")\n",
    "nib.save(nib.Nifti1Image(combination, np.eye(4)),\"output/combination.nii.gz\")"
   ],
   "id": "2c925058ab33a9c0",
   "outputs": [],
   "execution_count": 45
  },
  {
   "metadata": {},
   "cell_type": "markdown",
   "source": "# Evaluation",
   "id": "75786f686342375c"
  },
  {
   "metadata": {
    "ExecuteTime": {
     "end_time": "2024-08-21T13:07:28.158728Z",
     "start_time": "2024-08-21T13:07:27.954718Z"
    }
   },
   "cell_type": "code",
   "source": [
    "test_organs = np.zeros_like(test_images)\n",
    "test_organs[test_labels > 0] = test_images[test_labels > 0]"
   ],
   "id": "23b8d86c92385a14",
   "outputs": [],
   "execution_count": 28
  },
  {
   "metadata": {
    "ExecuteTime": {
     "end_time": "2024-08-21T13:07:28.174718Z",
     "start_time": "2024-08-21T13:07:28.161723Z"
    }
   },
   "cell_type": "code",
   "source": "test_organs[0].shape",
   "id": "d9959b4999795ba4",
   "outputs": [
    {
     "data": {
      "text/plain": [
       "(160, 256, 192)"
      ]
     },
     "execution_count": 29,
     "metadata": {},
     "output_type": "execute_result"
    }
   ],
   "execution_count": 29
  },
  {
   "metadata": {
    "ExecuteTime": {
     "end_time": "2024-08-21T13:24:21.984408Z",
     "start_time": "2024-08-21T13:07:28.176719Z"
    }
   },
   "cell_type": "code",
   "source": [
    "n = test_organs.shape[0]\n",
    "count = 0\n",
    "dice = 0\n",
    "mse = 0\n",
    "\n",
    "for i in range(n):\n",
    "    for j in range(n):\n",
    "        if i == j:\n",
    "            continue\n",
    "        else:\n",
    "            count += 1\n",
    "            print(f\"Step {count}/{n*n-n}:\")\n",
    "            combined_prediction = predict_organs((test_images[[i], ..., np.newaxis], test_labels[[i], ..., np.newaxis], test_images[[j], ..., np.newaxis], test_labels[[j], ..., np.newaxis]))\n",
    "            combined_prediction = np.squeeze(combined_prediction)\n",
    "            dice += dice_score_tf(test_organs[j], combined_prediction)\n",
    "            mse += np.mean(np.square(test_organs[j] - combined_prediction))\n",
    "            \n",
    "            print(\"- Current DICE: \" + str(dice / count))\n",
    "            print(\"- Current MSE: \" + str(mse / count))"
   ],
   "id": "974129729a17ac6e",
   "outputs": [
    {
     "name": "stdout",
     "output_type": "stream",
     "text": [
      "Step 1/30:\n"
     ]
    },
    {
     "name": "stderr",
     "output_type": "stream",
     "text": [
      "100%|██████████| 13/13 [00:32<00:00,  2.51s/it]\n"
     ]
    },
    {
     "name": "stdout",
     "output_type": "stream",
     "text": [
      "- Current DICE: 0.7550201416015625\n",
      "- Current MSE: 0.0012642761912008496\n",
      "Step 2/30:\n"
     ]
    },
    {
     "name": "stderr",
     "output_type": "stream",
     "text": [
      "100%|██████████| 13/13 [00:31<00:00,  2.44s/it]\n"
     ]
    },
    {
     "name": "stdout",
     "output_type": "stream",
     "text": [
      "- Current DICE: 0.7618705034255981\n",
      "- Current MSE: 0.0015145316866781555\n",
      "Step 3/30:\n"
     ]
    },
    {
     "name": "stderr",
     "output_type": "stream",
     "text": [
      "100%|██████████| 13/13 [00:30<00:00,  2.37s/it]\n"
     ]
    },
    {
     "name": "stdout",
     "output_type": "stream",
     "text": [
      "- Current DICE: 0.671040932337443\n",
      "- Current MSE: 0.0020487628081991226\n",
      "Step 4/30:\n"
     ]
    },
    {
     "name": "stderr",
     "output_type": "stream",
     "text": [
      "100%|██████████| 13/13 [00:31<00:00,  2.41s/it]\n"
     ]
    },
    {
     "name": "stdout",
     "output_type": "stream",
     "text": [
      "- Current DICE: 0.6802393645048141\n",
      "- Current MSE: 0.0019638042688240676\n",
      "Step 5/30:\n"
     ]
    },
    {
     "name": "stderr",
     "output_type": "stream",
     "text": [
      "100%|██████████| 13/13 [00:31<00:00,  2.40s/it]\n"
     ]
    },
    {
     "name": "stdout",
     "output_type": "stream",
     "text": [
      "- Current DICE: 0.6921253085136414\n",
      "- Current MSE: 0.0019524423849915464\n",
      "Step 6/30:\n"
     ]
    },
    {
     "name": "stderr",
     "output_type": "stream",
     "text": [
      "100%|██████████| 13/13 [00:31<00:00,  2.40s/it]\n"
     ]
    },
    {
     "name": "stdout",
     "output_type": "stream",
     "text": [
      "- Current DICE: 0.6905691822369894\n",
      "- Current MSE: 0.0019738034861746297\n",
      "Step 7/30:\n"
     ]
    },
    {
     "name": "stderr",
     "output_type": "stream",
     "text": [
      "100%|██████████| 13/13 [00:31<00:00,  2.41s/it]\n"
     ]
    },
    {
     "name": "stdout",
     "output_type": "stream",
     "text": [
      "- Current DICE: 0.7085156696183341\n",
      "- Current MSE: 0.0019035704303139197\n",
      "Step 8/30:\n"
     ]
    },
    {
     "name": "stderr",
     "output_type": "stream",
     "text": [
      "100%|██████████| 13/13 [00:33<00:00,  2.55s/it]\n"
     ]
    },
    {
     "name": "stdout",
     "output_type": "stream",
     "text": [
      "- Current DICE: 0.7052414640784264\n",
      "- Current MSE: 0.0019344026625634113\n",
      "Step 9/30:\n"
     ]
    },
    {
     "name": "stderr",
     "output_type": "stream",
     "text": [
      "100%|██████████| 13/13 [00:37<00:00,  2.87s/it]\n"
     ]
    },
    {
     "name": "stdout",
     "output_type": "stream",
     "text": [
      "- Current DICE: 0.7131319112247891\n",
      "- Current MSE: 0.0018705732966247698\n",
      "Step 10/30:\n"
     ]
    },
    {
     "name": "stderr",
     "output_type": "stream",
     "text": [
      "100%|██████████| 13/13 [00:33<00:00,  2.60s/it]\n"
     ]
    },
    {
     "name": "stdout",
     "output_type": "stream",
     "text": [
      "- Current DICE: 0.7251788258552552\n",
      "- Current MSE: 0.001809132794558221\n",
      "Step 11/30:\n"
     ]
    },
    {
     "name": "stderr",
     "output_type": "stream",
     "text": [
      "100%|██████████| 13/13 [00:33<00:00,  2.60s/it]\n"
     ]
    },
    {
     "name": "stdout",
     "output_type": "stream",
     "text": [
      "- Current DICE: 0.7259446599266746\n",
      "- Current MSE: 0.0018094216735943418\n",
      "Step 12/30:\n"
     ]
    },
    {
     "name": "stderr",
     "output_type": "stream",
     "text": [
      "100%|██████████| 13/13 [00:34<00:00,  2.62s/it]\n"
     ]
    },
    {
     "name": "stdout",
     "output_type": "stream",
     "text": [
      "- Current DICE: 0.7347049613793691\n",
      "- Current MSE: 0.0017331719648121418\n",
      "Step 13/30:\n"
     ]
    },
    {
     "name": "stderr",
     "output_type": "stream",
     "text": [
      "100%|██████████| 13/13 [00:36<00:00,  2.81s/it]\n"
     ]
    },
    {
     "name": "stdout",
     "output_type": "stream",
     "text": [
      "- Current DICE: 0.734033790918497\n",
      "- Current MSE: 0.0017475900608448953\n",
      "Step 14/30:\n"
     ]
    },
    {
     "name": "stderr",
     "output_type": "stream",
     "text": [
      "100%|██████████| 13/13 [00:35<00:00,  2.72s/it]\n"
     ]
    },
    {
     "name": "stdout",
     "output_type": "stream",
     "text": [
      "- Current DICE: 0.7436420576913017\n",
      "- Current MSE: 0.0016794929234996766\n",
      "Step 15/30:\n"
     ]
    },
    {
     "name": "stderr",
     "output_type": "stream",
     "text": [
      "100%|██████████| 13/13 [00:34<00:00,  2.63s/it]\n"
     ]
    },
    {
     "name": "stdout",
     "output_type": "stream",
     "text": [
      "- Current DICE: 0.7513658881187439\n",
      "- Current MSE: 0.001632792365820321\n",
      "Step 16/30:\n"
     ]
    },
    {
     "name": "stderr",
     "output_type": "stream",
     "text": [
      "100%|██████████| 13/13 [00:38<00:00,  2.98s/it]\n"
     ]
    },
    {
     "name": "stdout",
     "output_type": "stream",
     "text": [
      "- Current DICE: 0.7331932596862316\n",
      "- Current MSE: 0.001732546351390211\n",
      "Step 17/30:\n"
     ]
    },
    {
     "name": "stderr",
     "output_type": "stream",
     "text": [
      "100%|██████████| 13/13 [00:37<00:00,  2.87s/it]\n"
     ]
    },
    {
     "name": "stdout",
     "output_type": "stream",
     "text": [
      "- Current DICE: 0.7308787352898541\n",
      "- Current MSE: 0.0017246744910912205\n",
      "Step 18/30:\n"
     ]
    },
    {
     "name": "stderr",
     "output_type": "stream",
     "text": [
      "100%|██████████| 13/13 [00:31<00:00,  2.44s/it]\n"
     ]
    },
    {
     "name": "stdout",
     "output_type": "stream",
     "text": [
      "- Current DICE: 0.7270892096890343\n",
      "- Current MSE: 0.0017621184842881452\n",
      "Step 19/30:\n"
     ]
    },
    {
     "name": "stderr",
     "output_type": "stream",
     "text": [
      "100%|██████████| 13/13 [00:31<00:00,  2.40s/it]\n"
     ]
    },
    {
     "name": "stdout",
     "output_type": "stream",
     "text": [
      "- Current DICE: 0.7264309901940195\n",
      "- Current MSE: 0.0017571438700690425\n",
      "Step 20/30:\n"
     ]
    },
    {
     "name": "stderr",
     "output_type": "stream",
     "text": [
      "100%|██████████| 13/13 [00:35<00:00,  2.70s/it]\n"
     ]
    },
    {
     "name": "stdout",
     "output_type": "stream",
     "text": [
      "- Current DICE: 0.7302896320819855\n",
      "- Current MSE: 0.0017329556422869912\n",
      "Step 21/30:\n"
     ]
    },
    {
     "name": "stderr",
     "output_type": "stream",
     "text": [
      "100%|██████████| 13/13 [00:33<00:00,  2.56s/it]\n"
     ]
    },
    {
     "name": "stdout",
     "output_type": "stream",
     "text": [
      "- Current DICE: 0.7280824525015694\n",
      "- Current MSE: 0.0017502499994730375\n",
      "Step 22/30:\n"
     ]
    },
    {
     "name": "stderr",
     "output_type": "stream",
     "text": [
      "100%|██████████| 13/13 [00:37<00:00,  2.89s/it]\n"
     ]
    },
    {
     "name": "stdout",
     "output_type": "stream",
     "text": [
      "- Current DICE: 0.7314494496042078\n",
      "- Current MSE: 0.0017189016536152844\n",
      "Step 23/30:\n"
     ]
    },
    {
     "name": "stderr",
     "output_type": "stream",
     "text": [
      "100%|██████████| 13/13 [00:31<00:00,  2.40s/it]\n"
     ]
    },
    {
     "name": "stdout",
     "output_type": "stream",
     "text": [
      "- Current DICE: 0.7376485233721526\n",
      "- Current MSE: 0.001685541542722715\n",
      "Step 24/30:\n"
     ]
    },
    {
     "name": "stderr",
     "output_type": "stream",
     "text": [
      "100%|██████████| 13/13 [00:32<00:00,  2.50s/it]\n"
     ]
    },
    {
     "name": "stdout",
     "output_type": "stream",
     "text": [
      "- Current DICE: 0.73850134263436\n",
      "- Current MSE: 0.001684657434222348\n",
      "Step 25/30:\n"
     ]
    },
    {
     "name": "stderr",
     "output_type": "stream",
     "text": [
      "100%|██████████| 13/13 [00:32<00:00,  2.52s/it]\n"
     ]
    },
    {
     "name": "stdout",
     "output_type": "stream",
     "text": [
      "- Current DICE: 0.7428633165359497\n",
      "- Current MSE: 0.0016605572724948802\n",
      "Step 26/30:\n"
     ]
    },
    {
     "name": "stderr",
     "output_type": "stream",
     "text": [
      "100%|██████████| 13/13 [00:30<00:00,  2.35s/it]\n"
     ]
    },
    {
     "name": "stdout",
     "output_type": "stream",
     "text": [
      "- Current DICE: 0.7420223790865678\n",
      "- Current MSE: 0.0016688259254268268\n",
      "Step 27/30:\n"
     ]
    },
    {
     "name": "stderr",
     "output_type": "stream",
     "text": [
      "100%|██████████| 13/13 [00:30<00:00,  2.36s/it]\n"
     ]
    },
    {
     "name": "stdout",
     "output_type": "stream",
     "text": [
      "- Current DICE: 0.7460401433485525\n",
      "- Current MSE: 0.0016357197741677526\n",
      "Step 28/30:\n"
     ]
    },
    {
     "name": "stderr",
     "output_type": "stream",
     "text": [
      "100%|██████████| 13/13 [00:30<00:00,  2.37s/it]\n"
     ]
    },
    {
     "name": "stdout",
     "output_type": "stream",
     "text": [
      "- Current DICE: 0.7491197053875241\n",
      "- Current MSE: 0.0016228581152368654\n",
      "Step 29/30:\n"
     ]
    },
    {
     "name": "stderr",
     "output_type": "stream",
     "text": [
      "100%|██████████| 13/13 [00:30<00:00,  2.37s/it]\n"
     ]
    },
    {
     "name": "stdout",
     "output_type": "stream",
     "text": [
      "- Current DICE: 0.7517259737540936\n",
      "- Current MSE: 0.0016104117212720744\n",
      "Step 30/30:\n"
     ]
    },
    {
     "name": "stderr",
     "output_type": "stream",
     "text": [
      "100%|██████████| 13/13 [00:31<00:00,  2.41s/it]\n"
     ]
    },
    {
     "name": "stdout",
     "output_type": "stream",
     "text": [
      "- Current DICE: 0.7544242997964223\n",
      "- Current MSE: 0.001590063323412542\n"
     ]
    }
   ],
   "execution_count": 30
  },
  {
   "metadata": {
    "ExecuteTime": {
     "end_time": "2024-08-21T13:24:22.542040Z",
     "start_time": "2024-08-21T13:24:22.300824Z"
    }
   },
   "cell_type": "code",
   "source": [
    "print(\"Final DICE: \" + str(dice / count))\n",
    "print(\"Final MSE: \" + str(mse / count))"
   ],
   "id": "c3f8cf87433d0ee7",
   "outputs": [
    {
     "name": "stdout",
     "output_type": "stream",
     "text": [
      "Final DICE: 0.7544242997964223\n",
      "Final MSE: 0.001590063323412542\n"
     ]
    }
   ],
   "execution_count": 31
  }
 ],
 "metadata": {
  "kernelspec": {
   "display_name": "Python 3",
   "language": "python",
   "name": "python3"
  },
  "language_info": {
   "codemirror_mode": {
    "name": "ipython",
    "version": 2
   },
   "file_extension": ".py",
   "mimetype": "text/x-python",
   "name": "python",
   "nbconvert_exporter": "python",
   "pygments_lexer": "ipython2",
   "version": "2.7.6"
  }
 },
 "nbformat": 4,
 "nbformat_minor": 5
}
